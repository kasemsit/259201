{
 "cells": [
  {
   "cell_type": "markdown",
   "id": "49b165e9",
   "metadata": {},
   "source": [
    "# Collection Data Types\n",
    "\n",
    "```{admonition} Topics\n",
    "- Collection Data Types\n",
    "- ลิสต์ (List)\n",
    "- ทูเพิล (Tuple)\n",
    "- เซ็ต (Set)\n",
    "- ดิกชันนารี (Dictionary)\n",
    "- Collection of Collections\n",
    "```\n",
    "\n",
    "- Collection  คือโครงสำหรับจัดเก็บชุดข้อมูลจำนวนมากภายใต้ชื่อตัวแปรเพียง 1 ตัวแปร\n",
    "- Python มีโครงสร้างที่มาพร้อมกับตัวภาษา (built-in) ซึ่งสามารถจัดเก็บชุดข้อมูล อยู่ 4 แบบ ได้แก่ `list`, `tuple`, `set` และ `dictionary`\n",
    "- โครงสร้างแต่ละชนิดถือได้ว่าเป็น**ชนิดของตัวแปร (data types)** ที่แตกต่างกัน\n",
    "- จัดเป็นตัวแปรแบบ **Object** ซึ่งจะมีคุณสมบัติที่สำคัญ คือ\n",
    " - สามารถ**จัดเก็บข้อมูล (data)**\n",
    " - มี**ความสามารถ/คำสั่ง (method/function)** ติดตัวมาเพื่อให้เรียกใช้งานด้วย\n",
    "- การเรียกใช้ **ความสามารถ/คำสั่ง** ติดตัวเหล่านี้ จะเรียกใช้งานในลักษณะ คือ **`ชื่อตัวแปร.คำสั่ง()`**\n",
    "\n",
    "\n",
    "**หมายเหตุ:**\n",
    "\n",
    "- ในเอกสารนี้ เมื่อมีการอ้างถึงคำสั่งในรูปแบบ **`.function_name()`** (มี **`.`**  อยู่ด้านหน้าชื่อคำสั่ง) หมายความว่า คำสั่งนั้นเป็นความสามารถ/คำสั่งที่ติดตัวมากับตัวแปร **`Object`** ชนิดนั้น ๆ\n",
    "- การใช้งานคำสั่งนี้ ต้องใช้งานในรูปแบบของ **`variable_name.function_name()`**\n",
    "\n",
    "\n",
    "\n",
    "## List\n",
    "\n",
    "การใช้ตัวแปรจำนวนมาก อาจไม่เหมาะกับการทำงานกับข้อมูลจำนวนมาก เช่น\n",
    "- ชื่อของนักศึกษาหลายคน อาจใช้ตัวแปร `name1`, `name2`, `name3`, …\n",
    "- คะแนนของนักศึกษาในห้อง อาจใช้ตัวแปร `score1`, `score2`, `score3`, …\n",
    "\n",
    "ลิสต์ (List) คือการเก็บชุดข้อมูลที่เกี่ยวข้องกันจำนวนหลาย ๆ ตัวให้อยู่ภายใต้ตัวแปรเดียวกัน\n",
    "\n",
    "\n",
    "<img width=\"500\" src=\"data:image/png;base64,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\">\n",
    "\n",
    "- พื้นที่เก็บข้อมูลแต่ละช่อง คือพื้นที่สำหรับจัดเก็บข้อมูลแต่ละตัว (Element)\n",
    "- พื้นที่เก็บข้อมูลแต่ละ item จะอ้างอิงด้วย ชื่อลิสต์และหมายเลขระบุตำแหน่ง (Index)\n",
    " - `data[index]`\n",
    " - `index` มีค่าเริ่มต้นเป็น `0` เสมอ : ระบุถึงพื้นที่ตำแหน่งแรก (หรือช่องแรก)\n",
    " - `index` มีค่ามากที่สุดคือ `n-1` : ใช้ระบุพื้นที่ตำแหน่งสุดท้าย เมื่อ `n` จำนวนพื้นที่ทั้งหมดของลิสต์\n",
    "\n",
    "ลิสต์ใน Python เทียบเคียงได้กับ **array** ในภาษาคอมพิวเตอร์อื่น ๆ\n",
    "\n",
    "\n",
    "<img width=\"400\" src=\"\">\n",
    "\n",
    "\n",
    "### การสร้างลิสต์ (List Creation)\n",
    "\n",
    "- ใช้เครื่องหมาย `[...]` ในการสร้างลิสต์ โดยการระบุรายการชุดข้อมูลไว้ภายใน แล้วขั้นข้อมูลแต่ละตัวด้วย `,`\n",
    "- ลิสต์ใน Python **สามารถจัดเก็บข้อมูลหลายชนิดคละกันได้** ซึ่งต่างกับ array ในภาษาคอมพิวเตอร์อื่น ๆ ที่จัดเก็บข้อมูลได้เพียงชนิดเดียว"
   ]
  },
  {
   "cell_type": "code",
   "execution_count": null,
   "id": "0f6e237e",
   "metadata": {
    "tags": [
     "hide-output"
    ]
   },
   "outputs": [],
   "source": [
    "# empty list\n",
    "lst1 = []\n",
    "print(lst1)\n",
    "\n",
    "# list of integers\n",
    "lst2 = [1, 2, 3, 40, 50, 60]\n",
    "print(lst2)\n",
    "\n",
    "# list with mixed datatypes\n",
    "lst3 = [1, \"Hello\", 3.4]\n",
    "print(lst3)"
   ]
  },
  {
   "cell_type": "code",
   "execution_count": null,
   "id": "9059d813",
   "metadata": {
    "tags": [
     "hide-output"
    ]
   },
   "outputs": [],
   "source": [
    "# ตรวจสอบชนิดของตัวแปร lst2\n",
    "print( type(lst2) )"
   ]
  },
  {
   "cell_type": "markdown",
   "id": "766584a2",
   "metadata": {},
   "source": [
    "### List กับการรับข้อมูลจากผู้ใช้ด้วย `input().split()`\n",
    "\n",
    "ในกรณีที่เรา**ใช้ตัวแปรเพียง 1 ตัว**ในการรับค่าผลลัพธ์จาก `input().split()` ตัวแปรดังกล่าวจะเก็บข้อมูลที่ถูก split แล้วในรูปแบบของ List\n",
    "\n",
    "```python\n",
    "# data จะอยู่ในรูปแบบของ string ยาว ๆ ที่มีช่องว่างแทรก\n",
    "data = input()\n",
    "print(data)\n",
    "```\n",
    "\n",
    "```python\n",
    "# data_list จะอยู่ในรูปแบบ List ของ string สั้น ๆ ที่ถูก split มาแล้ว\n",
    "data_list = input().split()\n",
    "print(data_list)\n",
    "```\n",
    "\n",
    "\n",
    "\n",
    "เราสามารถแปลงข้อมูล `string` ที่เก็บภายใน List ให้เป็น `int` หรือ `float` ได้โดยใช้ List Comprehension ซึ่งจะสอนในโอกาศต่อไป\n",
    "\n",
    "```python\n",
    "# data_list_int จะอยู่ในรูปแบบ List ของ int ซึ่งถูกแปลงมาจาก string สั้น ๆ\n",
    "data_list_int = [int(x) for x in data_list]\n",
    "print(data_list_int)\n",
    "```\n",
    "\n",
    "\n",
    "\n",
    "### การนับจำนวนข้อมูลในลิสต์\n",
    "\n",
    "เราสามารถวัดความยาว หรือนับจำนวนข้อมูลภายในลิสต์ได้ด้วยคำสั่ง `len(ตัวแปรลิสต์)` ซึ่งจะให้ผลลัพธ์เป็น `int`"
   ]
  },
  {
   "cell_type": "code",
   "execution_count": null,
   "id": "4b173f4d",
   "metadata": {
    "tags": [
     "hide-output"
    ]
   },
   "outputs": [],
   "source": [
    "# อ้างถึงตัวแปร lst1, lst2, lst3 จากตัวอย่างก่อนหน้า\n",
    "print( len(lst1) )\n",
    "print( len(lst2) )\n",
    "print( len(lst3) )"
   ]
  },
  {
   "cell_type": "markdown",
   "id": "f61b0a8d",
   "metadata": {},
   "source": [
    "ค่า `index` มีค่าระหว่าง `0` ถึง `len()-1`"
   ]
  },
  {
   "cell_type": "code",
   "execution_count": null,
   "id": "4cf75739",
   "metadata": {
    "tags": [
     "hide-output"
    ]
   },
   "outputs": [],
   "source": [
    "a = [16.5, 2.0, 77.5, 40.0, 0.5, 11.15, 0.0, 1.0, 1.0, 1.0, 112071.5]\n",
    "print( f'len(a): {len(a)}' )\n",
    "print( a[4] )\n",
    "print( a[ len(a)-1 ] )     # ข้อมูลสุดท้ายในลิสต์"
   ]
  },
  {
   "cell_type": "markdown",
   "id": "016cef73",
   "metadata": {},
   "source": [
    "### การเข้าถึงข้อมูลในลิสต์ (List Access)"
   ]
  },
  {
   "cell_type": "code",
   "execution_count": null,
   "id": "abb29d09",
   "metadata": {
    "tags": [
     "hide-output"
    ]
   },
   "outputs": [],
   "source": [
    "# ดึงข้อมูลจากลิสต์ (ทีละ item)\n",
    "my_list = ['E','n','g','r'] # index = 0,1,2,3, len()=4\n",
    "print(my_list[0])\n",
    "print(my_list[2])\n",
    "print(my_list[3])\n",
    "print(my_list)\n",
    "print(my_list[2]+my_list[1]+my_list[2])"
   ]
  },
  {
   "cell_type": "code",
   "execution_count": null,
   "id": "73de6d4d",
   "metadata": {
    "tags": [
     "hide-output"
    ]
   },
   "outputs": [],
   "source": [
    "# กำหนดค่าข้อมูลให้กับลิสต์ (ทีละ item)\n",
    "my_list[1] = 8.0\n",
    "my_list[2] = 'hello'\n",
    "my_list[3] = True\n",
    "print(my_list)"
   ]
  },
  {
   "cell_type": "code",
   "execution_count": null,
   "id": "9300ad93",
   "metadata": {
    "tags": [
     "hide-output"
    ]
   },
   "outputs": [],
   "source": [
    "# การใช้ compound assignment operators\n",
    "my_list[1] = my_list[1]*2\n",
    "print(my_list)\n",
    "\n",
    "my_list[1] *= 2\n",
    "print(my_list)\n",
    "\n",
    "my_list[2] += \" world\"\n",
    "print(my_list)"
   ]
  },
  {
   "cell_type": "code",
   "execution_count": null,
   "id": "bea2f7a8",
   "metadata": {
    "tags": [
     "raises-exception",
     "hide-output"
    ]
   },
   "outputs": [],
   "source": [
    "# เข้าถึงข้อมูลที่ไม่มีอยู่จริง (ระบุด้วยค่า index ที่ไม่มีอยู่จริง) >> IndexError\n",
    "my_list = [10,20,30,40]\n",
    "length = len(my_list)  # length = 4\n",
    "print(my_list[ length ])"
   ]
  },
  {
   "cell_type": "code",
   "execution_count": null,
   "id": "78cdeaf3",
   "metadata": {
    "tags": [
     "hide-output"
    ]
   },
   "outputs": [],
   "source": [
    "# เมื่อ index มีเป็นค่า negative หมายถึงการดึงข้อมูลจากท้ายลิสต์ \n",
    "my_list = [10,20,30,40]\n",
    "print(my_list[-1])\n",
    "print(my_list[-4])  # ถ้าเข้าถึง index -5 ดังโค้ดต่อนี้ print(my_list[-5]) จะเกิดข้อผิดพลาด"
   ]
  },
  {
   "cell_type": "code",
   "execution_count": null,
   "id": "f96e0c26",
   "metadata": {
    "tags": [
     "raises-exception",
     "hide-output"
    ]
   },
   "outputs": [],
   "source": [
    "# เมื่อค่า index เป็นค่า float จะเกิด TypeError\n",
    "print( my_list[4/2] )"
   ]
  },
  {
   "cell_type": "markdown",
   "id": "1d75f634",
   "metadata": {},
   "source": [
    "### การเข้าถึงช่วงของข้อมูล (Slice)\n",
    "\n",
    "การเข้าถึง**ช่วงของข้อมูล**ในลิสต์ ด้วยการ **slice** โดยอาศัยการกำหนดค่า `index` เพื่อบ่งบอกช่วงของข้อมูลในรูปแบบ\n",
    "\n",
    "```python\n",
    "range_of_data = list_variable[start:stop:step]\n",
    "```\n",
    "\n",
    "- **`range_of_data`** คือ ช่วงของข้อมูลที่สนใจ มีชนิดข้อมูลเป็น `list` เช่นกัน\n",
    "- **`start`** คือ ค่า index ที่เป็น**จุดเริ่มต้น**\n",
    "- **`stop`** คือ ค่า index ที่เป็น**จุดสิ้นสุด** (แต่ไม่รวม item นี้)\n",
    "- **`step`** คือ **การเพิ่มค่า** `index` ทีละ `+step`\n",
    "\n",
    "ดังนั้น **`data[1:n]`** ได้เป็นการเข้าถึงข้อมูลตั้งแต่ **`data[1]` จนถึง `data[n-1]`** (โดยไม่รวม `data[n]`)"
   ]
  },
  {
   "cell_type": "code",
   "execution_count": null,
   "id": "11219b20",
   "metadata": {
    "tags": [
     "hide-output"
    ]
   },
   "outputs": [],
   "source": [
    "a = [16, 2, 77, 40,0,\"000\",0.0, 1,1,1,112071]\n",
    "print(a)"
   ]
  },
  {
   "cell_type": "code",
   "execution_count": null,
   "id": "22a8810d",
   "metadata": {
    "tags": [
     "hide-output"
    ]
   },
   "outputs": [],
   "source": [
    "a1 = a[0:3]     # start=0, stop=3 >> [0,1,2]\n",
    "a2 = a[2:6]     # start=2, stop=6 >> [2,3,4,5]\n",
    "print( a1 )\n",
    "print( a2 )"
   ]
  },
  {
   "cell_type": "code",
   "execution_count": null,
   "id": "0718b79f",
   "metadata": {
    "tags": [
     "hide-output"
    ]
   },
   "outputs": [],
   "source": [
    "print( a[0:len(a)-1])    # start=0, stop=11 >> [0,1,2,...,10]\n",
    "print( a[0:len(a)-1:2])  # start=0, stop=11, step=2 >> [0,2,4,6,8,10]"
   ]
  },
  {
   "cell_type": "code",
   "execution_count": null,
   "id": "4a2b1075",
   "metadata": {
    "tags": [
     "hide-output"
    ]
   },
   "outputs": [],
   "source": [
    "a4 = a[:6]       # start=0, stop=6  >> [0,1,2,3,4,5]\n",
    "a5 = a[4:]       # start=4, stop=11 >> [4,5,6,7,8,9,10]\n",
    "print(a4)\n",
    "print(a5)"
   ]
  },
  {
   "cell_type": "code",
   "execution_count": null,
   "id": "5420219b",
   "metadata": {
    "tags": [
     "hide-output"
    ]
   },
   "outputs": [],
   "source": [
    "a[0:3] = [1,1,1]\n",
    "print(a)"
   ]
  },
  {
   "cell_type": "markdown",
   "id": "a901a501",
   "metadata": {},
   "source": [
    "### การเพิ่มข้อมูลลงในลิสต์\n",
    "\n",
    "ตัวแปร List มีความสามารถ/คำสั่งติดตัว ที่ช่วยในการเพิ่มข้อมูลใหม่ให้กับ List คือ\n",
    "- `.append()` เพิ่มข้อมูล**ต่อท้าย** List\n",
    "- `.insert()` **แทรกข้อมูล**ในตำแหน่ง `index` ที่ต้องการ\n",
    "\n",
    "นอกจากนี้ยังมี `operator` ที่ช่วยในการเพิ่มข้อมูลต่อท้าย List ได้แก่\n",
    "- `+` ใช้**เชื่อมต่อ** List เข้าด้วยกัน (concatenation)\n",
    "- `*` ใช้เพิ่มข้อมูลให้มีหลายชุดตาม**จำนวน**ที่ต้องการ"
   ]
  },
  {
   "cell_type": "code",
   "execution_count": null,
   "id": "98819cb5",
   "metadata": {
    "tags": [
     "hide-output"
    ]
   },
   "outputs": [],
   "source": [
    "data = [1,5,7,9]\n",
    "data.append(11)       # เพิ่ม 11 ต่อท้ายลิสต์\n",
    "print(data)\n",
    "\n",
    "data.insert(1,3)      # แทรก 3 ในตำแหน่ง index=1\n",
    "print(data)"
   ]
  },
  {
   "cell_type": "code",
   "execution_count": null,
   "id": "762c6e9a",
   "metadata": {
    "tags": [
     "hide-output"
    ]
   },
   "outputs": [],
   "source": [
    "a = [10,30,50]\n",
    "b = [20,40,60]\n",
    "c = a+b\n",
    "print(c)"
   ]
  },
  {
   "cell_type": "code",
   "execution_count": null,
   "id": "5c7cbc31",
   "metadata": {
    "tags": [
     "hide-output"
    ]
   },
   "outputs": [],
   "source": [
    "d = a*2\n",
    "print(d)\n",
    "\n",
    "print(a*2+b*2)"
   ]
  },
  {
   "cell_type": "markdown",
   "id": "823e08e4",
   "metadata": {},
   "source": [
    "### การลบข้อมูลจากลิสต์\n",
    "\n",
    "ตัวแปร List มีคำสั่งติดตัวที่ใช้ในการลบข้อมูล คือ\n",
    "- `.remove()` ลบข้อมูลที่มีค่าตามที่ระบุจาก List\n",
    "- `.pop()` ลบข้อมูลในตำแหน่ง `index` ที่ระบุออกจาก List\n",
    "- `.clear()` ลบข้อมูลทั้งหมดจาก List"
   ]
  },
  {
   "cell_type": "code",
   "execution_count": null,
   "id": "21efcc68",
   "metadata": {
    "tags": [
     "hide-output"
    ]
   },
   "outputs": [],
   "source": [
    "x = [1,2,3,4,5,0,5,6,7,8,9]\n",
    "\n",
    "# ลบ 5 ตัวแรกที่พบใน List\n",
    "x.remove(5)\n",
    "print(x)"
   ]
  },
  {
   "cell_type": "code",
   "execution_count": null,
   "id": "1c4d503b",
   "metadata": {
    "tags": [
     "raises-exception",
     "hide-output"
    ]
   },
   "outputs": [],
   "source": [
    "# ลบข้อมูลที่ไม่มีอยู่ใน List จะเกิด error\n",
    "x.remove(100)"
   ]
  },
  {
   "cell_type": "code",
   "execution_count": null,
   "id": "d6f6a7b2",
   "metadata": {
    "tags": [
     "hide-output"
    ]
   },
   "outputs": [],
   "source": [
    "# หากไม่ระบุ index ข้อมูลที่ต้องการลบ จะเป็นการลบข้อมูลตัวท้ายสุดใน List\n",
    "# ข้อมูลที่ถูกลบจาก List จะถูกเก็บที่ตัวแปร y\n",
    "y = x.pop()\n",
    "print(y, x)\n",
    "\n",
    "# ถ้าระบุ index จะลบข้อมูล ณ ตำแหน่งนั้นออกจาก List\n",
    "y = x.pop(1)\n",
    "print(y, x)"
   ]
  },
  {
   "cell_type": "code",
   "execution_count": null,
   "id": "b2149f91",
   "metadata": {
    "tags": [
     "hide-output"
    ]
   },
   "outputs": [],
   "source": [
    "print(x)\n",
    "\n",
    "# ลบข้อมูลทั้งหมดจาก List\n",
    "x.clear()\n",
    "print(x)"
   ]
  },
  {
   "cell_type": "markdown",
   "id": "e0d595a0",
   "metadata": {},
   "source": [
    "### การค้นหาข้อมูลในลิสต์\n",
    "\n",
    "ตัวแปร List มีคำสั่งติดตัวที่ใช้ในการค้นหาข้อมูล คือ\n",
    "- `.index()` ได้ค่า `index` ที่ระบุตำแหน่งของข้อมูลที่พบ\n",
    "- `.count()` ค้นหาและน้บจำนวนข้อมูลที่สนใจ"
   ]
  },
  {
   "cell_type": "code",
   "execution_count": null,
   "id": "5db80b4c",
   "metadata": {
    "tags": [
     "hide-output"
    ]
   },
   "outputs": [],
   "source": [
    "x = [1,5,2,3,4,5,0,5,6,7,8,9]*3\n",
    "print(x)"
   ]
  },
  {
   "cell_type": "code",
   "execution_count": null,
   "id": "2008b32a",
   "metadata": {
    "tags": [
     "hide-output"
    ]
   },
   "outputs": [],
   "source": [
    "# ค้นหาว่า 0 ตัวแรกใน List อยู่ที่ index ตำแหน่งใด\n",
    "# พบเลข 0 อยู่ในตำแหน่ง index=6\n",
    "idx = x.index(0)\n",
    "print(idx)"
   ]
  },
  {
   "cell_type": "code",
   "execution_count": null,
   "id": "6356469b",
   "metadata": {
    "tags": [
     "hide-output"
    ]
   },
   "outputs": [],
   "source": [
    "# ค้นหา 0 ตั้งแต่ตำแหน่ง index=7 เป็นต้นไป\n",
    "idx = x.index(0,idx+1)\n",
    "print(idx)"
   ]
  },
  {
   "cell_type": "code",
   "execution_count": null,
   "id": "786c2d8b",
   "metadata": {
    "tags": [
     "raises-exception",
     "hide-output"
    ]
   },
   "outputs": [],
   "source": [
    "# ค้นหาข้อมูลที่ไม่มีใน List จะทำให้เกิด error\n",
    "idx = x.index(100)\n",
    "print(idx)"
   ]
  },
  {
   "cell_type": "code",
   "execution_count": null,
   "id": "474d7f09",
   "metadata": {
    "tags": [
     "hide-output"
    ]
   },
   "outputs": [],
   "source": [
    "# นับจำนวน 5 ทั้งหมดใน List\n",
    "print( x.count(5) )\n",
    "\n",
    "# นับจำนวนข้อมูลที่ไม่มีใน List ได้ผลลัพธ์เป็น 0 (ไม่ error)\n",
    "print( x.count(100) )"
   ]
  },
  {
   "cell_type": "markdown",
   "id": "1784fda2",
   "metadata": {},
   "source": [
    "### การเรียงลำดับข้อมูลในลิสต์\n",
    "\n",
    "ตัวแปร List มีคำสั่งติดตัวที่ใช้ในการเรียงลำดับข้อมูล คือ\n",
    "- `.sort()` สำหรับการเรียงลำดับข้อมูลจาก **น้อยไปหามาก (ascending order)**\n",
    "- `.reverse()` สำหรับการเรียงลำดับข้อมูลจาก **item สุดท้ายกลับมายัง item แรก**"
   ]
  },
  {
   "cell_type": "code",
   "execution_count": null,
   "id": "fe7f7be8",
   "metadata": {
    "tags": [
     "hide-output"
    ]
   },
   "outputs": [],
   "source": [
    "c = [10, 30, 50, 20, 40, 60]*2\n",
    "print(c)\n",
    "\n",
    "# เรียงข้อมูลจากน้อยไปหามาก\n",
    "c.sort()\n",
    "print(c)\n",
    "\n",
    "# เรียงจาก item สุดท้ายย้อนกลับมา item แรก\n",
    "# ในกรณีนี้ คือ การเอาข้อมูลที่เรียงจากน้อยไปหามากแล้ว นำมาแสดงค่ากลับด้าน\n",
    "# จึงเท่ากับ การเรียงข้อมูลจากมากไปหาน้อย (descending order)\n",
    "c.reverse()\n",
    "print(c)"
   ]
  },
  {
   "cell_type": "code",
   "execution_count": null,
   "id": "3fb67e52",
   "metadata": {
    "tags": [
     "hide-output"
    ]
   },
   "outputs": [],
   "source": [
    "names = [\"Ann\", \"Kenneth\", \"Chad\", \"Aaron\", \"Bill\", \"Conan\"]\n",
    "print(names)\n",
    "names.sort()\n",
    "print(names)\n",
    "names.reverse()\n",
    "print(names)"
   ]
  },
  {
   "cell_type": "markdown",
   "id": "8decec14",
   "metadata": {},
   "source": [
    "### การคำนวณทางสถิติ (Simple Statistics)\n",
    "\n",
    "หากต้องการคำนวณหาค่าทางสถิติอย่างง่าย สามารถใช้คำสั่งต่อไปนี้\n",
    "- `min()` หาค่าต่ำสุด (minimum)\n",
    "- `max()` หาค่าสูงสุด (maximum)\n",
    "- `sum()` หาค่าผลรวม (summation)\n",
    "\n",
    "**หมายเหตุ:** `min()`, `max()`, `sum()` ไม่ใช่คำสั่งที่เป็นความสามารถติดตัวมากับ List"
   ]
  },
  {
   "cell_type": "code",
   "execution_count": null,
   "id": "beb36822",
   "metadata": {
    "tags": [
     "hide-output"
    ]
   },
   "outputs": [],
   "source": [
    "x = [3,5,5,3,4,5,0,9,5,6,7,8,4,8,3]\n",
    "\n",
    "print( len(x) )\n",
    "print( min(x) )\n",
    "print( max(x) )\n",
    "print( sum(x) )\n",
    "\n",
    "# หาค่าเฉลี่ย\n",
    "print( sum(x)/len(x) )"
   ]
  },
  {
   "cell_type": "code",
   "execution_count": null,
   "id": "e91e1508",
   "metadata": {
    "tags": [
     "hide-output"
    ]
   },
   "outputs": [],
   "source": [
    "# หาค่า maximum\n",
    "mx = max(x)\n",
    "# หาว่าค่า maximum อยู่ในตำแหน่ง index ใด\n",
    "idx_mx = x.index(mx)\n",
    "\n",
    "print(idx_mx)\n",
    "print(x[idx_mx])"
   ]
  },
  {
   "cell_type": "markdown",
   "id": "619f3295",
   "metadata": {},
   "source": [
    "## Tuple\n",
    "\n",
    "- มีการเก็บข้อมูลในลักษณะเดียวกันกับลิสต์ แต่**ไม่สามารถเปลี่ยนแปลงค่าข้อมูลสมาชิกในภายหลังได้ (immutable)**\n",
    "- ใช้เครื่องหมายวงเล็บ `(...)` ในการสร้าง **tuple** โดยการระบุรายการชุดข้อมูลไว้ภายใน แล้วขั้นข้อมูลแต่ละตัวด้วย `,`\n",
    "```python\n",
    "tuple_variable = (item1, item2, item3, ...)\n",
    "```\n",
    "\n",
    "- การอ้างอิงข้อมูลแต่ละ `item` จะใช้ค่า `index` ซึ่งเป็นค่า `int` เหมือนกันกับลิสต์"
   ]
  },
  {
   "cell_type": "code",
   "execution_count": null,
   "id": "4d9938e3",
   "metadata": {
    "tags": [
     "hide-output"
    ]
   },
   "outputs": [],
   "source": [
    "# สร้าง tuple ที่ไม่มีข้อมูลภายใน (empty tuple)\n",
    "emp_tup = ()\n",
    "print( emp_tup )"
   ]
  },
  {
   "cell_type": "code",
   "execution_count": null,
   "id": "cdbcc307",
   "metadata": {
    "tags": [
     "hide-output"
    ]
   },
   "outputs": [],
   "source": [
    "tup1 = (100,200,300,400,500,2.5,3.5,4.5,'hello')\n",
    "print(tup1)\n",
    "print( tup1[4] )\n",
    "print( tup1[0]+tup1[4] )\n",
    "print( tup1[-1] )"
   ]
  },
  {
   "cell_type": "code",
   "execution_count": null,
   "id": "2e6512e0",
   "metadata": {
    "tags": [
     "hide-output"
    ]
   },
   "outputs": [],
   "source": [
    "# ตรวจสอบชนิดของตัวแปร tup1\n",
    "print( type(tup1) )"
   ]
  },
  {
   "cell_type": "markdown",
   "id": "01e0c83a",
   "metadata": {},
   "source": [
    "### การนับจำนวนข้อมูลใน Tuple\n",
    "\n",
    "สามารถใช้คำสั่ง **`len(tuple_variable)`** ใน การนับจำนวนข้อมูลในทูเพิลได้เช่นกัน"
   ]
  },
  {
   "cell_type": "code",
   "execution_count": null,
   "id": "092e0a11",
   "metadata": {
    "tags": [
     "hide-output"
    ]
   },
   "outputs": [],
   "source": [
    "print( len(tup1) )"
   ]
  },
  {
   "cell_type": "markdown",
   "id": "dea9ea5e",
   "metadata": {},
   "source": [
    "**Tuple รองรับการ slice เช่นกัน**"
   ]
  },
  {
   "cell_type": "code",
   "execution_count": null,
   "id": "630f891c",
   "metadata": {
    "tags": [
     "hide-output"
    ]
   },
   "outputs": [],
   "source": [
    "print(tup1)\n",
    "print( tup1[0:4] )\n",
    "print( tup1[0:10:3] )"
   ]
  },
  {
   "cell_type": "markdown",
   "id": "2670a3ac",
   "metadata": {},
   "source": [
    "**Tuple ไม่รองรับการแก้ไข**"
   ]
  },
  {
   "cell_type": "code",
   "execution_count": null,
   "id": "2f8b2118",
   "metadata": {
    "tags": [
     "raises-exception",
     "hide-output"
    ]
   },
   "outputs": [],
   "source": [
    "# โค้ดนี้ควรจะแสดงค่า error\n",
    "tup1[0] = 1000"
   ]
  },
  {
   "cell_type": "markdown",
   "id": "62a1b1f0",
   "metadata": {},
   "source": [
    "### การแปลงค่าระหว่าง Tuple และ List\n",
    "\n",
    "หากต้องการแปลงค่าระหว่าง Tuple และ List สามารถทำได้ด้วยคำสั่ง\n",
    "- `list(ตัวแปร tuple)` ได้ผลลัพธ์เป็น `List`\n",
    "- `tuple(ตัวแปร list)` ได้ผลลัพธ์เป็น `Tuple`"
   ]
  },
  {
   "cell_type": "code",
   "execution_count": null,
   "id": "9b965c36",
   "metadata": {
    "tags": [
     "hide-output"
    ]
   },
   "outputs": [],
   "source": [
    "x_tuple = (\"apple\", \"banana\", \"cherry\")\n",
    "print( type(x_tuple), x_tuple )\n",
    "print()\n",
    "\n",
    "# แปลง Tuple เป็น List\n",
    "x_list = list(x_tuple)\n",
    "print( type(x_list), x_list)\n",
    "print()\n",
    "\n",
    "# แก้ไข List\n",
    "x_list[1] = \"kiwi\"\n",
    "x_list.append(\"orange\")\n",
    "\n",
    "# แปลง List กลับเป็น Tuple\n",
    "x_tuple = tuple(x_list)\n",
    "print( type(x_tuple), x_tuple )"
   ]
  },
  {
   "cell_type": "markdown",
   "id": "c0fb2f3c",
   "metadata": {},
   "source": [
    "---\n",
    "## Set\n",
    "\n",
    "- ใช้จัดเก็บชุดข้อมูลที่จะนำมาประมวลผลแบบเซ็ตในทางคณิตศาสตร์\n",
    "- ใช้เครื่องหมาย `{...}` ในการสร้าง **set** โดยการระบุรายการชุดข้อมูลไว้ภายใน แล้วขั้นข้อมูลแต่ละตัวด้วย `,`\n",
    "- **ไม่สามารถเก็บข้อมูลซ้ำกันได้ (unique)**\n",
    "- ไม่รองรับการอ้างอิงข้อมูลด้วยค่า `index` เนื่องจากการเก็บข้อมูลไม่มีลำดับ (unordered)\n",
    "- รองรับตัวดำเนินการแบบ `Union`, `intersection`, `-`"
   ]
  },
  {
   "cell_type": "markdown",
   "id": "695318a9",
   "metadata": {
    "id": "DlXeP5DWKAjh"
   },
   "source": [
    "### การสร้าง Set"
   ]
  },
  {
   "cell_type": "code",
   "execution_count": null,
   "id": "fe66cb4d",
   "metadata": {
    "tags": [
     "hide-output"
    ]
   },
   "outputs": [],
   "source": [
    "# Set\n",
    "a = {1,2,2,3,3,5,8}\n",
    "b = {1,2,'hello','hello','Hello',3.78}\n",
    "print(a)\n",
    "print(b)"
   ]
  },
  {
   "cell_type": "code",
   "execution_count": null,
   "id": "67d1ce2e",
   "metadata": {
    "tags": [
     "hide-output"
    ]
   },
   "outputs": [],
   "source": [
    "# ตรวจสอบชนิดของตัวแปร a\n",
    "print( type(a) )"
   ]
  },
  {
   "cell_type": "code",
   "execution_count": null,
   "id": "e09d9a6e",
   "metadata": {
    "tags": [
     "hide-output"
    ]
   },
   "outputs": [],
   "source": [
    "# empty set\n",
    "emp_set = set()\n",
    "print(emp_set)\n",
    "print( type(emp_set) )"
   ]
  },
  {
   "cell_type": "markdown",
   "id": "3a7df921",
   "metadata": {},
   "source": [
    "### การนับจำนวนข้อมูลใน Set\n",
    "\n",
    "สามารถใช้คำสั่ง **len(set_variable)** ในการนับจำนวนข้อมูลใน set ได้เช่นกัน"
   ]
  },
  {
   "cell_type": "code",
   "execution_count": null,
   "id": "14beb115",
   "metadata": {
    "tags": [
     "hide-output"
    ]
   },
   "outputs": [],
   "source": [
    "print( len(b) )"
   ]
  },
  {
   "cell_type": "markdown",
   "id": "4eb64953",
   "metadata": {},
   "source": [
    "### Union และ Intersection"
   ]
  },
  {
   "cell_type": "code",
   "execution_count": null,
   "id": "11c13b82",
   "metadata": {
    "tags": [
     "hide-output"
    ]
   },
   "outputs": [],
   "source": [
    "print(a)\n",
    "print(b)\n",
    "print()\n",
    "\n",
    "# Union\n",
    "c = a.union(b)\n",
    "d = a | b\n",
    "print(f'c = a.union(b): {c}')\n",
    "print(f'd = a | b     : {d}')\n",
    "print()\n",
    "\n",
    "# Intersection\n",
    "c = a.intersection(b)\n",
    "d = a & b\n",
    "print(f'c = a.intersection(b): {c}')\n",
    "print(f'd = a & b            : {d}')\n",
    "print()"
   ]
  },
  {
   "cell_type": "markdown",
   "id": "897c7846",
   "metadata": {},
   "source": [
    "### การหาผลต่างของ Set"
   ]
  },
  {
   "cell_type": "code",
   "execution_count": null,
   "id": "4ed3d5d6",
   "metadata": {
    "tags": [
     "hide-output"
    ]
   },
   "outputs": [],
   "source": [
    "print(f'a-b: {a-b}')\n",
    "print(f'b-a: {b-a}')"
   ]
  },
  {
   "cell_type": "markdown",
   "id": "20b13349",
   "metadata": {},
   "source": [
    "### การตรวจสอบคุณบัติ ความเป็น subset\n",
    "\n",
    "ใช้คำสั่งที่ติดตัวมากับตัวแปร set คือ `.issubset()`"
   ]
  },
  {
   "cell_type": "code",
   "execution_count": null,
   "id": "289091be",
   "metadata": {
    "tags": [
     "hide-output"
    ]
   },
   "outputs": [],
   "source": [
    "a = {1,2,2,3,3,5,8}\n",
    "z = {3,5}\n",
    "\n",
    "print(z.issubset(a))  # z เป็น subset ของ a? True\n",
    "print(a.issubset(z))  # a เป็น subset ของ z? False"
   ]
  },
  {
   "cell_type": "markdown",
   "id": "1e9376c5",
   "metadata": {},
   "source": [
    "หากพยายามเข้าถึงข้อมูลใน set ด้วย `index` จะทำให้เกิด error เนื่องจาก set ไม่รองรับการอ้างอิงด้วย `index`"
   ]
  },
  {
   "cell_type": "code",
   "execution_count": null,
   "id": "7c2cd6f5",
   "metadata": {
    "tags": [
     "raises-exception",
     "hide-output"
    ]
   },
   "outputs": [],
   "source": [
    "print(a[3])"
   ]
  },
  {
   "cell_type": "markdown",
   "id": "6702f2ac",
   "metadata": {},
   "source": [
    "นอกจากนี้ set ยังไม่รองรับการแก้ไขค่าโดยตรงเช่นกัน"
   ]
  },
  {
   "cell_type": "code",
   "execution_count": null,
   "id": "4df51578",
   "metadata": {
    "tags": [
     "raises-exception",
     "hide-output"
    ]
   },
   "outputs": [],
   "source": [
    "a[3] = 100\n",
    "print(a)"
   ]
  },
  {
   "cell_type": "markdown",
   "id": "54834103",
   "metadata": {},
   "source": [
    "### การเพิ่มข้อมูลและลบข้อมูลใน Set\n",
    "\n",
    "ตัวแปร Set มีคำสั่งติดตัวที่ใช้ในการจัดการข้อมูล คือ\n",
    "- `.add()`\n",
    "- `.update()`\n",
    "- `.remove()`\n",
    "- `.discard()`\n",
    "- `.clear()`"
   ]
  },
  {
   "cell_type": "code",
   "execution_count": null,
   "id": "c6d0da36",
   "metadata": {
    "tags": [
     "hide-output"
    ]
   },
   "outputs": [],
   "source": [
    "a = {1,2,2,3,3,5,8}\n",
    "\n",
    "# เพิ่มข้อมูลทีละตัว\n",
    "a.add(10)\n",
    "print(a)"
   ]
  },
  {
   "cell_type": "code",
   "execution_count": null,
   "id": "25927ff2",
   "metadata": {
    "tags": [
     "hide-output"
    ]
   },
   "outputs": [],
   "source": [
    "# เพิ่มข้อมูลจาก set อื่น\n",
    "a.update({100,200,300})\n",
    "print(a)"
   ]
  },
  {
   "cell_type": "code",
   "execution_count": null,
   "id": "407e6e75",
   "metadata": {
    "tags": [
     "hide-output"
    ]
   },
   "outputs": [],
   "source": [
    "# ลบค่า 100 จาก Set\n",
    "a.remove(100)\n",
    "print(a)"
   ]
  },
  {
   "cell_type": "code",
   "execution_count": null,
   "id": "94bf5d18",
   "metadata": {
    "tags": [
     "raises-exception",
     "hide-output"
    ]
   },
   "outputs": [],
   "source": [
    "# remove ค่าที่ไม่มีใน Set ทำให้เกิด error\n",
    "a.remove(1000)\n",
    "print(a)"
   ]
  },
  {
   "cell_type": "code",
   "execution_count": null,
   "id": "e2cf1c26",
   "metadata": {
    "tags": [
     "hide-output"
    ]
   },
   "outputs": [],
   "source": [
    "# แต่ discard ค่าที่ไม่มีใน Set ไม่ทำให้เกิด error\n",
    "a.discard(1000)\n",
    "print(a)"
   ]
  },
  {
   "cell_type": "code",
   "execution_count": null,
   "id": "86c46ce0",
   "metadata": {
    "tags": [
     "hide-output"
    ]
   },
   "outputs": [],
   "source": [
    "# ลบค่าทั้งหมดจาก Set\n",
    "print(a)\n",
    "a.clear()\n",
    "print(a)"
   ]
  },
  {
   "cell_type": "markdown",
   "id": "27344131",
   "metadata": {},
   "source": [
    "## Dictionary\n",
    "\n",
    "- เก็บข้อมูลเป็น item คล้ายกับลิสต์ แต่ใช้ค่า **key** ในการอ้างอิงข้อมูลแทน index แบบตัวเลข\n",
    "- ค่า **key** สำหรับการอ้างอิง สามารถเป็นข้อมูลแบบ `int`, `float`, `string`, `tuple` ก็ได้\n",
    "- ค่า **key** เมื่อกำหนดไปแล้ว **จะไม่สามารถเปลี่ยนแปลงได้**\n",
    "\n",
    "\n",
    "### การสร้าง Dictionary"
   ]
  },
  {
   "cell_type": "code",
   "execution_count": null,
   "id": "346666bc",
   "metadata": {
    "tags": [
     "hide-output"
    ]
   },
   "outputs": [],
   "source": [
    "# สร้าง empty dictionary\n",
    "person1 = {}\n",
    "print(person1)\n",
    "print( type(person1) )"
   ]
  },
  {
   "cell_type": "code",
   "execution_count": null,
   "id": "8488766c",
   "metadata": {
    "tags": [
     "hide-output"
    ]
   },
   "outputs": [],
   "source": [
    "# กำหนด key เป็นข้อมูลแบบ string ได้แก่\n",
    "# \"name\", \"isMale\", \"midterm\" และ \"final\"\n",
    "\n",
    "person2 = {\"name\":\"Harry Potter\", \"isMale\": True, \"midterm\":25, \"final\":30}\n",
    "print(person2)\n",
    "print( type(person2) )"
   ]
  },
  {
   "cell_type": "markdown",
   "id": "eea248b8",
   "metadata": {},
   "source": [
    "### การเข้าถึงข้อมูลภายใน Dict ด้วย key"
   ]
  },
  {
   "cell_type": "code",
   "execution_count": null,
   "id": "6543e97d",
   "metadata": {
    "tags": [
     "hide-output"
    ]
   },
   "outputs": [],
   "source": [
    "# การดึงข้อมูล item จากใน Dict, ดึงข้อมูลโดยใช้ key\n",
    "std_name = person2[\"name\"]\n",
    "std_score = person2[\"midterm\"] + person2[\"final\"]\n",
    "\n",
    "print(f'{std_name} got {std_score}/100 in Python programming.')"
   ]
  },
  {
   "cell_type": "code",
   "execution_count": null,
   "id": "3cba14b8",
   "metadata": {
    "tags": [
     "hide-output"
    ]
   },
   "outputs": [],
   "source": [
    "# การกำหนดค่าให้ item ใน Dict, กำหนดค่าให้กับ key\n",
    "person2[\"name\"] = \"Rionel Messi\"\n",
    "print(person2)"
   ]
  },
  {
   "cell_type": "code",
   "execution_count": null,
   "id": "f66ad329",
   "metadata": {
    "tags": [
     "raises-exception",
     "hide-output"
    ]
   },
   "outputs": [],
   "source": [
    "# ดึงข้อมูลด้วย key ที่ไม่มีอยู่ใน Dict\n",
    "print( person2[\"address\"] )"
   ]
  },
  {
   "cell_type": "markdown",
   "id": "1d64c03e",
   "metadata": {},
   "source": [
    "### การเพิ่มข้อมูลให้กับ Dict\n",
    "\n",
    "เราสามารถเพิ่มข้อมูล item ใหม่ใน Dict ได้ด้วยการ**กำหนดค่าให้กับ `key` ที่ไม่เคยมีมาก่อนใน Dict**"
   ]
  },
  {
   "cell_type": "code",
   "execution_count": null,
   "id": "a046e6bf",
   "metadata": {
    "tags": [
     "hide-output"
    ]
   },
   "outputs": [],
   "source": [
    "print(person2)\n",
    "\n",
    "# เพิ่มข้อมูล 2 รายการ โดยใช้ key คือ \"weight\" และ \"height\"\n",
    "person2[\"weight\"] = 65.25\n",
    "person2[\"height\"] = 180.0\n",
    "print(person2)"
   ]
  },
  {
   "cell_type": "markdown",
   "id": "ac6d4963",
   "metadata": {},
   "source": [
    "### การลบข้อมูลจาก Dict\n",
    "\n",
    "ตัวแปร Dict มีคำสั่งติดตัวสำหรับการลบข้อมูล เช่น\n",
    "- `.pop()` ลบข้อมูลด้วยค่า `key` ที่ระบุ\n",
    "- `.popitem()` ลบข้อมูลรายการสุดท้ายใน Dict\n",
    "- `.clear()`ลบข้อมูลทั้งหมดใน Dict"
   ]
  },
  {
   "cell_type": "code",
   "execution_count": null,
   "id": "1d8b547c",
   "metadata": {
    "tags": [
     "hide-output"
    ]
   },
   "outputs": [],
   "source": [
    "d1 = {'name': 'Rionel Messi', 'isMale': True, 'midterm': 25, 'final': 30, 'weight': 65.25, 'height': 180.0}\n",
    "print(d1)"
   ]
  },
  {
   "cell_type": "code",
   "execution_count": null,
   "id": "52b8b8a3",
   "metadata": {
    "tags": [
     "hide-output"
    ]
   },
   "outputs": [],
   "source": [
    "# ดึงข้อมูลที่ใช้ key มีค่าเท่ากับ height ออกจาก Dict\n",
    "# ข้อมูลที่ดึงออกมาสามารถเอาไปใช้งานต่อได้\n",
    "height = d1.pop('height')\n",
    "print(d1)\n",
    "print(height)"
   ]
  },
  {
   "cell_type": "code",
   "execution_count": null,
   "id": "fd0fa46f",
   "metadata": {
    "tags": [
     "raises-exception",
     "remove-output"
    ]
   },
   "outputs": [],
   "source": [
    "# pop ข้อมูลโดยระบุ key ที่ไม่มีอยู่ ทำให้เกิด error\n",
    "team = d1.pop('team')\n",
    "print(d1)\n",
    "print(team)"
   ]
  },
  {
   "cell_type": "code",
   "execution_count": null,
   "id": "a04bf929",
   "metadata": {
    "tags": [
     "raises-exception",
     "remove-output"
    ]
   },
   "outputs": [],
   "source": [
    "# pop ข้อมูลโดยไม่ระบุ key ทำให้เกิด error\n",
    "thing = d1.pop()\n",
    "print(d1)\n",
    "print(thing)"
   ]
  },
  {
   "cell_type": "code",
   "execution_count": null,
   "id": "383b324d",
   "metadata": {
    "tags": [
     "hide-output"
    ]
   },
   "outputs": [],
   "source": [
    "print(d1)\n",
    "\n",
    "# popitem จะดึงข้อมูลตัวสุดท้ายออกจาก Dict\n",
    "# ข้อมูลที่ถูกดึงออกมาอยู่ในรูปแบบ Tuple (key,value)\n",
    "thing = d1.popitem()\n",
    "print(d1)\n",
    "print(thing)"
   ]
  },
  {
   "cell_type": "code",
   "execution_count": null,
   "id": "b231ab35",
   "metadata": {
    "tags": [
     "hide-output"
    ]
   },
   "outputs": [],
   "source": [
    "d1.clear()\n",
    "print(d1)"
   ]
  },
  {
   "cell_type": "markdown",
   "id": "29438f72",
   "metadata": {},
   "source": [
    "### การนับจำนวนข้อมูลใน Dict"
   ]
  },
  {
   "cell_type": "code",
   "execution_count": null,
   "id": "4b9026f8",
   "metadata": {
    "tags": [
     "hide-output"
    ]
   },
   "outputs": [],
   "source": [
    "print(person2)\n",
    "print(f'len(person2): {len(person2)}')"
   ]
  },
  {
   "cell_type": "markdown",
   "id": "72f3b2ca",
   "metadata": {},
   "source": [
    "### การดูรายการ key ทั้งหมดใน Dict\n",
    "\n",
    "สามารถใช้คำสั่ง `.keys()` ในการแสดงรายการ `key` ทั้งหมดได้"
   ]
  },
  {
   "cell_type": "code",
   "execution_count": null,
   "id": "90501963",
   "metadata": {
    "tags": [
     "hide-output"
    ]
   },
   "outputs": [],
   "source": [
    "print(person2)\n",
    "\n",
    "# ดึงค่า key ทั้งหมดใน person2\n",
    "person2_keys = person2.keys()\n",
    "\n",
    "print(person2_keys)\n",
    "print( list(person2_keys) )"
   ]
  },
  {
   "cell_type": "markdown",
   "id": "15d51daa",
   "metadata": {},
   "source": [
    "### การดูรายการข้อมูลทั้งหมดใน Dict\n",
    "\n",
    "สามารถใช้คำสั่ง `.items()` ในการแสดงรายการข้อมูลทั้งหมดใน Dict ได้\n",
    "\n",
    "สังเกตุได้ว่าผลลัพธ์ที่ได้จะอยู่ในรูปแบบ **`List ของ Tuple จำนวนมาก`**\n",
    "\n",
    "```\n",
    "[(key1, value1),(key2, value2),(key3, value3),...,(keyN,valueN)]\n",
    "```"
   ]
  },
  {
   "cell_type": "code",
   "execution_count": null,
   "id": "fae80600",
   "metadata": {
    "tags": [
     "hide-output"
    ]
   },
   "outputs": [],
   "source": [
    "person2_items = person2.items()\n",
    "print(person2_items)\n",
    "print( list(person2_items) )"
   ]
  },
  {
   "cell_type": "markdown",
   "id": "b2f991b7",
   "metadata": {},
   "source": [
    "## Collection of Collections\n",
    "\n",
    "ในกรณีที่ข้อมูลมีความซับซ้อน เราสามารถจัดเก็บข้อมูลในรูปแบบของ Collection ซ้อน Collection ได้ เช่น\n",
    "\n",
    "- `List of List`\n",
    "- `List of Dict`\n",
    "- `Dict of List`\n",
    "- ...\n",
    "\n",
    "**หมายเหตุ:** ในทางการเขียนโปรแกรมบางครั้งจะเรียกว่า **nested collection**\n",
    "\n",
    "\n",
    "\n",
    "### List of List\n",
    "\n",
    "เป็นรูปแบบนึงของการจัดเก็บข้อมูลที่พบได้บ่อย"
   ]
  },
  {
   "cell_type": "code",
   "execution_count": null,
   "id": "6f7b9127",
   "metadata": {
    "tags": [
     "hide-output"
    ]
   },
   "outputs": [],
   "source": [
    "# List of List\n",
    "items = [ [\"John\",\"male\",180.5,80], [\"Jane\",\"female\",176,60.5], [\"Steve\",\"male\",187.5,82] ]\n",
    "\n",
    "# ข้อมูลแต่ละ item ภายใน List ก็เป็น List\n",
    "print(items[0])\n",
    "print(items[1])\n",
    "print(items[2])"
   ]
  },
  {
   "cell_type": "code",
   "execution_count": null,
   "id": "e83da087",
   "metadata": {
    "tags": [
     "hide-output"
    ]
   },
   "outputs": [],
   "source": [
    "# List of List: how to access data\n",
    "average_height = ( items[0][2] + items[1][2] + items[2][2] ) / len(items)\n",
    "print(f'Average height: {average_height}')"
   ]
  },
  {
   "cell_type": "code",
   "execution_count": null,
   "id": "1190357e",
   "metadata": {
    "tags": [
     "hide-output"
    ]
   },
   "outputs": [],
   "source": [
    "# List of List: add/remove item\n",
    "items.append( [\"Lisa\",\"female\",168,48] )\n",
    "print(items)\n",
    "\n",
    "data = items.pop(0)\n",
    "print(data)\n",
    "print(items)"
   ]
  },
  {
   "cell_type": "markdown",
   "id": "cbc5214f",
   "metadata": {},
   "source": [
    "### List of Dict\n",
    "\n",
    "เป็นรูปแบบนึงของการจัดเก็บข้อมูลที่พบได้บ่อย"
   ]
  },
  {
   "cell_type": "code",
   "execution_count": null,
   "id": "39a745f7",
   "metadata": {
    "tags": [
     "hide-output"
    ]
   },
   "outputs": [],
   "source": [
    "# List of Dict\n",
    "items2 = [\n",
    "    {\"name\":\"John\",\"gender\":\"male\",\"height\":180.5,\"weight\":80},\n",
    "    {\"name\":\"Jane\",\"gender\":\"female\",\"height\":176,\"weight\":60.5},\n",
    "    {\"name\":\"Steve\",\"gender\":\"male\",\"height\":187.5,\"weight\":82}\n",
    "]\n",
    "\n",
    "# ข้อมูลแต่ละ item ภายใน List ก็เป็น Dict\n",
    "print(items2[0])\n",
    "print(items2[1])\n",
    "print(items2[2])"
   ]
  },
  {
   "cell_type": "code",
   "execution_count": null,
   "id": "9523336f",
   "metadata": {
    "tags": [
     "hide-output"
    ]
   },
   "outputs": [],
   "source": [
    "# List of Dict: how to access data\n",
    "average_height = ( items2[0][\"height\"] + items2[1][\"height\"] + items2[2][\"height\"] ) / len(items2)\n",
    "print(f'Average height: {average_height}')"
   ]
  },
  {
   "cell_type": "code",
   "execution_count": null,
   "id": "4e7f91b1",
   "metadata": {
    "tags": [
     "hide-output"
    ]
   },
   "outputs": [],
   "source": [
    "# List of Dict: add/remove item\n",
    "items2.append( {'name': 'Lisa', 'gender': 'female', 'height': 168, 'weight': 48} )\n",
    "print(items2)\n",
    "\n",
    "data = items2.pop(0)\n",
    "print(data)\n",
    "print(items2)"
   ]
  },
  {
   "cell_type": "markdown",
   "id": "2a031175",
   "metadata": {},
   "source": [
    "### Dict of List"
   ]
  },
  {
   "cell_type": "code",
   "execution_count": null,
   "id": "70b86f4e",
   "metadata": {
    "tags": [
     "hide-output"
    ]
   },
   "outputs": [],
   "source": [
    "# Dict of List\n",
    "items3 = {\n",
    "    \"John\":  [\"male\",180.5,80],\n",
    "    \"Jane\":  [\"female\",176,60.5],\n",
    "    \"Steve\": [\"male\",187.5,82]\n",
    "}\n",
    "\n",
    "# ข้อมูลแต่ละ item ภายใน Dict ก็เป็น List\n",
    "print(items3[\"John\"])\n",
    "print(items3[\"Jane\"])\n",
    "print(items3[\"Steve\"])"
   ]
  },
  {
   "cell_type": "code",
   "execution_count": null,
   "id": "1dcd4f1a",
   "metadata": {
    "tags": [
     "hide-output"
    ]
   },
   "outputs": [],
   "source": [
    "# Dict of List: how to access data\n",
    "average_height = ( items3[\"John\"][1] + items3[\"Jane\"][1] + items3[\"Steve\"][1] ) / len(items3)\n",
    "print(f'Average height: {average_height}')"
   ]
  },
  {
   "cell_type": "code",
   "execution_count": null,
   "id": "ff77642a",
   "metadata": {
    "tags": [
     "hide-output"
    ]
   },
   "outputs": [],
   "source": [
    "# List of List: add/remove item\n",
    "items3[\"Lisa\"] = [\"female\",168,48]\n",
    "print(items3)\n",
    "\n",
    "data = items3.pop(\"John\")\n",
    "print(data)\n",
    "print(items3)"
   ]
  },
  {
   "cell_type": "markdown",
   "id": "300dd3a4",
   "metadata": {},
   "source": [
    "### Other possibility\n",
    "\n",
    "เราสามารถประยุกต์ใช้ collection ในการจัดเก็บข้อมูลที่ซับซ้อน (มีความลึกได้หลายชั้น มีความเป็นไปได้หลายแบบ)\n",
    "\n",
    "\n",
    "\n",
    "**ตัวอย่าง**\n",
    "\n",
    "จัดเก็บข้อมูลนักเรียน (student) แต่ละคนด้วย Dict โดยข้อมูลบางอย่างของนักเรียนสามารถมีได้หลายความเป็นไปได้"
   ]
  },
  {
   "cell_type": "code",
   "execution_count": null,
   "id": "9a031a76",
   "metadata": {
    "tags": [
     "hide-output"
    ]
   },
   "outputs": [],
   "source": [
    "# A dictionary of student\n",
    "student1 = {\n",
    "    'id': 650610123,                                           # integer\n",
    "    'name': 'Peter Hamilton',                                  # string\n",
    "    'gpax': 3.45,                                              # float\n",
    "    'isMale': True,                                            # boolean\n",
    "    'grades': {'259201':'A','259104':'B+','259106':'B+'},      # Dict\n",
    "    'hobbies': ['gaming','running','K-drama'],                 # List\n",
    "}\n",
    "\n",
    "student2 = {\n",
    "    'id': 650610203,                                           # integer\n",
    "    'name': 'Thanya Taylor',                                   # string\n",
    "    'gpax': 3.60,                                              # float\n",
    "    'isMale': False,                                           # boolean\n",
    "    'grades': {'259201':'B+','259104':'A','259106':'B'},       # Dict\n",
    "    'hobbies': [],                                             # List\n",
    "}"
   ]
  },
  {
   "cell_type": "code",
   "execution_count": null,
   "id": "e3fa625e",
   "metadata": {
    "tags": [
     "hide-output"
    ]
   },
   "outputs": [],
   "source": [
    "# นำข้อมูลนักเรียนแต่ละคนมาเก็บรวมกันภายใน list\n",
    "students = [student1, student2]\n",
    "print(students)"
   ]
  },
  {
   "cell_type": "code",
   "execution_count": null,
   "id": "7d38c4fe",
   "metadata": {
    "tags": [
     "hide-output"
    ]
   },
   "outputs": [],
   "source": [
    "# คำนวณ GPAX เฉลี่ยของนักเรียน 2 คน\n",
    "average_gpa = ( students[0]['gpax'] + students[1]['gpax'] ) / len(students)\n",
    "print(f'average GPA: {average_gpa}')"
   ]
  },
  {
   "cell_type": "code",
   "execution_count": null,
   "id": "6209bcf0",
   "metadata": {
    "tags": [
     "hide-output"
    ]
   },
   "outputs": [],
   "source": [
    "# เพิ่ม hobby ให้กับ student2\n",
    "students[1]['hobbies'].append('novel')\n",
    "print(students[1])"
   ]
  },
  {
   "cell_type": "code",
   "execution_count": null,
   "id": "76aa98a8",
   "metadata": {
    "tags": [
     "hide-output"
    ]
   },
   "outputs": [],
   "source": [
    "# ดูเกรดวิชา 259201 ของ student1\n",
    "print( students[0]['grades']['259201'] )"
   ]
  },
  {
   "cell_type": "markdown",
   "id": "f3cd7058",
   "metadata": {},
   "source": [
    "<img width=\"400\" src=\"\">"
   ]
  }
 ],
 "metadata": {
  "kernelspec": {
   "display_name": "Python 3",
   "name": "python3"
  }
 },
 "nbformat": 4,
 "nbformat_minor": 5
}
