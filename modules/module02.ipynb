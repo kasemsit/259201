{
 "cells": [
  {
   "cell_type": "markdown",
   "id": "cf3784d1",
   "metadata": {},
   "source": [
    "# Variables and Types, Operators, Input/Output\n",
    "\n",
    "\n",
    "```{admonition} Topics\n",
    "- โครงสร้างของ Python โปรแกรม (program structure)\n",
    "- ตัวแปร (variables)\n",
    " - ชนิดของข้อมูล (data types)\n",
    " - การกำหนดชื่อตัวแปร (variable name)\n",
    "- ตัวดำเนินการ (operators)\n",
    " - คำสั่งทางคณิตศาสตร์ (math module)\n",
    "- การนำข้อมูลเข้าและการแสดงผล (input/output)\n",
    " - การจัดรูปแบบการแสดงผลด้วย *f-string*\n",
    "```\n",
    "\n",
    "## Example of Python Script\n",
    "\n",
    "```{code-block} python\n",
    "# นำเข้าคำสั่งภายนอก (bring in external functions)\n",
    "import datetime\n",
    "\n",
    "print(\"----- Age Calculate Program -----\")\n",
    "# รับค่าอินพุตนำไปกำหนดค่าตัวแปร (get input, store in a variable)\n",
    "yob = input(\"What's your year of birth? (e.g., 2004): \")\n",
    "\n",
    "# ประมวลผล (process data using variables)\n",
    "today = datetime.date.today()       # ดึงค่า วัน-เวลา ปัจจุบัน (get current date)\n",
    "year = today.year                   # สนใจเฉพาะ ปี ปัจจุบัน (get only year part)\n",
    "age = year - int(yob)               # คำนวณอายุ (caculate age)\n",
    "\n",
    "# แสดงผล (display output)\n",
    "print(\"You are\", age , \"years old.\")       # ดึงค่าของตัวแปร (access variable)\n",
    "print()\n",
    "print(\"Congratulations on your first Python program.\")\n",
    "```\n",
    "\n",
    "\n",
    "## Variables\n",
    "\n",
    "- **ตัวแปร** (Variable) – การกำหนดชื่อให้พื้นที่ในหน่วยความจำ\n",
    " - สามารถใช้ชื่อตัวแปร ในการอ้างอิงภายหลังได้\n",
    "- ผู้เขียนโปรแกรมควรกำหนด**ชื่อตัวแปร**ให้สอดคล้องกับข้อมูลที่จัดเก็บ\n",
    "- กฎการตั้งชื่อ **Python Identifier** (ชื่อตัวแปรหรือชื่อฟังก์ชัน)\n",
    " - ใช้อักษร lowercase (`a`-`z`) หรือ uppercase (`A`-`Z`)\n",
    " - ใช้ underscore (`_`) ได้ เช่น `var_1`, `print_this_to_screen`\n",
    " - **ห้าม**ขึ้นต้นด้วยตัวเลข เช่น `1variable` (ไม่ถูกต้อง)\n",
    " - **ห้าม**ใช้เครื่องหมายพิเศษอื่นๆ เช่น `!`, `@`, `#`, `$`, `%`\n",
    " - **ห้าม**ตั้งชื่อตรงกับ Keyword ของภาษา Python\n",
    "\n",
    "\n",
    "### Python Keywords"
   ]
  },
  {
   "cell_type": "code",
   "execution_count": null,
   "id": "f991cbdb",
   "metadata": {
    "tags": [
     "hide-output"
    ]
   },
   "outputs": [],
   "source": [
    "import keyword\n",
    "print(keyword.kwlist)"
   ]
  },
  {
   "cell_type": "markdown",
   "id": "6c7e62e1",
   "metadata": {},
   "source": [
    "## Data Types\n",
    "\n",
    "การเลือก**ชนิดของข้อมูล**ที่จัดเก็บในตัวแปรให้เหมาะสมกับการใช้งาน ถือเป็นเรื่องสำคัญของการเขียนโปรแกรมคอมพิวเตอร์\n",
    "\n",
    "\n",
    "### ชนิดข้อมูลพื้นฐาน\n",
    "\n",
    "ชนิดของข้อมูลพื้นฐานที่สำคัญในการเขียนโปรแกรม ได้แก่\n",
    "\n",
    "- `string` : ข้อความ\n",
    "- `int` : เลขจำนวนเต็ม\n",
    "- `float` : เลขทศนิยม\n",
    "- `boolean` : ค่าความจริง (`True`/`False`)\n",
    "\n",
    "**ตัวอย่าง**\n",
    "\n",
    "```python\n",
    "str1 = 'hello' # ข้อความ (string)\n",
    "str2 = \"2345\"  # ข้อความ (string)\n",
    "var1 = 50000   # จำนวนเต็ม (int)\n",
    "var2 = 10/2    # จำนวนจริง (float)\n",
    "var3 = 1.23e9  # จำนวนจริง (float)\n",
    "var4 = False   # ค่าความจริง (boolean)\n",
    "```"
   ]
  },
  {
   "cell_type": "code",
   "execution_count": null,
   "id": "d37fbec4",
   "metadata": {
    "tags": [
     "hide-output"
    ]
   },
   "outputs": [],
   "source": [
    "var1 = 100*2\n",
    "print(var1)"
   ]
  },
  {
   "cell_type": "code",
   "execution_count": null,
   "id": "741e6882",
   "metadata": {
    "tags": [
     "hide-output"
    ]
   },
   "outputs": [],
   "source": [
    "var2 = 1_000_000+1\n",
    "print(var2)"
   ]
  },
  {
   "cell_type": "code",
   "execution_count": null,
   "id": "fc54c009",
   "metadata": {
    "tags": [
     "hide-output"
    ]
   },
   "outputs": [],
   "source": [
    "var3 = 10/2\n",
    "print(var3)"
   ]
  },
  {
   "cell_type": "code",
   "execution_count": null,
   "id": "794f1f4e",
   "metadata": {
    "tags": [
     "hide-output"
    ]
   },
   "outputs": [],
   "source": [
    "s1 = \"this is a string\"\n",
    "print(s1)"
   ]
  },
  {
   "cell_type": "markdown",
   "id": "c013aa0d",
   "metadata": {},
   "source": [
    "### ข้อความ (string) ในภาษา Python\n",
    "\n",
    "- ข้อความสั้น ๆ, ประโยค, ตัวเลข ซึ่ง**อยู่ภายใต้เครื่องหมาย `quote`**\n",
    "- เครื่องหมาย `quote` ได้แก่ **`'...'`** (single), **`\"...\"`** (double), **`'''...'''`** (triple)\n",
    "- บางกรณีอาจต้องเลือกใช้ชนิดของ `quote` ให้เหมาะสมกับข้อความที่จัดเก็บ"
   ]
  },
  {
   "cell_type": "code",
   "execution_count": null,
   "id": "e40ef465",
   "metadata": {
    "tags": [
     "hide-output"
    ]
   },
   "outputs": [],
   "source": [
    "# simple string\n",
    "print('this is a simple string.')"
   ]
  },
  {
   "cell_type": "code",
   "execution_count": null,
   "id": "ae0b1c21",
   "metadata": {
    "tags": [
     "hide-output"
    ]
   },
   "outputs": [],
   "source": [
    "# string with single quote inside\n",
    "print(\"this isn't a simple string.\")"
   ]
  },
  {
   "cell_type": "code",
   "execution_count": null,
   "id": "8735144d",
   "metadata": {
    "tags": [
     "hide-output"
    ]
   },
   "outputs": [],
   "source": [
    "# string with double quote inside\n",
    "print('this is how to print \"double quote\" in sentence.')"
   ]
  },
  {
   "cell_type": "code",
   "execution_count": null,
   "id": "4d6cd1a5",
   "metadata": {
    "tags": [
     "hide-output"
    ]
   },
   "outputs": [],
   "source": [
    "# string that spans multiple lines\n",
    "s2 = '''this is another string\n",
    "this is 2nd line\n",
    "this is 3rd line'''\n",
    "\n",
    "print(s2)"
   ]
  },
  {
   "cell_type": "markdown",
   "id": "64258c0d",
   "metadata": {},
   "source": [
    "### อักขระพิเศษ (Escape Code)\n",
    "\n",
    " - ในภาษาคอมพิวเตอร์ มักมีการใช้งานอักขระพิเศษร่วมกับข้อความ (string) เพื่อให้เกิดการแสดงผลแบบต่าง ๆ เช่น การขึ้นบรรทัดใหม่ การแท็บ การลบอักขระ\n",
    " - อักขระเหล่านี้เมื่ออยู่ในโค้ดของโปรแกรม ปกติแล้วจะนำหน้าด้วย **`Escape Character`** ( **`\\`** )\n",
    " - อักขระพิเศษที่มีการใช้งายบ่อย ๆ ได้แก่ `\\n`, `\\t`\n",
    "\n",
    "\n",
    "Escape Code | Description\n",
    "------------|-------------\n",
    "`\\n` | newline\n",
    "`\\r` | carriage return\n",
    "`\\t` | tab\n",
    "`\\v` | vertical tab\n",
    "`\\b` | backspace\n",
    "`\\f` | form feed (page feed)\n",
    "`\\a` | alert (beep)\n",
    "`\\'` | single quote (\\')\n",
    "`\\\"` | double quote (\\\")\n",
    "`\\\\` | backslash (\\\\)"
   ]
  },
  {
   "cell_type": "code",
   "execution_count": null,
   "id": "95402d8b",
   "metadata": {
    "tags": [
     "hide-output"
    ]
   },
   "outputs": [],
   "source": [
    "print('This is 1st line')\n",
    "print('This is 2nd line \\nThis is 3rd line')\n",
    "print()\n",
    "print('This is 4th line \\t\\tand this is separated by 2 tabs')"
   ]
  },
  {
   "cell_type": "markdown",
   "id": "9ded5cd3",
   "metadata": {},
   "source": [
    "### ตัวแปรในภาษา Python อาจมีชนิดข้อมูลไม่ตายตัว\n",
    "\n",
    "- ตัวแปรในภาษา Python แต่ละตัวไม่จำเป็นต้องมีชนิดตายตัว (เหมือนกับในภาษา C/C++, Java, C#)\n",
    "\n",
    "- **เราสามารถใช้ตัวแปรเดียวกันเปลี่ยนไปเก็บข้อมูลชนิดอื่น ๆ ได้หากต้องการ**  จุดนี้ทำให้สะดวกต่อการใช้งาน แต่ในขณะเดียวกันก็อาจ**เสี่ยงต่อการเกิดข้อผิดพลาด**ได้เช่นกัน\n",
    "\n",
    "- การ**ตรวจสอบประเภทของข้อมูลที่จัดเก็บ**ในตัวแปร ทำได้ด้วยคำสั่ง `type()`\n",
    "\n",
    "```python\n",
    "type(ข้อมูล)\n",
    "```\n",
    "\n",
    "**ตัวอย่าง**"
   ]
  },
  {
   "cell_type": "code",
   "execution_count": null,
   "id": "a3f6a7fd",
   "metadata": {
    "tags": [
     "hide-output"
    ]
   },
   "outputs": [],
   "source": [
    "type('Hello')"
   ]
  },
  {
   "cell_type": "code",
   "execution_count": null,
   "id": "73b6bb89",
   "metadata": {
    "tags": [
     "hide-output"
    ]
   },
   "outputs": [],
   "source": [
    "type(1)"
   ]
  },
  {
   "cell_type": "code",
   "execution_count": null,
   "id": "66c3ad7d",
   "metadata": {
    "tags": [
     "hide-output"
    ]
   },
   "outputs": [],
   "source": [
    "type(1.234)"
   ]
  },
  {
   "cell_type": "code",
   "execution_count": null,
   "id": "98efc032",
   "metadata": {
    "tags": [
     "hide-output"
    ]
   },
   "outputs": [],
   "source": [
    "type(1.23e11)"
   ]
  },
  {
   "cell_type": "code",
   "execution_count": null,
   "id": "caf1edee",
   "metadata": {
    "tags": [
     "hide-output"
    ]
   },
   "outputs": [],
   "source": [
    "s2 = 2500+1000            # int\n",
    "print(s2)\n",
    "print( type(s2) )"
   ]
  },
  {
   "cell_type": "code",
   "execution_count": null,
   "id": "1fb81a6f",
   "metadata": {
    "tags": [
     "hide-output"
    ]
   },
   "outputs": [],
   "source": [
    "s2 = s2/2                 # float\n",
    "print(s2)\n",
    "print( type(s2) )"
   ]
  },
  {
   "cell_type": "code",
   "execution_count": null,
   "id": "1fd53e79",
   "metadata": {
    "tags": [
     "hide-output"
    ]
   },
   "outputs": [],
   "source": [
    "s2 = 'hello ' + 'there'   # string concatenation\n",
    "print(s2)\n",
    "print( type(s2) )"
   ]
  },
  {
   "cell_type": "markdown",
   "id": "cdb0c82a",
   "metadata": {},
   "source": [
    "เลือกใช้ operator ให้สอดคล้องกับชนิดของข้อมูล เช่น\n",
    "\n",
    "- `number` (ตัวเลข) `+` `number` (ตัวเลข) ได้ตามหลักคณิตศาสตร์\n",
    "- `string` (ข้อความ) `+` `string` (ข้อความ) ได้ แต่มักหมายถึงการนำข้อความมาเรียงต่อกัน (concatenation)\n",
    "- **`string` (ข้อความ) `+` `number` (ตัวเลข) ไม่ได้ จะเกิด `Type error`**"
   ]
  },
  {
   "cell_type": "code",
   "execution_count": null,
   "id": "fa9916d0",
   "metadata": {
    "tags": [
     "raises-exception"
    ]
   },
   "outputs": [],
   "source": [
    "s2 + 1"
   ]
  },
  {
   "cell_type": "markdown",
   "id": "b0c300b9",
   "metadata": {},
   "source": [
    "## Type Conversions\n",
    "\n",
    "- **การเปลี่ยนชนิดของข้อมูล**ให้เหมาะสมก่อนใช้งานเป็นเรื่องที่เกิดขึ้นได้\n",
    "- บางครั้ง Python จะเปลี่ยนชนิดข้อมูลให้อัตโนมัติ เช่น เมื่อคำนวณค่า `int` ร่วมกับ `float` ค่าของ `int` จะถูกแปลงเป็น `float` โดยอัตโนมัติ\n",
    "\n",
    "\n",
    "### Number Conversions\n",
    "\n",
    "เราสามารถแปลงข้อมูลตัวเลข (number) ไปมาระหว่าง `int` กับ `float` ได้ด้วยคำสั่ง\n",
    "\n",
    "- `int()` : แปลงให้ข้อมูลเป็น**จำนวนเต็ม**\n",
    "- `float()` : แปลงให้ข้อมูลเป็น**จำนวนทศนิยม**"
   ]
  },
  {
   "cell_type": "code",
   "execution_count": null,
   "id": "2dcd46da",
   "metadata": {
    "tags": [
     "hide-output"
    ]
   },
   "outputs": [],
   "source": [
    "print(99+1.23)"
   ]
  },
  {
   "cell_type": "code",
   "execution_count": null,
   "id": "41a4c43c",
   "metadata": {
    "tags": [
     "hide-output"
    ]
   },
   "outputs": [],
   "source": [
    "i = int(42+3.5)\n",
    "print(i)\n",
    "print( type(i) )"
   ]
  },
  {
   "cell_type": "code",
   "execution_count": null,
   "id": "71642295",
   "metadata": {
    "tags": [
     "hide-output"
    ]
   },
   "outputs": [],
   "source": [
    "f = float(i)\n",
    "print(f)\n",
    "print( type(f) )"
   ]
  },
  {
   "cell_type": "markdown",
   "id": "dfe0b1e6",
   "metadata": {},
   "source": [
    "### String Conversions\n",
    "\n",
    "- เราสามารถใช้ `int()` และ `float()` เพื่อแปลง**ข้อความ (string) ที่มีรูปแบบตัวเลข** ให้มีค่าเป็นตัวเลข (number) ได้เช่นกัน\n",
    "```python\n",
    "c = float('30.5') # c=30.5\n",
    "d = int('100')    # d=100\n",
    "```\n",
    "\n",
    "- หาก**ข้อความไม่อยู่ในรูปของตัวเลขที่เหมาะสม**จะเกิด `value error`\n",
    "\n",
    "- เราสามารถแปลงข้อมูลตัวเลขให้เป็นข้อความได้ด้วยคำสั่ง `str()`"
   ]
  },
  {
   "cell_type": "code",
   "execution_count": null,
   "id": "bae0c809",
   "metadata": {
    "tags": [
     "hide-output"
    ]
   },
   "outputs": [],
   "source": [
    "# convert string in int format to int >> ok!\n",
    "print(int('1234'))"
   ]
  },
  {
   "cell_type": "code",
   "execution_count": null,
   "id": "ec0ff9a6",
   "metadata": {
    "tags": [
     "hide-output"
    ]
   },
   "outputs": [],
   "source": [
    "str1 = '123.456'\n",
    "print(str1)\n",
    "print( type(str1) )"
   ]
  },
  {
   "cell_type": "code",
   "execution_count": null,
   "id": "7cb3fa82",
   "metadata": {
    "tags": [
     "hide-output"
    ]
   },
   "outputs": [],
   "source": [
    "# convert string in float format to float >> ok!\n",
    "print( float(str1)+1000 )"
   ]
  },
  {
   "cell_type": "code",
   "execution_count": null,
   "id": "d32d1a07",
   "metadata": {
    "tags": [
     "hide-output"
    ]
   },
   "outputs": [],
   "source": [
    "# convert string in float format to float >> ok!\n",
    "f = float('987.654')\n",
    "print(f)\n",
    "print( type(f) )"
   ]
  },
  {
   "cell_type": "code",
   "execution_count": null,
   "id": "42451a81",
   "metadata": {
    "tags": [
     "hide-output"
    ]
   },
   "outputs": [],
   "source": [
    "print( f+1000 )"
   ]
  },
  {
   "cell_type": "code",
   "execution_count": null,
   "id": "449c77b2",
   "metadata": {
    "tags": [
     "raises-exception",
     "hide-output"
    ]
   },
   "outputs": [],
   "source": [
    "# convert string in float format to int >> Value error!\n",
    "print( int('123.456') )"
   ]
  },
  {
   "cell_type": "code",
   "execution_count": null,
   "id": "26e3e75b",
   "metadata": {
    "tags": [
     "hide-output"
    ]
   },
   "outputs": [],
   "source": [
    "# convert \"string in float format\" to float,\n",
    "# then convert from float to int >> ok!\n",
    "value = int( float('123.456') )\n",
    "print(value)\n",
    "print( type(value) )"
   ]
  },
  {
   "cell_type": "code",
   "execution_count": null,
   "id": "16debe80",
   "metadata": {
    "tags": [
     "raises-exception",
     "hide-output"
    ]
   },
   "outputs": [],
   "source": [
    "# covert string to int >> Value error\n",
    "print(int('Hello'))"
   ]
  },
  {
   "cell_type": "code",
   "execution_count": null,
   "id": "7e71096f",
   "metadata": {
    "tags": [
     "hide-output"
    ]
   },
   "outputs": [],
   "source": [
    "# convert float to string >> ok!\n",
    "s = str(f)\n",
    "print(s)\n",
    "type(s)"
   ]
  },
  {
   "cell_type": "markdown",
   "id": "cfb6d9e0",
   "metadata": {},
   "source": [
    "## Operators\n",
    "\n",
    "- `Operator` คือสัญลักษณ์หรือเครื่องหมายที่แทนการคำนวณต่าง ๆ ทางคณิตศาสตร์\n",
    "- ข้อมูลที่ `operator` ใช้ในการคำนวณเรียกว่า `operand`\n",
    "\n",
    "**ตัวอย่าง**"
   ]
  },
  {
   "cell_type": "code",
   "execution_count": null,
   "id": "ce7e65e6",
   "metadata": {
    "tags": [
     "hide-output"
    ]
   },
   "outputs": [],
   "source": [
    "2 + 3"
   ]
  },
  {
   "cell_type": "markdown",
   "id": "438048dd",
   "metadata": {},
   "source": [
    "- เครื่องหมาย + คือ operator สำหรับการบวก\n",
    "- ตัวเลข 2 และ 3 คือ operand และ 5 คือผลลัพธ์\n",
    "\n",
    "\n",
    "\n",
    "### Arithematic Operators\n",
    "\n",
    "ตัวดำเนินการทางคณิตศาสตร์"
   ]
  },
  {
   "cell_type": "code",
   "execution_count": null,
   "id": "0bffe9c3",
   "metadata": {
    "tags": [
     "hide-output"
    ]
   },
   "outputs": [],
   "source": [
    "x = 16\n",
    "y = 4\n",
    "\n",
    "print('x + y =', x + y)   # การบวก\n",
    "print('x - y =', x - y)   # การลบ\n",
    "print('x * y =', x * y)   # การคูณ\n",
    "print('x / y =', x / y)   # การหาร (ได้ผลลัพธ์เป็น float)"
   ]
  },
  {
   "cell_type": "markdown",
   "id": "c210c5a9",
   "metadata": {},
   "source": [
    "**`%` : การหารที่ได้เศษของการหารเป็นผลลัพธ์ (modulus)**"
   ]
  },
  {
   "cell_type": "code",
   "execution_count": null,
   "id": "c8ed45f0",
   "metadata": {
    "tags": [
     "hide-output"
    ]
   },
   "outputs": [],
   "source": [
    "x = 17\n",
    "y = 4\n",
    "print('x % y =', x % y)"
   ]
  },
  {
   "cell_type": "markdown",
   "id": "ac57f910",
   "metadata": {},
   "source": [
    "**`//` : การหารที่ปัดเศษของการหารทิ้ง**"
   ]
  },
  {
   "cell_type": "code",
   "execution_count": null,
   "id": "609f9ff1",
   "metadata": {
    "tags": [
     "hide-output"
    ]
   },
   "outputs": [],
   "source": [
    "x = 17\n",
    "y = 4\n",
    "print('x // y =', x // y)"
   ]
  },
  {
   "cell_type": "markdown",
   "id": "d6c96aeb",
   "metadata": {},
   "source": [
    "`**` : การคำนวณหาค่ายกกำลัง (exponent) **bold text**"
   ]
  },
  {
   "cell_type": "code",
   "execution_count": null,
   "id": "a2215309",
   "metadata": {
    "tags": [
     "hide-output"
    ]
   },
   "outputs": [],
   "source": [
    "x = 2\n",
    "y = 4\n",
    "print('x ** y =', x ** y)"
   ]
  },
  {
   "cell_type": "code",
   "execution_count": null,
   "id": "20737938",
   "metadata": {
    "tags": [
     "hide-output"
    ]
   },
   "outputs": [],
   "source": [
    "16**0.5"
   ]
  },
  {
   "cell_type": "markdown",
   "id": "a42dbe87",
   "metadata": {},
   "source": [
    "### Comparison Operators\n",
    "\n",
    "ตัวดำเนินการสำหรับการเปรียบเทียบ ให้ผลลัพธ์เป็นค่าความจริง (boolean) ได้แก่ **True** หรือ **False**\n",
    "\n",
    "ผลลัพธ์ที่ได้จากการเปรียบเทียบมักถูกนำไปใช้ในการ**สร้างเงื่อนไข (condition)** ในการทำงานของโปรแกรมต่อไป"
   ]
  },
  {
   "cell_type": "code",
   "execution_count": null,
   "id": "09f76dba",
   "metadata": {
    "tags": [
     "hide-output"
    ]
   },
   "outputs": [],
   "source": [
    "x = 10\n",
    "y = 12\n",
    "\n",
    "print('x > y is', x > y)"
   ]
  },
  {
   "cell_type": "code",
   "execution_count": null,
   "id": "8ee0be08",
   "metadata": {
    "tags": [
     "hide-output"
    ]
   },
   "outputs": [],
   "source": [
    "print('x < y is', x < y)"
   ]
  },
  {
   "cell_type": "markdown",
   "id": "df7d046f",
   "metadata": {},
   "source": [
    "**x เท่ากับ y หรือไม่?** (สังเกตุว่าไม่ได้ใช้เครื่องหมาย **=** ในการเปรียบเทียบ)"
   ]
  },
  {
   "cell_type": "code",
   "execution_count": null,
   "id": "41dbe8c9",
   "metadata": {
    "tags": [
     "hide-output"
    ]
   },
   "outputs": [],
   "source": [
    "print('x == y is', x == y)"
   ]
  },
  {
   "cell_type": "markdown",
   "id": "ebd98187",
   "metadata": {},
   "source": [
    "**x ไม่เท่ากับ y หรือไม่?**"
   ]
  },
  {
   "cell_type": "code",
   "execution_count": null,
   "id": "b8954a76",
   "metadata": {
    "tags": [
     "hide-output"
    ]
   },
   "outputs": [],
   "source": [
    "print('x != y is', x != y)"
   ]
  },
  {
   "cell_type": "markdown",
   "id": "d217290c",
   "metadata": {},
   "source": [
    "**x มากกว่าหรือเท่ากับ y หรือไม่?**"
   ]
  },
  {
   "cell_type": "code",
   "execution_count": null,
   "id": "162a5fba",
   "metadata": {
    "tags": [
     "hide-output"
    ]
   },
   "outputs": [],
   "source": [
    "print('x >= y is', x >= y)"
   ]
  },
  {
   "cell_type": "markdown",
   "id": "a1bfca20",
   "metadata": {},
   "source": [
    "**x น้อยกว่าหรือเท่ากับ y หรือไม่?**"
   ]
  },
  {
   "cell_type": "code",
   "execution_count": null,
   "id": "2a4706bc",
   "metadata": {
    "tags": [
     "hide-output"
    ]
   },
   "outputs": [],
   "source": [
    "print('x <= y is', x <= y)"
   ]
  },
  {
   "cell_type": "markdown",
   "id": "e1eda5a4",
   "metadata": {},
   "source": [
    "### Logical Operators\n",
    "\n",
    "**ตัวดำเนินการด้านตรรกะ** ใช้ในการประเมินค่าความจริงในเงื่อนไขที่มีความซับซ้อน โดยใช้กับ**ชุดคำสั่งที่ให้ผลลัพธ์เป็น boolean** เช่น ผลลัพธ์จากการเปรียบเทียบ (comparison)\n",
    "\n",
    "มีตัวดำเนินการพื้นฐานได้แก่ `and`, `or`, `not`"
   ]
  },
  {
   "cell_type": "code",
   "execution_count": null,
   "id": "c9016adb",
   "metadata": {
    "tags": [
     "hide-output"
    ]
   },
   "outputs": [],
   "source": [
    "x = True\n",
    "y = False\n",
    "\n",
    "print('x and y is', x and y)\n",
    "print('x or y is', x or y)\n",
    "print('not x is', not x)"
   ]
  },
  {
   "cell_type": "markdown",
   "id": "50e5d7c6",
   "metadata": {},
   "source": [
    "### Assignment Operators\n",
    "\n",
    "ตัวดำเนินการสำหรับ**การกำหนดค่า** จะใช้**เครื่องหมายเท่ากับ (`=`)** เป็นพื้นฐาน และสามารถประยุกต์ใช้ร่วมกับ**ตัวดำเนินการทางคณิตศาสตร์**อื่น ๆ ได้\n",
    "\n",
    "เช่น `+=`, `-=`, `*=`, `/=`, `**=`"
   ]
  },
  {
   "cell_type": "code",
   "execution_count": null,
   "id": "d3bfd8d2",
   "metadata": {
    "tags": [
     "hide-output"
    ]
   },
   "outputs": [],
   "source": [
    "x = 10\n",
    "y = x+100\n",
    "print(x,y)"
   ]
  },
  {
   "cell_type": "code",
   "execution_count": null,
   "id": "a5697aaf",
   "metadata": {
    "tags": [
     "hide-output"
    ]
   },
   "outputs": [],
   "source": [
    "x = x+1\n",
    "z = y/2\n",
    "print(x, z)"
   ]
  },
  {
   "cell_type": "code",
   "execution_count": null,
   "id": "87093293",
   "metadata": {
    "tags": [
     "hide-output"
    ]
   },
   "outputs": [],
   "source": [
    "x += 10   # x = x+10\n",
    "z /= 5    # z = z/5\n",
    "print(x,z)"
   ]
  },
  {
   "cell_type": "markdown",
   "id": "af320722",
   "metadata": {},
   "source": [
    "## Operators Precedence\n",
    "\n",
    "ลำดับการประมวลผลของตัวดำเนินการ เมื่อมีการนำเอาตัวดำเนินการหลายประเภทมาใช่ร่วมกันในการประมวลผล โปรแกรมจะมี**ลำดับในการประมวลผล operand คู่ก่อนหลัง จากบนลงล่าง** ดังที่แสดงในตารางต่อไปนี้\n",
    "\n",
    "\n",
    "| Operators             | Description                           |\n",
    "| :-------------------- | :------------------------------------ |\n",
    "| `()`                 | Parentheses                           |\n",
    "| `**`                    | Exponentiation (raise to the power)   |\n",
    "| `+x`, `-x`, `~x`            | Unary plus, Unary minus, Bitwise NOT  |\n",
    "| `*`, `/`, `//`, `%`           | Multiplication, Division, Floor division, Modulus                           |\n",
    "| `+`, `-`                  | Addition, subtraction                 |\n",
    "| `<<`, `>>`                | Bitwise shift operators         |\n",
    "| `&`                     | Bitwise AND                     |\n",
    "| `^`, `\\`                 | Bitwise XOR and OR        |\n",
    "| `>`, `>=`, `<`, `<=`          | Comparison operators                  |\n",
    "| `==`, `!=`                | Equality operators                    |\n",
    "| `=`,`+=`,`-=`,`*=`,`**=`,`/=`,`//=` | Assignment operators                  |\n",
    "| `is`, `is not`            | Identity operators                    |\n",
    "| `in`, `not in`            | Membership operators                  |\n",
    "| `not`, `or`, `and`          | Logical operators                     |"
   ]
  },
  {
   "cell_type": "code",
   "execution_count": null,
   "id": "cc613e72",
   "metadata": {
    "tags": [
     "hide-output"
    ]
   },
   "outputs": [],
   "source": [
    "a = 20\n",
    "b = 10\n",
    "c = 15\n",
    "d = 5\n",
    "\n",
    "print(a + b * c / d)"
   ]
  },
  {
   "cell_type": "code",
   "execution_count": null,
   "id": "b32dff37",
   "metadata": {
    "tags": [
     "hide-output"
    ]
   },
   "outputs": [],
   "source": [
    "print((a + b) * c / d)"
   ]
  },
  {
   "cell_type": "code",
   "execution_count": null,
   "id": "6ca8b1a2",
   "metadata": {
    "tags": [
     "hide-output"
    ]
   },
   "outputs": [],
   "source": [
    "print(a + b * (c / d))"
   ]
  },
  {
   "cell_type": "code",
   "execution_count": null,
   "id": "85a92e1b",
   "metadata": {
    "tags": [
     "hide-output"
    ]
   },
   "outputs": [],
   "source": [
    "print((a + (b * c)) / d)"
   ]
  },
  {
   "cell_type": "markdown",
   "id": "8d44e342",
   "metadata": {},
   "source": [
    "### Example\n",
    "\n",
    "$$\n",
    "y = -3x - \\frac{2}{10^2}\n",
    "$$"
   ]
  },
  {
   "cell_type": "code",
   "execution_count": null,
   "id": "20ab9c2b",
   "metadata": {
    "tags": [
     "hide-output"
    ]
   },
   "outputs": [],
   "source": [
    "x = 5\n",
    "y = -3*x-2/10**2\n",
    "print(y)"
   ]
  },
  {
   "cell_type": "markdown",
   "id": "498d0b4e",
   "metadata": {},
   "source": [
    "## Python `math` module\n",
    "\n",
    "- การคำนวณทางคณิตศาสตร์ที่ซับซ้อนทำได้ยากด้วย `operator` พื้นฐาน\n",
    "- Python เตรียมชุดคำสั่ง (หรือฟังก์ชัน) ในการคำนวณที่จำเป็นทางคณิตศาสตร์เพิ่มเติมให้ผู้พัฒนาโปรแกรมได้เรียกใช้งาน\n",
    "- คำสั่งเหล่านี้ถูกจัดเตรียมรวมกันไว้ในโมดูล (module) ที่ชื่อว่า `math`\n",
    "- ก่อนจะใช้งานคำสั่งเหล่านี้เราต้อง `import` โมดูลเข้าสู่โปรแกรมเสียก่อน\n",
    "```python\n",
    "import math\n",
    "```\n",
    "\n",
    "- กลุ่มของชุดคำสั่งพื้นฐานทางคณิตศาสตร์ที่ Python มีให้เรียกใช้งาน\n",
    " - Trigonometric – `sin`, `cos`, `tan`, `asin`, `acos`, …\n",
    " - Exponential and Logarithmic – `exp`, `log`, `log2`, `log10`, …\n",
    " - Power – `pow, sqrt`, …\n",
    " - Rounding – `ceil, floor`\n",
    " - Others – `abs`, …\n",
    " - ค่าคงที่ - `pi, e`"
   ]
  },
  {
   "cell_type": "code",
   "execution_count": null,
   "id": "6bbdf911",
   "metadata": {},
   "outputs": [],
   "source": [
    "# import built-in math module\n",
    "import math"
   ]
  },
  {
   "cell_type": "code",
   "execution_count": null,
   "id": "ee0e0fb1",
   "metadata": {
    "tags": [
     "hide-output"
    ]
   },
   "outputs": [],
   "source": [
    "# using square root (sqrt) function in math module\n",
    "print(math.sqrt(25))\n",
    "print(25**0.5)"
   ]
  },
  {
   "cell_type": "code",
   "execution_count": null,
   "id": "8702c56c",
   "metadata": {
    "tags": [
     "hide-output"
    ]
   },
   "outputs": [],
   "source": [
    "# pi and e value\n",
    "print(math.pi, math.e)\n",
    "# area of circle with radius of 10\n",
    "print(math.pi * 10**2)"
   ]
  },
  {
   "cell_type": "code",
   "execution_count": null,
   "id": "d6936d8f",
   "metadata": {
    "tags": [
     "hide-output"
    ]
   },
   "outputs": [],
   "source": [
    "# 2 radians = 114.59 degrees\n",
    "print(math.degrees(2))"
   ]
  },
  {
   "cell_type": "code",
   "execution_count": null,
   "id": "53602607",
   "metadata": {
    "tags": [
     "hide-output"
    ]
   },
   "outputs": [],
   "source": [
    "# 60 degrees = 1.04 radians\n",
    "print(math.radians(60))"
   ]
  },
  {
   "cell_type": "code",
   "execution_count": null,
   "id": "607b0517",
   "metadata": {
    "tags": [
     "hide-output"
    ]
   },
   "outputs": [],
   "source": [
    "# Sine of 2 radians\n",
    "print(math.sin(2))"
   ]
  },
  {
   "cell_type": "code",
   "execution_count": null,
   "id": "339ac29f",
   "metadata": {
    "tags": [
     "hide-output"
    ]
   },
   "outputs": [],
   "source": [
    "# Cosine of 0.5 radians\n",
    "print(math.cos(0.5))"
   ]
  },
  {
   "cell_type": "code",
   "execution_count": null,
   "id": "3374ae7f",
   "metadata": {
    "tags": [
     "hide-output"
    ]
   },
   "outputs": [],
   "source": [
    "# Sine of 30 radians\n",
    "print(math.sin(30))\n",
    "\n",
    "# Sine of 30 degree\n",
    "# แปลง degree ให้เป็น radians\n",
    "# 360 degree = 2*Pi radians\n",
    "# 1   degree = 2*Pi/360 = Pi/180\n",
    "# 30  degree = 30*(Pi/180)\n",
    "print(math.sin(30*math.pi/180))\n",
    "\n",
    "# หรือแปลงโดยใช้คำสั่งต่อไปนี้\n",
    "rad = math.radians(30)\n",
    "print(math.sin(rad))\n",
    "\n",
    "# แปลง radians ให้เป็น degree โดยใช้คำสั่งต่อไปนี้\n",
    "print(math.degrees(rad))"
   ]
  },
  {
   "cell_type": "code",
   "execution_count": null,
   "id": "106d8d94",
   "metadata": {
    "tags": [
     "hide-output"
    ]
   },
   "outputs": [],
   "source": [
    "# 4! = 1 * 2 * 3 * 4 = 24\n",
    "print(math.factorial(4))"
   ]
  },
  {
   "cell_type": "code",
   "execution_count": null,
   "id": "834eae40",
   "metadata": {
    "tags": [
     "hide-output"
    ]
   },
   "outputs": [],
   "source": [
    "# ceil\n",
    "print(math.ceil(5.23))\n",
    "# floor\n",
    "print(math.floor(5.99))"
   ]
  },
  {
   "cell_type": "markdown",
   "id": "d55d8be3",
   "metadata": {},
   "source": [
    "## `input()` function\n",
    "\n",
    "- ใช้คำสั่ง input() สำหรับการรับค่าข้อมูลจากผู้ใช้ผ่านคีย์บอร์ด เช่น\n",
    "```python\n",
    "a = input()\n",
    "```\n",
    "\n",
    "- ข้อมูลที่ผู้ใช้ผ่านจะถูกเก็บไว้ในตัวแปร `a`\n",
    "- โดยปกติข้อมูลที่ได้จากคำสั่ง `input()` จะมีชนิดเป็น**ข้อความ (string)**\n",
    "\n",
    "- หากต้องการให้ข้อมูลที่ได้ถูกจัดเก็บในรูปแบบตัวเลข (number) จะต้อง**แปลงชนิดข้อมูล**ตามความเหมาะสม เช่น\n",
    "```python\n",
    "a = int(input())     # แปลงข้อมูลที่รับมาแบบข้อความ เป็น int\n",
    "a = float(input())   # แปลงข้อมูลที่รับมาแบบข้อความ เป็น float\n",
    "```"
   ]
  },
  {
   "cell_type": "code",
   "execution_count": null,
   "id": "7d9d2bf3",
   "metadata": {
    "tags": [
     "raises-exception",
     "remove-output"
    ]
   },
   "outputs": [],
   "source": [
    "import math\n",
    "\n",
    "# รับ input แล้วแปลงจาก string เป็น float ด้วยคำสั่งภายในบรรทัดเดียว\n",
    "r = float( input() )\n",
    "print(math.pi*r*r)"
   ]
  },
  {
   "cell_type": "markdown",
   "id": "8aed431a",
   "metadata": {},
   "source": [
    "- หากต้องการให้มีการ**แสดงข้อความอธิบายผู้ใช้งานโปรแกรม**ในขณะรับ input สามารถทำได้ดังนี้คือ\n",
    "```python\n",
    "name = input('Please enter your name:')\n",
    "print('My name is',name)\n",
    "```\n",
    "\n",
    "- เมื่อโปรแกรมทำงาน จะแสดงผลการทำงานดังต่อไปนี้\n",
    "```\n",
    "Please enter your name: John Doe\n",
    "My name is John Doe\n",
    "```\n",
    "\n",
    "- หากต้องการรับข้อมูลพร้อมกันหลายๆ ตัว เราสามารถใช้คำสั่ง `input().split()` ช่วยได้\n",
    "```python\n",
    "fname, lname = input('Enter your name:').split()\n",
    "```\n",
    "\n",
    "- `.split()` จะตัดข้อความที่อ่านได้จากคำสั่ง `input()` ออกเป็นหลาย ๆ ส่วน โดยดูจากช่องว่าง (space) ระหว่างข้อความ\n",
    "\n",
    "- ข้อความที่ถูกตัดแบ่งเป็นหลาย ๆ ส่วน แล้วจะถูกมากระจายเก็บในตัวแปรรอรับค่า (`fname`, `lname`)\n",
    "\n",
    "\n",
    "- เมื่อโปรแกรมทำงาน โปรแกรมจะรอรับข้อมูลจากผู้ใช้\n",
    "```console\n",
    "Enter your name: John Doe\n",
    "```\n",
    "\n",
    "- หากผู้ใช้ป้อนข้อมูลเป็น  “John Doe” ข้อมูลจะถูกแบ่งออกเป็น 2 ส่วน\n",
    " - “John” จะถูกเก็บไว้ในตัวแปร `fname`\n",
    " - “Doe” จะถูกเก็บไว้ในตัวแปร `lname`"
   ]
  },
  {
   "cell_type": "code",
   "execution_count": null,
   "id": "578ee744",
   "metadata": {
    "tags": [
     "raises-exception",
     "remove-output"
    ]
   },
   "outputs": [],
   "source": [
    "fname, lname = input().split()\n",
    "print('My firstname is ' + fname +' and ' + lname + ' is my last name.')"
   ]
  },
  {
   "cell_type": "markdown",
   "id": "7688c40d",
   "metadata": {},
   "source": [
    "- แต่ถ้าใช้  `name = input('Enter your name:')` โดยไม่มี `split()` ต่อท้าย\n",
    " - “John Doe” ทั้งหมดจะถูกเก็บไว้ในตัวแปร `name`"
   ]
  },
  {
   "cell_type": "code",
   "execution_count": null,
   "id": "3ea57e83",
   "metadata": {
    "tags": [
     "raises-exception",
     "remove-output"
    ]
   },
   "outputs": [],
   "source": [
    "name = input()\n",
    "print('My name is ' + name)"
   ]
  },
  {
   "cell_type": "markdown",
   "id": "e5df8221",
   "metadata": {},
   "source": [
    "### ข้อควรระวังในการใช้ `input().split()`\n",
    "\n",
    "\n",
    "เมื่อใช้ `input().split()` **ต้องมีจำนวนตัวแปรที่จะมารับค่าผลลัพธ์ของ `.split()` ให้พอดีกับข้อมูลที่ถูกแบ่งส่วนแล้ว** มิฉะนั้นจะเกิด error ได้\n",
    "\n",
    "```{code-block} python\n",
    "\n",
    "x,y,z = input().split()\n",
    "x = float(x)\n",
    "y = float(y)\n",
    "z = float(z)\n",
    "result = 2*x**2 + 3*y - 10*z\n",
    "print()\n",
    "```\n",
    "\n",
    "\n",
    "\n",
    "## Formatting output using *f-string*\n",
    "\n",
    "**`f-string`** คือการใช้ `f` นำหน้าข้อความเพื่อกำหนดรูปแบบพิเศษในข้อความนั้น และใช้เครื่องหมาย **`{}`** ในการ**กำหนดตำแหน่งและรูปแบบของข้อมูล**ที่จะแทรกลองไปในข้อความ ดังเช่นตัวอย่างต่อไปนี้"
   ]
  },
  {
   "cell_type": "code",
   "execution_count": null,
   "id": "ba140db0",
   "metadata": {
    "tags": [
     "hide-output"
    ]
   },
   "outputs": [],
   "source": [
    "num1 = 83\n",
    "num2 = 9\n",
    "result = f\"The product of {num1} and {num2} is {num1 * num2}.\"\n",
    "print(result)"
   ]
  },
  {
   "cell_type": "markdown",
   "id": "3277fd22",
   "metadata": {},
   "source": [
    "`f-string` สามารถนำไปใช้กำหนดรูปแบบพิเศษในข้อความที่จะแสดงออกด้วยคำสั่ง `print` เช่น"
   ]
  },
  {
   "cell_type": "code",
   "execution_count": null,
   "id": "8fd1f098",
   "metadata": {
    "tags": [
     "hide-output"
    ]
   },
   "outputs": [],
   "source": [
    "city = 'Chiang Mai'\n",
    "temp = 36.1\n",
    "print(f'Temperature in {city} is {temp} degree Celsius.')\n",
    "print('Temperature in ' + city + ' is ' + str(temp) + ' degree Celsius.')"
   ]
  },
  {
   "cell_type": "markdown",
   "id": "2a228d11",
   "metadata": {},
   "source": [
    "`f-string` สามารถใช้กำหนดรูปแบบพิเศษ เช่น จำนวนตำแหน่งทศนิยม หรือขนาดความกว้างของช่องการแสดงผลของข้อมูลที่ระบุใน `{}` ได้ เช่น"
   ]
  },
  {
   "cell_type": "code",
   "execution_count": null,
   "id": "927cc1b1",
   "metadata": {
    "tags": [
     "hide-output"
    ]
   },
   "outputs": [],
   "source": [
    "a = 3\n",
    "print(f'We have {a:5} dogs.')"
   ]
  },
  {
   "cell_type": "markdown",
   "id": "09a33ee1",
   "metadata": {},
   "source": [
    "ความหมาย:\n",
    "- **`{a:5}`** แสดงค่า `a` : ขนาด 5 ช่อง (ถ้าเป็นข้อมูล**ตัวเลขจะชิดขวา**)"
   ]
  },
  {
   "cell_type": "code",
   "execution_count": null,
   "id": "20e8f934",
   "metadata": {
    "tags": [
     "hide-output"
    ]
   },
   "outputs": [],
   "source": [
    "a = 'CMU'\n",
    "print(f'I love {a:5}.')"
   ]
  },
  {
   "cell_type": "markdown",
   "id": "437d51f6",
   "metadata": {},
   "source": [
    "ความหมาย:\n",
    "- **`{a:5}`** แสดงค่า `a` : ขนาด 5 ช่อง (ถ้าเป็นข้อมูล**ข้อความจะชิดซ้าย**)"
   ]
  },
  {
   "cell_type": "code",
   "execution_count": null,
   "id": "d7cd646b",
   "metadata": {
    "tags": [
     "hide-output"
    ]
   },
   "outputs": [],
   "source": [
    "a = 'Chiang Mai'\n",
    "b = 36.12345\n",
    "print(f'Temp in {a} is {b:.2f} degree Celsius.')"
   ]
  },
  {
   "cell_type": "markdown",
   "id": "e9283c26",
   "metadata": {},
   "source": [
    "ความหมาย:\n",
    "- **`{b:8.2f}`** แสดงค่า `b` : ขนาด 8 ช่องชิดขวา **`.2f`** = แสดงทศนิยม 2 ตำแหน่ง\n",
    "\n",
    "\n",
    "## Summary\n",
    "\n",
    "- **ตัวแปร (variable)** ถูกนำมาใช้ในการช่วยจดจำข้อมูลเพื่อใช้งานในภายหลัง ต้องอาศัยการจองพื้นที่ในหน่วยความจำ และมีการอ้างอิงโดยใช้ชื่อ\n",
    "- **ชนิดของตัวแปร** คือชนิดของข้อมูลที่จะถูกจัดเก็บไว้ในตัวแปร ได้แก่\n",
    " - ข้อความ (String)\n",
    " - เลขจำนวนเต็ม (Numerical Integer)\n",
    " - เลขทศนิยม (Floating-point)\n",
    " - ค่าทางตรรกะ (Boolean)\n",
    "- การตั้งชื่อตัวแปร ต้องไม่ซ้ำกับคำสำคัญ (Keywords) ที่ได้มีการกำหนดไว้\n",
    "- ชื่อตัวแปรใน Python นั้นเป็นแบบ case sensitive เช่น var และ Var ถือเป็นคนละตัวกัน\n",
    "- **ตัวดำเนินการ (operators)** คือเครื่องหมายที่ถูกใช้เพื่อสั่งให้โปรแกรมประมวลผล มีหลายชนิด ได้แก่\n",
    " - กำหนดค่า (Assignment)\n",
    " - คำนวณทางเลขคณิต (Arithmetic)\n",
    " - ความสัมพันธ์ และเปรียบเทียบ (Relational and Comparison)\n",
    " - การคำนวณทางตรรกะ (Logical)\n",
    "- เมื่อภายในคำสั่งประกอบไปด้วย operator มากกว่า 1 ตัว **ลำดับการประมวลผล (precedence)** ก่อนหลังจะเป็นไปตามที่ได้มีการกำหนดไว้\n",
    "- การคำนวณทางคณิตศาสตร์ที่ซับซ้อนมากขึ้นสามารถกระทำได้โดยอาศัยชุดคำสั่ง (หรือฟังก์ชัน) ที่ Python ได้เตรียมไว้ให้เรียกใช้\n",
    " - ต้อง `import math` โมดูลจึงจะเรียกใช้งานคำสั่งทางคณิตศาสตร์เหล่านั้นได้\n",
    "- การรับอินพุตจากผู้ใช้สามารถใช้ ฟังก์ชัน `input()`\n",
    "- ใช้ `input().split()` ในการตัดแบ่ง String ที่รับเข้ามาเพื่อแยกเป็นข้อมูลหลายตัวได้\n",
    "- Python f-string สามารถใช้สำหรับการกำหนดรูปแบบพิเศษให้กับข้อความได้\n",
    "- การแสดงผลออกจอภาพสามารถใช้ฟังก์ชัน `print()` ร่วมกับ f-string เพื่อกำหนดรูปแบบการแสดงผลที่เหมาะสมได้"
   ]
  }
 ],
 "metadata": {
  "kernelspec": {
   "display_name": "Python 3",
   "name": "python3"
  }
 },
 "nbformat": 4,
 "nbformat_minor": 5
}
