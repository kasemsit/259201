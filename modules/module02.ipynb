{
 "cells": [
  {
   "cell_type": "markdown",
   "id": "55e80d3b",
   "metadata": {},
   "source": [
    "# Variables and Types, Operators, Input/Output\n",
    "\n",
    "\n",
    "```{admonition} Topics\n",
    "- โครงสร้างของ Python โปรแกรม (program structure)\n",
    "- ตัวแปร (variables)\n",
    " - ชนิดของข้อมูล (data types)\n",
    " - การกำหนดชื่อตัวแปร (variable name)\n",
    "- ตัวดำเนินการ (operators)\n",
    " - คำสั่งทางคณิตศาสตร์ (math module)\n",
    "- การนำข้อมูลเข้าและการแสดงผล (input/output)\n",
    " - การจัดรูปแบบการแสดงผลด้วย *f-string*\n",
    "```\n",
    "\n",
    "## Example of Python Script\n",
    "\n",
    "```{code-block} python\n",
    "# นำเข้าคำสั่งภายนอก (bring in external functions)\n",
    "import datetime\n",
    "\n",
    "print(\"----- Age Calculate Program -----\")\n",
    "# รับค่าอินพุตนำไปกำหนดค่าตัวแปร (get input, store in a variable)\n",
    "yob = input(\"What's your year of birth? (e.g., 2004): \")\n",
    "\n",
    "# ประมวลผล (process data using variables)\n",
    "today = datetime.date.today()       # ดึงค่า วัน-เวลา ปัจจุบัน (get current date)\n",
    "year = today.year                   # สนใจเฉพาะ ปี ปัจจุบัน (get only year part)\n",
    "age = year - int(yob)               # คำนวณอายุ (caculate age)\n",
    "\n",
    "# แสดงผล (display output)\n",
    "print(\"You are\", age , \"years old.\")       # ดึงค่าของตัวแปร (access variable)\n",
    "print()\n",
    "print(\"Congratulations on your first Python program.\")\n",
    "```\n",
    "\n",
    "\n",
    "## Variables\n",
    "\n",
    "- **ตัวแปร** (Variable) – การกำหนดชื่อให้พื้นที่ในหน่วยความจำ\n",
    " - สามารถใช้ชื่อตัวแปร ในการอ้างอิงภายหลังได้\n",
    "- ผู้เขียนโปรแกรมควรกำหนด**ชื่อตัวแปร**ให้สอดคล้องกับข้อมูลที่จัดเก็บ\n",
    "- กฎการตั้งชื่อ **Python Identifier** (ชื่อตัวแปรหรือชื่อฟังก์ชัน)\n",
    " - ใช้อักษร lowercase (`a`-`z`) หรือ uppercase (`A`-`Z`)\n",
    " - ใช้ underscore (`_`) ได้ เช่น `var_1`, `print_this_to_screen`\n",
    " - **ห้าม**ขึ้นต้นด้วยตัวเลข เช่น `1variable` (ไม่ถูกต้อง)\n",
    " - **ห้าม**ใช้เครื่องหมายพิเศษอื่นๆ เช่น `!`, `@`, `#`, `$`, `%`\n",
    " - **ห้าม**ตั้งชื่อตรงกับ Keyword ของภาษา Python\n",
    "\n",
    "\n",
    "### Python Keywords"
   ]
  },
  {
   "cell_type": "code",
   "execution_count": null,
   "id": "b3d64705",
   "metadata": {
    "tags": [
     "hide-output"
    ]
   },
   "outputs": [],
   "source": [
    "import keyword\n",
    "print(keyword.kwlist)"
   ]
  },
  {
   "cell_type": "markdown",
   "id": "2285c594",
   "metadata": {},
   "source": [
    "## Data Types\n",
    "\n",
    "การเลือก**ชนิดของข้อมูล**ที่จัดเก็บในตัวแปรให้เหมาะสมกับการใช้งาน ถือเป็นเรื่องสำคัญของการเขียนโปรแกรมคอมพิวเตอร์\n",
    "\n",
    "\n",
    "### ชนิดข้อมูลพื้นฐาน\n",
    "\n",
    "ชนิดของข้อมูลพื้นฐานที่สำคัญในการเขียนโปรแกรม ได้แก่\n",
    "\n",
    "- `string` : ข้อความ\n",
    "- `int` : เลขจำนวนเต็ม\n",
    "- `float` : เลขทศนิยม\n",
    "- `boolean` : ค่าความจริง (`True`/`False`)\n",
    "\n",
    "**ตัวอย่าง**\n",
    "\n",
    "```python\n",
    "str1 = 'hello' # ข้อความ (string)\n",
    "str2 = \"2345\"  # ข้อความ (string)\n",
    "var1 = 50000   # จำนวนเต็ม (int)\n",
    "var2 = 10/2    # จำนวนจริง (float)\n",
    "var3 = 1.23e9  # จำนวนจริง (float)\n",
    "var4 = False   # ค่าความจริง (boolean)\n",
    "```"
   ]
  },
  {
   "cell_type": "code",
   "execution_count": null,
   "id": "3ad232d4",
   "metadata": {
    "tags": [
     "hide-output"
    ]
   },
   "outputs": [],
   "source": [
    "var1 = 100*2\n",
    "print(var1)"
   ]
  },
  {
   "cell_type": "code",
   "execution_count": null,
   "id": "bd659646",
   "metadata": {
    "tags": [
     "hide-output"
    ]
   },
   "outputs": [],
   "source": [
    "var2 = 1_000_000+1\n",
    "print(var2)"
   ]
  },
  {
   "cell_type": "code",
   "execution_count": null,
   "id": "0445618d",
   "metadata": {
    "tags": [
     "hide-output"
    ]
   },
   "outputs": [],
   "source": [
    "var3 = 10/2\n",
    "print(var3)"
   ]
  },
  {
   "cell_type": "code",
   "execution_count": null,
   "id": "8936d041",
   "metadata": {
    "tags": [
     "hide-output"
    ]
   },
   "outputs": [],
   "source": [
    "s1 = \"this is a string\"\n",
    "print(s1)"
   ]
  },
  {
   "cell_type": "markdown",
   "id": "5ebac3e0",
   "metadata": {},
   "source": [
    "### ข้อความ (string) ในภาษา Python\n",
    "\n",
    "- ข้อความสั้น ๆ, ประโยค, ตัวเลข ซึ่ง**อยู่ภายใต้เครื่องหมาย `quote`**\n",
    "- เครื่องหมาย `quote` ได้แก่ **`'...'`** (single), **`\"...\"`** (double), **`'''...'''`** (triple)\n",
    "- บางกรณีอาจต้องเลือกใช้ชนิดของ `quote` ให้เหมาะสมกับข้อความที่จัดเก็บ"
   ]
  },
  {
   "cell_type": "code",
   "execution_count": null,
   "id": "52aa4c81",
   "metadata": {
    "tags": [
     "hide-output"
    ]
   },
   "outputs": [],
   "source": [
    "# simple string\n",
    "print('this is a simple string.')"
   ]
  },
  {
   "cell_type": "code",
   "execution_count": null,
   "id": "38c3dd93",
   "metadata": {
    "tags": [
     "hide-output"
    ]
   },
   "outputs": [],
   "source": [
    "# string with single quote inside\n",
    "print(\"this isn't a simple string.\")"
   ]
  },
  {
   "cell_type": "code",
   "execution_count": null,
   "id": "8a2deafa",
   "metadata": {
    "tags": [
     "hide-output"
    ]
   },
   "outputs": [],
   "source": [
    "# string with double quote inside\n",
    "print('this is how to print \"double quote\" in sentence.')"
   ]
  },
  {
   "cell_type": "code",
   "execution_count": null,
   "id": "f4492b66",
   "metadata": {
    "tags": [
     "hide-output"
    ]
   },
   "outputs": [],
   "source": [
    "# string that spans multiple lines\n",
    "s2 = '''this is another string\n",
    "this is 2nd line\n",
    "this is 3rd line'''\n",
    "\n",
    "print(s2)"
   ]
  },
  {
   "cell_type": "markdown",
   "id": "dc499459",
   "metadata": {},
   "source": [
    "### อักขระพิเศษ (Escape Code)\n",
    "\n",
    " - ในภาษาคอมพิวเตอร์ มักมีการใช้งานอักขระพิเศษร่วมกับข้อความ (string) เพื่อให้เกิดการแสดงผลแบบต่าง ๆ เช่น การขึ้นบรรทัดใหม่ การแท็บ การลบอักขระ\n",
    " - อักขระเหล่านี้เมื่ออยู่ในโค้ดของโปรแกรม ปกติแล้วจะนำหน้าด้วย **`Escape Character`** ( **`\\`** )\n",
    " - อักขระพิเศษที่มีการใช้งายบ่อย ๆ ได้แก่ `\\n`, `\\t`\n",
    "\n",
    "\n",
    "Escape Code | Description\n",
    "------------|-------------\n",
    "`\\n` | newline\n",
    "`\\r` | carriage return\n",
    "`\\t` | tab\n",
    "`\\v` | vertical tab\n",
    "`\\b` | backspace\n",
    "`\\f` | form feed (page feed)\n",
    "`\\a` | alert (beep)\n",
    "`\\'` | single quote (\\')\n",
    "`\\\"` | double quote (\\\")\n",
    "`\\\\` | backslash (\\\\)"
   ]
  },
  {
   "cell_type": "code",
   "execution_count": null,
   "id": "e9486018",
   "metadata": {
    "tags": [
     "hide-output"
    ]
   },
   "outputs": [],
   "source": [
    "print('This is 1st line')\n",
    "print('This is 2nd line \\nThis is 3rd line')\n",
    "print()\n",
    "print('This is 4th line \\t\\tand this is separated by 2 tabs')"
   ]
  },
  {
   "cell_type": "markdown",
   "id": "78147b49",
   "metadata": {},
   "source": [
    "### ตัวแปรในภาษา Python อาจมีชนิดข้อมูลไม่ตายตัว\n",
    "\n",
    "- ตัวแปรในภาษา Python แต่ละตัวไม่จำเป็นต้องมีชนิดตายตัว (เหมือนกับในภาษา C/C++, Java, C#)\n",
    "\n",
    "- **เราสามารถใช้ตัวแปรเดียวกันเปลี่ยนไปเก็บข้อมูลชนิดอื่น ๆ ได้หากต้องการ**  จุดนี้ทำให้สะดวกต่อการใช้งาน แต่ในขณะเดียวกันก็อาจ**เสี่ยงต่อการเกิดข้อผิดพลาด**ได้เช่นกัน\n",
    "\n",
    "- การ**ตรวจสอบประเภทของข้อมูลที่จัดเก็บ**ในตัวแปร ทำได้ด้วยคำสั่ง `type()`\n",
    "\n",
    "```python\n",
    "type(ข้อมูล)\n",
    "```\n",
    "\n",
    "**ตัวอย่าง**\n",
    "\n",
    "\n",
    "`````{tab-set}\n",
    "````{tab-item} Ex 1\n",
    "```{code-block} python\n",
    "type('Hello')\n",
    "```\n",
    "**Output:**\n",
    "```console\n",
    "str\n",
    "```\n",
    "````\n",
    "````{tab-item} Ex 2\n",
    "```{code-block} python\n",
    "type(1)\n",
    "```\n",
    "````\n",
    "````{tab-item} Ex 3\n",
    "```{code-block} python\n",
    "\n",
    "type(1.234)\n",
    "```\n",
    "```console\n",
    "\n",
    "```\n",
    "````\n",
    "````{tab-item} Ex 4\n",
    "```{code-block} python\n",
    "\n",
    "type(1.23e11)\n",
    "```\n",
    "```console\n",
    "str\n",
    "```\n",
    "````\n",
    "`````"
   ]
  },
  {
   "cell_type": "code",
   "execution_count": null,
   "id": "a34e2566",
   "metadata": {
    "tags": [
     "hide-output"
    ]
   },
   "outputs": [],
   "source": [
    "s2 = 2500+1000            # int\n",
    "print(s2)\n",
    "print( type(s2) )"
   ]
  },
  {
   "cell_type": "code",
   "execution_count": null,
   "id": "d1183d5d",
   "metadata": {
    "tags": [
     "hide-output"
    ]
   },
   "outputs": [],
   "source": [
    "s2 = s2/2                 # float\n",
    "print(s2)\n",
    "print( type(s2) )"
   ]
  },
  {
   "cell_type": "code",
   "execution_count": null,
   "id": "baa2fa89",
   "metadata": {
    "tags": [
     "hide-output"
    ]
   },
   "outputs": [],
   "source": [
    "s2 = 'hello ' + 'there'   # string concatenation\n",
    "print(s2)\n",
    "print( type(s2) )"
   ]
  },
  {
   "cell_type": "markdown",
   "id": "2d64fdb1",
   "metadata": {},
   "source": [
    "เลือกใช้ operator ให้สอดคล้องกับชนิดของข้อมูล เช่น\n",
    "\n",
    "- `number` (ตัวเลข) `+` `number` (ตัวเลข) ได้ตามหลักคณิตศาสตร์\n",
    "- `string` (ข้อความ) `+` `string` (ข้อความ) ได้ แต่มักหมายถึงการนำข้อความมาเรียงต่อกัน (concatenation)\n",
    "- **`string` (ข้อความ) `+` `number` (ตัวเลข) ไม่ได้ จะเกิด `Type error`**"
   ]
  },
  {
   "cell_type": "code",
   "execution_count": null,
   "id": "0afffef7",
   "metadata": {
    "tags": [
     "raises-exception"
    ]
   },
   "outputs": [],
   "source": [
    "s2 + 1"
   ]
  },
  {
   "cell_type": "markdown",
   "id": "718a6037",
   "metadata": {},
   "source": [
    "## Type Conversions\n",
    "\n",
    "- **การเปลี่ยนชนิดของข้อมูล**ให้เหมาะสมก่อนใช้งานเป็นเรื่องที่เกิดขึ้นได้\n",
    "- บางครั้ง Python จะเปลี่ยนชนิดข้อมูลให้อัตโนมัติ เช่น เมื่อคำนวณค่า `int` ร่วมกับ `float` ค่าของ `int` จะถูกแปลงเป็น `float` โดยอัตโนมัติ\n",
    "\n",
    "\n",
    "### Number Conversions\n",
    "\n",
    "เราสามารถแปลงข้อมูลตัวเลข (number) ไปมาระหว่าง `int` กับ `float` ได้ด้วยคำสั่ง\n",
    "\n",
    "- `int()` : แปลงให้ข้อมูลเป็น**จำนวนเต็ม**\n",
    "- `float()` : แปลงให้ข้อมูลเป็น**จำนวนทศนิยม**"
   ]
  },
  {
   "cell_type": "code",
   "execution_count": null,
   "id": "fc97752c",
   "metadata": {
    "tags": [
     "hide-output"
    ]
   },
   "outputs": [],
   "source": [
    "print(99+1.23)"
   ]
  },
  {
   "cell_type": "code",
   "execution_count": null,
   "id": "3c03b395",
   "metadata": {
    "tags": [
     "hide-output"
    ]
   },
   "outputs": [],
   "source": [
    "i = int(42+3.5)\n",
    "print(i)\n",
    "print( type(i) )"
   ]
  },
  {
   "cell_type": "code",
   "execution_count": null,
   "id": "8a6fffc2",
   "metadata": {
    "tags": [
     "hide-output"
    ]
   },
   "outputs": [],
   "source": [
    "f = float(i)\n",
    "print(f)\n",
    "print( type(f) )"
   ]
  },
  {
   "cell_type": "markdown",
   "id": "141971d5",
   "metadata": {},
   "source": [
    "### String Conversions\n",
    "\n",
    "- เราสามารถใช้ `int()` และ `float()` เพื่อแปลง**ข้อความ (string) ที่มีรูปแบบตัวเลข** ให้มีค่าเป็นตัวเลข (number) ได้เช่นกัน\n",
    "```python\n",
    "c = float('30.5') # c=30.5\n",
    "d = int('100')    # d=100\n",
    "```\n",
    "\n",
    "- หาก**ข้อความไม่อยู่ในรูปของตัวเลขที่เหมาะสม**จะเกิด `value error`\n",
    "\n",
    "- เราสามารถแปลงข้อมูลตัวเลขให้เป็นข้อความได้ด้วยคำสั่ง `str()`"
   ]
  },
  {
   "cell_type": "code",
   "execution_count": null,
   "id": "0cac9aa8",
   "metadata": {
    "tags": [
     "hide-output"
    ]
   },
   "outputs": [],
   "source": [
    "# convert string in int format to int >> ok!\n",
    "print(int('1234'))"
   ]
  },
  {
   "cell_type": "code",
   "execution_count": null,
   "id": "84708ca0",
   "metadata": {
    "tags": [
     "hide-output"
    ]
   },
   "outputs": [],
   "source": [
    "str1 = '123.456'\n",
    "print(str1)\n",
    "print( type(str1) )"
   ]
  },
  {
   "cell_type": "code",
   "execution_count": null,
   "id": "928adfb4",
   "metadata": {
    "tags": [
     "hide-output"
    ]
   },
   "outputs": [],
   "source": [
    "# convert string in float format to float >> ok!\n",
    "print( float(str1)+1000 )"
   ]
  },
  {
   "cell_type": "code",
   "execution_count": null,
   "id": "3988c9ef",
   "metadata": {
    "tags": [
     "hide-output"
    ]
   },
   "outputs": [],
   "source": [
    "# convert string in float format to float >> ok!\n",
    "f = float('987.654')\n",
    "print(f)\n",
    "print( type(f) )"
   ]
  },
  {
   "cell_type": "code",
   "execution_count": null,
   "id": "42f057eb",
   "metadata": {
    "tags": [
     "hide-output"
    ]
   },
   "outputs": [],
   "source": [
    "print( f+1000 )"
   ]
  },
  {
   "cell_type": "code",
   "execution_count": null,
   "id": "27010eba",
   "metadata": {
    "tags": [
     "raises-exception",
     "hide-output"
    ]
   },
   "outputs": [],
   "source": [
    "# convert string in float format to int >> Value error!\n",
    "print( int('123.456') )"
   ]
  },
  {
   "cell_type": "code",
   "execution_count": null,
   "id": "d1ea2397",
   "metadata": {
    "tags": [
     "hide-output"
    ]
   },
   "outputs": [],
   "source": [
    "# convert \"string in float format\" to float,\n",
    "# then convert from float to int >> ok!\n",
    "value = int( float('123.456') )\n",
    "print(value)\n",
    "print( type(value) )"
   ]
  },
  {
   "cell_type": "code",
   "execution_count": null,
   "id": "0d8fffc1",
   "metadata": {
    "tags": [
     "raises-exception",
     "hide-output"
    ]
   },
   "outputs": [],
   "source": [
    "# covert string to int >> Value error\n",
    "print(int('Hello'))"
   ]
  },
  {
   "cell_type": "code",
   "execution_count": null,
   "id": "447ab7b7",
   "metadata": {
    "tags": [
     "hide-output"
    ]
   },
   "outputs": [],
   "source": [
    "# convert float to string >> ok!\n",
    "s = str(f)\n",
    "print(s)\n",
    "type(s)"
   ]
  },
  {
   "cell_type": "markdown",
   "id": "ed8b5538",
   "metadata": {},
   "source": [
    "---\n",
    "## Operators\n",
    "\n",
    "- `Operator` คือสัญลักษณ์หรือเครื่องหมายที่แทนการคำนวณต่าง ๆ ทางคณิตศาสตร์\n",
    "- ข้อมูลที่ `operator` ใช้ในการคำนวณเรียกว่า `operand`\n",
    "\n",
    "**ตัวอย่าง**"
   ]
  },
  {
   "cell_type": "code",
   "execution_count": null,
   "id": "b55f1aad",
   "metadata": {
    "tags": [
     "hide-output"
    ]
   },
   "outputs": [],
   "source": [
    "2 + 3"
   ]
  },
  {
   "cell_type": "markdown",
   "id": "7f0ba15b",
   "metadata": {},
   "source": [
    "- เครื่องหมาย + คือ operator สำหรับการบวก\n",
    "- ตัวเลข 2 และ 3 คือ operand และ 5 คือผลลัพธ์\n",
    "\n",
    "\n",
    "---\n",
    "### Arithematic Operators\n",
    "\n",
    "ตัวดำเนินการทางคณิตศาสตร์"
   ]
  },
  {
   "cell_type": "code",
   "execution_count": null,
   "id": "8912d84c",
   "metadata": {
    "tags": [
     "hide-output"
    ]
   },
   "outputs": [],
   "source": [
    "x = 16\n",
    "y = 4\n",
    "\n",
    "print('x + y =', x + y)   # การบวก\n",
    "print('x - y =', x - y)   # การลบ\n",
    "print('x * y =', x * y)   # การคูณ\n",
    "print('x / y =', x / y)   # การหาร (ได้ผลลัพธ์เป็น float)"
   ]
  },
  {
   "cell_type": "markdown",
   "id": "d58b7519",
   "metadata": {},
   "source": [
    "**`%` : การหารที่ได้เศษของการหารเป็นผลลัพธ์ (modulus)**"
   ]
  },
  {
   "cell_type": "code",
   "execution_count": null,
   "id": "3f9f59ff",
   "metadata": {
    "tags": [
     "hide-output"
    ]
   },
   "outputs": [],
   "source": [
    "x = 17\n",
    "y = 4\n",
    "print('x % y =', x % y)"
   ]
  },
  {
   "cell_type": "markdown",
   "id": "30855978",
   "metadata": {},
   "source": [
    "**`//` : การหารที่ปัดเศษของการหารทิ้ง**"
   ]
  },
  {
   "cell_type": "code",
   "execution_count": null,
   "id": "385dd9f0",
   "metadata": {
    "tags": [
     "hide-output"
    ]
   },
   "outputs": [],
   "source": [
    "x = 17\n",
    "y = 4\n",
    "print('x // y =', x // y)"
   ]
  },
  {
   "cell_type": "markdown",
   "id": "5ba05c0c",
   "metadata": {},
   "source": [
    "`**` : การคำนวณหาค่ายกกำลัง (exponent) **bold text**"
   ]
  },
  {
   "cell_type": "code",
   "execution_count": null,
   "id": "efaa8f8d",
   "metadata": {
    "tags": [
     "hide-output"
    ]
   },
   "outputs": [],
   "source": [
    "x = 2\n",
    "y = 4\n",
    "print('x ** y =', x ** y)"
   ]
  },
  {
   "cell_type": "code",
   "execution_count": null,
   "id": "28e9d811",
   "metadata": {
    "tags": [
     "hide-output"
    ]
   },
   "outputs": [],
   "source": [
    "16**0.5"
   ]
  },
  {
   "cell_type": "markdown",
   "id": "47c33cb5",
   "metadata": {},
   "source": [
    "### Comparison Operators\n",
    "\n",
    "ตัวดำเนินการสำหรับการเปรียบเทียบ ให้ผลลัพธ์เป็นค่าความจริง (boolean) ได้แก่ **True** หรือ **False**\n",
    "\n",
    "ผลลัพธ์ที่ได้จากการเปรียบเทียบมักถูกนำไปใช้ในการ**สร้างเงื่อนไข (condition)** ในการทำงานของโปรแกรมต่อไป"
   ]
  },
  {
   "cell_type": "code",
   "execution_count": null,
   "id": "52d3e0d6",
   "metadata": {
    "tags": [
     "hide-output"
    ]
   },
   "outputs": [],
   "source": [
    "x = 10\n",
    "y = 12\n",
    "\n",
    "print('x > y is', x > y)"
   ]
  },
  {
   "cell_type": "code",
   "execution_count": null,
   "id": "7166c610",
   "metadata": {
    "tags": [
     "hide-output"
    ]
   },
   "outputs": [],
   "source": [
    "print('x < y is', x < y)"
   ]
  },
  {
   "cell_type": "markdown",
   "id": "3aedab1a",
   "metadata": {},
   "source": [
    "**x เท่ากับ y หรือไม่?** (สังเกตุว่าไม่ได้ใช้เครื่องหมาย **=** ในการเปรียบเทียบ)"
   ]
  },
  {
   "cell_type": "code",
   "execution_count": null,
   "id": "8343e7df",
   "metadata": {
    "tags": [
     "hide-output"
    ]
   },
   "outputs": [],
   "source": [
    "print('x == y is', x == y)"
   ]
  },
  {
   "cell_type": "markdown",
   "id": "b7ad394a",
   "metadata": {},
   "source": [
    "**x ไม่เท่ากับ y หรือไม่?**"
   ]
  },
  {
   "cell_type": "code",
   "execution_count": null,
   "id": "57a93c9e",
   "metadata": {
    "tags": [
     "hide-output"
    ]
   },
   "outputs": [],
   "source": [
    "print('x != y is', x != y)"
   ]
  },
  {
   "cell_type": "markdown",
   "id": "16acf778",
   "metadata": {},
   "source": [
    "**x มากกว่าหรือเท่ากับ y หรือไม่?**"
   ]
  },
  {
   "cell_type": "code",
   "execution_count": null,
   "id": "b8c26706",
   "metadata": {
    "tags": [
     "hide-output"
    ]
   },
   "outputs": [],
   "source": [
    "print('x >= y is', x >= y)"
   ]
  },
  {
   "cell_type": "markdown",
   "id": "91c2bd77",
   "metadata": {},
   "source": [
    "**x น้อยกว่าหรือเท่ากับ y หรือไม่?**"
   ]
  },
  {
   "cell_type": "code",
   "execution_count": null,
   "id": "1651fc51",
   "metadata": {
    "tags": [
     "hide-output"
    ]
   },
   "outputs": [],
   "source": [
    "print('x <= y is', x <= y)"
   ]
  },
  {
   "cell_type": "markdown",
   "id": "19108099",
   "metadata": {},
   "source": [
    "### Logical Operators\n",
    "\n",
    "**ตัวดำเนินการด้านตรรกะ** ใช้ในการประเมินค่าความจริงในเงื่อนไขที่มีความซับซ้อน โดยใช้กับ**ชุดคำสั่งที่ให้ผลลัพธ์เป็น boolean** เช่น ผลลัพธ์จากการเปรียบเทียบ (comparison)\n",
    "\n",
    "มีตัวดำเนินการพื้นฐานได้แก่ `and`, `or`, `not`"
   ]
  },
  {
   "cell_type": "code",
   "execution_count": null,
   "id": "f2cf712d",
   "metadata": {
    "tags": [
     "hide-output"
    ]
   },
   "outputs": [],
   "source": [
    "x = True\n",
    "y = False\n",
    "\n",
    "print('x and y is', x and y)\n",
    "print('x or y is', x or y)\n",
    "print('not x is', not x)"
   ]
  },
  {
   "cell_type": "markdown",
   "id": "232ed4db",
   "metadata": {},
   "source": [
    "### Assignment Operators\n",
    "\n",
    "ตัวดำเนินการสำหรับ**การกำหนดค่า** จะใช้**เครื่องหมายเท่ากับ (`=`)** เป็นพื้นฐาน และสามารถประยุกต์ใช้ร่วมกับ**ตัวดำเนินการทางคณิตศาสตร์**อื่น ๆ ได้\n",
    "\n",
    "เช่น `+=`, `-=`, `*=`, `/=`, `**=`"
   ]
  },
  {
   "cell_type": "code",
   "execution_count": null,
   "id": "7b9a50f2",
   "metadata": {
    "tags": [
     "hide-output"
    ]
   },
   "outputs": [],
   "source": [
    "x = 10\n",
    "y = x+100\n",
    "print(x,y)"
   ]
  },
  {
   "cell_type": "code",
   "execution_count": null,
   "id": "658c07a3",
   "metadata": {
    "tags": [
     "hide-output"
    ]
   },
   "outputs": [],
   "source": [
    "x = x+1\n",
    "z = y/2\n",
    "print(x, z)"
   ]
  },
  {
   "cell_type": "code",
   "execution_count": null,
   "id": "687a45fa",
   "metadata": {
    "tags": [
     "hide-output"
    ]
   },
   "outputs": [],
   "source": [
    "x += 10   # x = x+10\n",
    "z /= 5    # z = z/5\n",
    "print(x,z)"
   ]
  },
  {
   "cell_type": "markdown",
   "id": "3cd5e94d",
   "metadata": {},
   "source": [
    "## Operators Precedence\n",
    "\n",
    "ลำดับการประมวลผลของตัวดำเนินการ เมื่อมีการนำเอาตัวดำเนินการหลายประเภทมาใช่ร่วมกันในการประมวลผล โปรแกรมจะมี**ลำดับในการประมวลผล operand คู่ก่อนหลัง จากบนลงล่าง** ดังที่แสดงในตารางต่อไปนี้\n",
    "\n",
    "\n",
    "| Operators             | Description                           |\n",
    "| :-------------------- | :------------------------------------ |\n",
    "| `()`                 | Parentheses                           |\n",
    "| `**`                    | Exponentiation (raise to the power)   |\n",
    "| `+x`, `-x`, `~x`            | Unary plus, Unary minus, Bitwise NOT  |\n",
    "| `*`, `/`, `//`, `%`           | Multiplication, Division, Floor division, Modulus                           |\n",
    "| `+`, `-`                  | Addition, subtraction                 |\n",
    "| `<<`, `>>`                | Bitwise shift operators         |\n",
    "| `&`                     | Bitwise AND                     |\n",
    "| `^`, `\\`                 | Bitwise XOR and OR        |\n",
    "| `>`, `>=`, `<`, `<=`          | Comparison operators                  |\n",
    "| `==`, `!=`                | Equality operators                    |\n",
    "| `=`,`+=`,`-=`,`*=`,`**=`,`/=`,`//=` | Assignment operators                  |\n",
    "| `is`, `is not`            | Identity operators                    |\n",
    "| `in`, `not in`            | Membership operators                  |\n",
    "| `not`, `or`, `and`          | Logical operators                     |"
   ]
  },
  {
   "cell_type": "code",
   "execution_count": null,
   "id": "1d116b6a",
   "metadata": {
    "tags": [
     "hide-output"
    ]
   },
   "outputs": [],
   "source": [
    "a = 20\n",
    "b = 10\n",
    "c = 15\n",
    "d = 5\n",
    "\n",
    "print(a + b * c / d)"
   ]
  },
  {
   "cell_type": "code",
   "execution_count": null,
   "id": "405fc9d1",
   "metadata": {
    "tags": [
     "hide-output"
    ]
   },
   "outputs": [],
   "source": [
    "print((a + b) * c / d)"
   ]
  },
  {
   "cell_type": "code",
   "execution_count": null,
   "id": "a4771fb4",
   "metadata": {
    "tags": [
     "hide-output"
    ]
   },
   "outputs": [],
   "source": [
    "print(a + b * (c / d))"
   ]
  },
  {
   "cell_type": "code",
   "execution_count": null,
   "id": "b0066c46",
   "metadata": {
    "tags": [
     "hide-output"
    ]
   },
   "outputs": [],
   "source": [
    "print((a + (b * c)) / d)"
   ]
  },
  {
   "cell_type": "markdown",
   "id": "6af5ca02",
   "metadata": {},
   "source": [
    "### Example\n",
    "\n",
    "$$\n",
    "y = -3x - \\frac{2}{10^2}\n",
    "$$"
   ]
  },
  {
   "cell_type": "code",
   "execution_count": null,
   "id": "714a234e",
   "metadata": {
    "tags": [
     "hide-output"
    ]
   },
   "outputs": [],
   "source": [
    "x = 5\n",
    "y = -3*x-2/10**2\n",
    "print(y)"
   ]
  },
  {
   "cell_type": "markdown",
   "id": "cec12999",
   "metadata": {},
   "source": [
    "## Python `math` module\n",
    "\n",
    "- การคำนวณทางคณิตศาสตร์ที่ซับซ้อนทำได้ยากด้วย `operator` พื้นฐาน\n",
    "- Python เตรียมชุดคำสั่ง (หรือฟังก์ชัน) ในการคำนวณที่จำเป็นทางคณิตศาสตร์เพิ่มเติมให้ผู้พัฒนาโปรแกรมได้เรียกใช้งาน\n",
    "- คำสั่งเหล่านี้ถูกจัดเตรียมรวมกันไว้ในโมดูล (module) ที่ชื่อว่า `math`\n",
    "- ก่อนจะใช้งานคำสั่งเหล่านี้เราต้อง `import` โมดูลเข้าสู่โปรแกรมเสียก่อน\n",
    "```python\n",
    "import math\n",
    "```\n",
    "\n",
    "- กลุ่มของชุดคำสั่งพื้นฐานทางคณิตศาสตร์ที่ Python มีให้เรียกใช้งาน\n",
    " - Trigonometric – `sin`, `cos`, `tan`, `asin`, `acos`, …\n",
    " - Exponential and Logarithmic – `exp`, `log`, `log2`, `log10`, …\n",
    " - Power – `pow, sqrt`, …\n",
    " - Rounding – `ceil, floor`\n",
    " - Others – `abs`, …\n",
    " - ค่าคงที่ - `pi, e`"
   ]
  },
  {
   "cell_type": "code",
   "execution_count": null,
   "id": "1476473c",
   "metadata": {},
   "outputs": [],
   "source": [
    "# import built-in math module\n",
    "import math"
   ]
  },
  {
   "cell_type": "code",
   "execution_count": null,
   "id": "1be150ad",
   "metadata": {
    "tags": [
     "hide-output"
    ]
   },
   "outputs": [],
   "source": [
    "# using square root (sqrt) function in math module\n",
    "print(math.sqrt(25))\n",
    "print(25**0.5)"
   ]
  },
  {
   "cell_type": "code",
   "execution_count": null,
   "id": "dd472a54",
   "metadata": {
    "tags": [
     "hide-output"
    ]
   },
   "outputs": [],
   "source": [
    "# pi and e value\n",
    "print(math.pi, math.e)\n",
    "# area of circle with radius of 10\n",
    "print(math.pi * 10**2)"
   ]
  },
  {
   "cell_type": "code",
   "execution_count": null,
   "id": "6a8cf143",
   "metadata": {
    "tags": [
     "hide-output"
    ]
   },
   "outputs": [],
   "source": [
    "# 2 radians = 114.59 degrees\n",
    "print(math.degrees(2))"
   ]
  },
  {
   "cell_type": "code",
   "execution_count": null,
   "id": "c4ed5688",
   "metadata": {
    "tags": [
     "hide-output"
    ]
   },
   "outputs": [],
   "source": [
    "# 60 degrees = 1.04 radians\n",
    "print(math.radians(60))"
   ]
  },
  {
   "cell_type": "code",
   "execution_count": null,
   "id": "af846f25",
   "metadata": {
    "tags": [
     "hide-output"
    ]
   },
   "outputs": [],
   "source": [
    "# Sine of 2 radians\n",
    "print(math.sin(2))"
   ]
  },
  {
   "cell_type": "code",
   "execution_count": null,
   "id": "f40373f2",
   "metadata": {
    "tags": [
     "hide-output"
    ]
   },
   "outputs": [],
   "source": [
    "# Cosine of 0.5 radians\n",
    "print(math.cos(0.5))"
   ]
  },
  {
   "cell_type": "code",
   "execution_count": null,
   "id": "f704115b",
   "metadata": {
    "tags": [
     "hide-output"
    ]
   },
   "outputs": [],
   "source": [
    "# Sine of 30 radians\n",
    "print(math.sin(30))\n",
    "\n",
    "# Sine of 30 degree\n",
    "# แปลง degree ให้เป็น radians\n",
    "# 360 degree = 2*Pi radians\n",
    "# 1   degree = 2*Pi/360 = Pi/180\n",
    "# 30  degree = 30*(Pi/180)\n",
    "print(math.sin(30*math.pi/180))\n",
    "\n",
    "# หรือแปลงโดยใช้คำสั่งต่อไปนี้\n",
    "rad = math.radians(30)\n",
    "print(math.sin(rad))\n",
    "\n",
    "# แปลง radians ให้เป็น degree โดยใช้คำสั่งต่อไปนี้\n",
    "print(math.degrees(rad))"
   ]
  },
  {
   "cell_type": "code",
   "execution_count": null,
   "id": "0454bf17",
   "metadata": {
    "tags": [
     "hide-output"
    ]
   },
   "outputs": [],
   "source": [
    "# 4! = 1 * 2 * 3 * 4 = 24\n",
    "print(math.factorial(4))"
   ]
  },
  {
   "cell_type": "code",
   "execution_count": null,
   "id": "88e6f4e3",
   "metadata": {
    "tags": [
     "hide-output"
    ]
   },
   "outputs": [],
   "source": [
    "# ceil\n",
    "print(math.ceil(5.23))\n",
    "# floor\n",
    "print(math.floor(5.99))"
   ]
  },
  {
   "cell_type": "markdown",
   "id": "a8084c94",
   "metadata": {},
   "source": [
    "## `input()` function\n",
    "\n",
    "- ใช้คำสั่ง input() สำหรับการรับค่าข้อมูลจากผู้ใช้ผ่านคีย์บอร์ด เช่น\n",
    "```python\n",
    "a = input()\n",
    "```\n",
    "\n",
    "- ข้อมูลที่ผู้ใช้ผ่านจะถูกเก็บไว้ในตัวแปร `a`\n",
    "- โดยปกติข้อมูลที่ได้จากคำสั่ง `input()` จะมีชนิดเป็น**ข้อความ (string)**\n",
    "\n",
    "- หากต้องการให้ข้อมูลที่ได้ถูกจัดเก็บในรูปแบบตัวเลข (number) จะต้อง**แปลงชนิดข้อมูล**ตามความเหมาะสม เช่น\n",
    "```python\n",
    "a = int(input())     # แปลงข้อมูลที่รับมาแบบข้อความ เป็น int\n",
    "a = float(input())   # แปลงข้อมูลที่รับมาแบบข้อความ เป็น float\n",
    "```"
   ]
  },
  {
   "cell_type": "code",
   "execution_count": null,
   "id": "79f56ab7",
   "metadata": {
    "tags": [
     "raises-exception",
     "remove-output"
    ]
   },
   "outputs": [],
   "source": [
    "import math\n",
    "\n",
    "# รับ input แล้วแปลงจาก string เป็น float ด้วยคำสั่งภายในบรรทัดเดียว\n",
    "r = float( input() )\n",
    "print(math.pi*r*r)"
   ]
  },
  {
   "cell_type": "markdown",
   "id": "0ca25574",
   "metadata": {},
   "source": [
    "- หากต้องการให้มีการ**แสดงข้อความอธิบายผู้ใช้งานโปรแกรม**ในขณะรับ input สามารถทำได้ดังนี้คือ\n",
    "```python\n",
    "name = input('Please enter your name:')\n",
    "print('My name is',name)\n",
    "```\n",
    "\n",
    "- เมื่อโปรแกรมทำงาน จะแสดงผลการทำงานดังต่อไปนี้\n",
    "```\n",
    "Please enter your name: John Doe\n",
    "My name is John Doe\n",
    "```\n",
    "\n",
    "- หากต้องการรับข้อมูลพร้อมกันหลายๆ ตัว เราสามารถใช้คำสั่ง `input().split()` ช่วยได้\n",
    "```python\n",
    "fname, lname = input('Enter your name:').split()\n",
    "```\n",
    "\n",
    "- `.split()` จะตัดข้อความที่อ่านได้จากคำสั่ง `input()` ออกเป็นหลาย ๆ ส่วน โดยดูจากช่องว่าง (space) ระหว่างข้อความ\n",
    "\n",
    "- ข้อความที่ถูกตัดแบ่งเป็นหลาย ๆ ส่วน แล้วจะถูกมากระจายเก็บในตัวแปรรอรับค่า (`fname`, `lname`)\n",
    "\n",
    "\n",
    "- เมื่อโปรแกรมทำงาน โปรแกรมจะรอรับข้อมูลจากผู้ใช้\n",
    "```console\n",
    "Enter your name: John Doe\n",
    "```\n",
    "\n",
    "- หากผู้ใช้ป้อนข้อมูลเป็น  “John Doe” ข้อมูลจะถูกแบ่งออกเป็น 2 ส่วน\n",
    " - “John” จะถูกเก็บไว้ในตัวแปร `fname`\n",
    " - “Doe” จะถูกเก็บไว้ในตัวแปร `lname`"
   ]
  },
  {
   "cell_type": "code",
   "execution_count": null,
   "id": "b8822df5",
   "metadata": {
    "tags": [
     "raises-exception",
     "remove-output"
    ]
   },
   "outputs": [],
   "source": [
    "fname, lname = input().split()\n",
    "print('My firstname is ' + fname +' and ' + lname + ' is my last name.')"
   ]
  },
  {
   "cell_type": "markdown",
   "id": "093abdf9",
   "metadata": {},
   "source": [
    "- แต่ถ้าใช้  `name = input('Enter your name:')` โดยไม่มี `split()` ต่อท้าย\n",
    " - “John Doe” ทั้งหมดจะถูกเก็บไว้ในตัวแปร `name`"
   ]
  },
  {
   "cell_type": "code",
   "execution_count": null,
   "id": "cb7defb2",
   "metadata": {
    "tags": [
     "raises-exception",
     "remove-output"
    ]
   },
   "outputs": [],
   "source": [
    "name = input()\n",
    "print('My name is ' + name)"
   ]
  },
  {
   "cell_type": "markdown",
   "id": "f3a69bec",
   "metadata": {},
   "source": [
    "### ข้อควรระวังในการใช้ `input().split()`\n",
    "\n",
    "\n",
    "เมื่อใช้ `input().split()` **ต้องมีจำนวนตัวแปรที่จะมารับค่าผลลัพธ์ของ `.split()` ให้พอดีกับข้อมูลที่ถูกแบ่งส่วนแล้ว** มิฉะนั้นจะเกิด error ได้\n",
    "\n",
    "```{code-block} python\n",
    "\n",
    "x,y,z = input().split()\n",
    "x = float(x)\n",
    "y = float(y)\n",
    "z = float(z)\n",
    "result = 2*x**2 + 3*y - 10*z\n",
    "print()\n",
    "```\n",
    "\n",
    "\n",
    "\n",
    "## Formatting output using *f-string*\n",
    "\n",
    "**`f-string`** คือการใช้ `f` นำหน้าข้อความเพื่อกำหนดรูปแบบพิเศษในข้อความนั้น และใช้เครื่องหมาย **`{}`** ในการ**กำหนดตำแหน่งและรูปแบบของข้อมูล**ที่จะแทรกลองไปในข้อความ ดังเช่นตัวอย่างต่อไปนี้"
   ]
  },
  {
   "cell_type": "code",
   "execution_count": null,
   "id": "fe6c1b9a",
   "metadata": {
    "tags": [
     "hide-output"
    ]
   },
   "outputs": [],
   "source": [
    "num1 = 83\n",
    "num2 = 9\n",
    "result = f\"The product of {num1} and {num2} is {num1 * num2}.\"\n",
    "print(result)"
   ]
  },
  {
   "cell_type": "markdown",
   "id": "86932838",
   "metadata": {},
   "source": [
    "`f-string` สามารถนำไปใช้กำหนดรูปแบบพิเศษในข้อความที่จะแสดงออกด้วยคำสั่ง `print` เช่น"
   ]
  },
  {
   "cell_type": "code",
   "execution_count": null,
   "id": "19c2764a",
   "metadata": {
    "tags": [
     "hide-output"
    ]
   },
   "outputs": [],
   "source": [
    "city = 'Chiang Mai'\n",
    "temp = 36.1\n",
    "print(f'Temperature in {city} is {temp} degree Celsius.')\n",
    "print('Temperature in ' + city + ' is ' + str(temp) + ' degree Celsius.')"
   ]
  },
  {
   "cell_type": "markdown",
   "id": "66f5b1db",
   "metadata": {},
   "source": [
    "`f-string` สามารถใช้กำหนดรูปแบบพิเศษ เช่น จำนวนตำแหน่งทศนิยม หรือขนาดความกว้างของช่องการแสดงผลของข้อมูลที่ระบุใน `{}` ได้ เช่น"
   ]
  },
  {
   "cell_type": "code",
   "execution_count": null,
   "id": "24e6ee4d",
   "metadata": {
    "tags": [
     "hide-output"
    ]
   },
   "outputs": [],
   "source": [
    "a = 3\n",
    "print(f'We have {a:5} dogs.')"
   ]
  },
  {
   "cell_type": "markdown",
   "id": "7eedb57f",
   "metadata": {},
   "source": [
    "ความหมาย:\n",
    "- **`{a:5}`** แสดงค่า `a` : ขนาด 5 ช่อง (ถ้าเป็นข้อมูล**ตัวเลขจะชิดขวา**)"
   ]
  },
  {
   "cell_type": "code",
   "execution_count": null,
   "id": "274b079a",
   "metadata": {
    "tags": [
     "hide-output"
    ]
   },
   "outputs": [],
   "source": [
    "a = 'CMU'\n",
    "print(f'I love {a:5}.')"
   ]
  },
  {
   "cell_type": "markdown",
   "id": "e1f4fbbd",
   "metadata": {},
   "source": [
    "ความหมาย:\n",
    "- **`{a:5}`** แสดงค่า `a` : ขนาด 5 ช่อง (ถ้าเป็นข้อมูล**ข้อความจะชิดซ้าย**)"
   ]
  },
  {
   "cell_type": "code",
   "execution_count": null,
   "id": "b360fc57",
   "metadata": {
    "tags": [
     "hide-output"
    ]
   },
   "outputs": [],
   "source": [
    "a = 'Chiang Mai'\n",
    "b = 36.12345\n",
    "print(f'Temp in {a} is {b:.2f} degree Celsius.')"
   ]
  },
  {
   "cell_type": "markdown",
   "id": "e4e15ce3",
   "metadata": {},
   "source": [
    "ความหมาย:\n",
    "- **`{b:8.2f}`** แสดงค่า `b` : ขนาด 8 ช่องชิดขวา **`.2f`** = แสดงทศนิยม 2 ตำแหน่ง\n",
    "\n",
    "\n",
    "## Summary\n",
    "\n",
    "- **ตัวแปร (variable)** ถูกนำมาใช้ในการช่วยจดจำข้อมูลเพื่อใช้งานในภายหลัง ต้องอาศัยการจองพื้นที่ในหน่วยความจำ และมีการอ้างอิงโดยใช้ชื่อ\n",
    "- **ชนิดของตัวแปร** คือชนิดของข้อมูลที่จะถูกจัดเก็บไว้ในตัวแปร ได้แก่\n",
    " - ข้อความ (String)\n",
    " - เลขจำนวนเต็ม (Numerical Integer)\n",
    " - เลขทศนิยม (Floating-point)\n",
    " - ค่าทางตรรกะ (Boolean)\n",
    "- การตั้งชื่อตัวแปร ต้องไม่ซ้ำกับคำสำคัญ (Keywords) ที่ได้มีการกำหนดไว้\n",
    "- ชื่อตัวแปรใน Python นั้นเป็นแบบ case sensitive เช่น var และ Var ถือเป็นคนละตัวกัน\n",
    "- **ตัวดำเนินการ (operators)** คือเครื่องหมายที่ถูกใช้เพื่อสั่งให้โปรแกรมประมวลผล มีหลายชนิด ได้แก่\n",
    " - กำหนดค่า (Assignment)\n",
    " - คำนวณทางเลขคณิต (Arithmetic)\n",
    " - ความสัมพันธ์ และเปรียบเทียบ (Relational and Comparison)\n",
    " - การคำนวณทางตรรกะ (Logical)\n",
    "- เมื่อภายในคำสั่งประกอบไปด้วย operator มากกว่า 1 ตัว **ลำดับการประมวลผล (precedence)** ก่อนหลังจะเป็นไปตามที่ได้มีการกำหนดไว้\n",
    "- การคำนวณทางคณิตศาสตร์ที่ซับซ้อนมากขึ้นสามารถกระทำได้โดยอาศัยชุดคำสั่ง (หรือฟังก์ชัน) ที่ Python ได้เตรียมไว้ให้เรียกใช้\n",
    " - ต้อง `import math` โมดูลจึงจะเรียกใช้งานคำสั่งทางคณิตศาสตร์เหล่านั้นได้\n",
    "- การรับอินพุตจากผู้ใช้สามารถใช้ ฟังก์ชัน `input()`\n",
    "- ใช้ `input().split()` ในการตัดแบ่ง String ที่รับเข้ามาเพื่อแยกเป็นข้อมูลหลายตัวได้\n",
    "- Python f-string สามารถใช้สำหรับการกำหนดรูปแบบพิเศษให้กับข้อความได้\n",
    "- การแสดงผลออกจอภาพสามารถใช้ฟังก์ชัน `print()` ร่วมกับ f-string เพื่อกำหนดรูปแบบการแสดงผลที่เหมาะสมได้"
   ]
  }
 ],
 "metadata": {
  "kernelspec": {
   "display_name": "Python 3",
   "name": "python3"
  }
 },
 "nbformat": 4,
 "nbformat_minor": 5
}
