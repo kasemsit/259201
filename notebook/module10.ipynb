{
 "cells": [
  {
   "cell_type": "markdown",
   "id": "2d1b1856",
   "metadata": {
    "id": "rxTFrhdeZ5NL"
   },
   "source": [
    "# N-dimensional Array using `NumPy`\n",
    "\n",
    "```{admonition} Topics\n",
    "\n",
    "- `NumPy` คืออะไร?\n",
    "- การสร้าง `Numpy array`\n",
    "- การประมวลผลทางคณิตศาสตร์กับ `Numpy array`\n",
    "- การเข้าถึงข้อมูลใน `Numpy array`\n",
    "- การประมวลผลแบบ Matrix ด้วย `Numpy`\n",
    "\n",
    "```\n",
    "\n",
    "<img width=\"300\" src=\"data:image/png;base64,iVBORw0KGgoAAAANSUhEUgAAAWAAAAB5CAYAAAAHz/urAAAAAXNSR0IArs4c6QAAAARnQU1BAACxjwv8YQUAAAAJcEhZcwAADsMAAA7DAcdvqGQAABTbSURBVHhe7d0HlBRV2gbgT0AwC6MEE6CAAUEUUBGVJKgEd4m6BDEQhFV+UGFVRgRUUBRUFEUBx4ioyGBY2FFmhiwZRPKKJFEQFFYlu7B/v+UtbYfu6nurQ1X1vM85c6Bqpps+dM/bt79771fH/C9EiIgo5YqoP4mIKMUYwEREHmEAExF5hAFMROQRBjARkUcYwEREHmEAExF5hAFMROQRBjARkUcYwEREHmEAExF5hAFMROQRBjARkUcYwEREHmE7SiIqNHbsOyR5m3ZZf7avWk7KnFBcfccbDGAiSnt28E5YvV2dESlzYnGpXvokT4OYAUxEaStS8BbkZRAzgIko7egEb0FeBDEn4Ygo7azYuUfyNu9SR3p27P0ttHHbVOEImIjSEkbBCFOMghGusWDki69UYgATUWDZpQaMdhGe11XIUN/5Q6wgvq5iRtSyg33/gJ9LdGmCAUxEgROtxos6bp/a5aVa6ZPUmT8UDGLUe3tfXt4xeMPvH/eNgE9kEDOAiSgwogVvQbGCGHSDt6BEBjEDmIh8Tzd4C3IK4oJw3yb3n4ggZgATka+t3LlH+s9cr47M6YQwasgIX53JuoJw/9Hqz7EwgInI9xCQ+aERsMkSMdNgtEfZ+Ld0gzie8AUGMBEFhk4Q26UBBGMkGOnifpxqxLGCON7gtTGAich3VmzYIytDX9fVypAypY6ur0YK4ljBi9sULDPgNiZBHCt4cRvQrQkzgInIdxDAmWN+q/v2bldeqp93kmMQI0CjBS9qyM8t3uJYVsBEGkLVKYjtgI8EP2ONrEM/N7R+Zcd6czgGMBH5TngA25yCOBKE4shFW4zqxk5BHEl48NoYwEQUaJECGBC+Q7tXjhnCmTPXGwVvQRhNRxtRQ6TgtZkEMJvxEFFg7Nh9SPKWxG6y0whrc0/UGymHw22wO84pfEcu3iJdp66OGL6mGMBEFCgTcrdbQewEZQSMRK2txhpBbAfvuKZVo9Z5wa4HJwoDmIgCR2cUjJUIsYI4VvAicDGJlywMYCIKHARwrFGwLVIQ6wSvXWqIp5YcCwOYiAIH4YuJukjsCbyC3w8PYqfgxQReomq8sTCAiSiQnGrBdghHC+KCwoM3mSPeghjARBRITqNgm1MQg1fBa2MAE1Fg5WtMxoEdxOGTd5hcS3TwYvma7hpgSPhGjPH/ypNbH35CHR2twhll5YarasuDd7SXimdGX2uXSD/+9LN0yhwqn85brM44e+vxh6Rj0+vUEaUT09eCiQsqnGO9vjNOPVkuvaCyXFLlPKlWqaKUOz1DihUtqn6KdNiBqWNI98rWDjmb022xmw79JUC3zWX4pgyMmBHaBeH7bvoCp3wEvHnb9zIme4q0f2iIrNm4RZ0lCr51m7+Rz+Yvlnc/nS4PPj9WmvV6SMo3ay9V/tpZej89SuYuXyX/PXxY/TQlyru5Zk3aEwmXNRrXrKoVwKbhC56VIBasXCP9R42T73ftVmeI0hMGHS+8+6Fce2dvqdWhh4z+4BPZu/+A+i7FCyNe3SVpiWIH75D6lV0Fr83TGvBHMz6Xx8a8xRcjFRor1m+Uu58YKbU79pQJOfkcERuK1gMCKyJSJVrwojyB/hAmGzc8n4R7aeLHMu7DqcKeQFSYoFzRMXOo9Hn6Rdn18y/qLMUStS2lwcaMeCB0owUvasP404QvVkE8N36SzFq6Qh0RFR4YgNw24EmrTEF6MJEWic72ZFMoNWByLZJ4gtfmiwDGiw+TFpyUo8JoypwF0mf4i5wP0YRRsL2SIZxOkx5dmFSLVWqIJ3htvghg4KQcFWacDzHTKEIAQ7yjYDt4nVY1JCJ4bb4JYMCLcPgb78vBQ7+qM0SFB+dD9CV6FKwTvIDRbyL5KoBhzOQpMil/Nl+EVCi9/vGn8u8tW9UROWnfOBSWESbkdHfHgVPw2qWGRI12I/FdAP+yd59kjnqVk3LkG9i5uTM/W44syY36dWB+jmyZOkEmDR8kLa6to25pbvm/v5bJ+XPk8JEj6gxFg/AN3wFni9TzIRJsGXYK3kSWGqLxXQADJ+UoaIofW0zOLltaWjW8Rj569jFZPH60XF+ntvqumX/Oni9bv9+pjshJtFGwG6kMXpsvAxgwKTfo5TdkN9dIUsAcc8wxUvPCKvLGYw9Iu8b11Vl9ny9fFRoJb1BH5AThG6kWbMKL4LX5NoBhYu5Mq28EdwtREJXNKCWP332nXFntInVG37K1XxXqeZCyUcoLkSCA3Y6CvQpem68DGIZmvSPvT5vJSTkKpMrnnCl3tmyqjvSt2rBJft67Tx0VPghUdDkr2OksErejYGwZTmTw4jJHqCmbtKP0fQBzUo6CDOWIejWrS43zK6kzer7b+aP855fUNwj3G4SvHcROo9x4RsHxsoMXlznCnyZ8H8CASblHx7wp3+74QZ0hr6AchAmi2ctWyIwly3//woTpoV//q37KHO4Xm3DQsjH8fu373rNvv/rJ4Dmz9GlWb2AT2JBx4FBqO3z5GYJ43AOhgGscOeDcjoLjEU/w2lLekD0ef2/3FxnWu7ucePxx6oyeRDdkR0igtaCuR3veLg937aSOYjN9vHe1aSHP3N9Tji9RQp05ms59YgZ/QLdb5dIL/jxaw0tk43fb5bWPcuTtqblR+xZknHKy9Gh7k/Tu0EZKlzpVnY1u/8GDVpCPn5onU2bPj9mU5rorLpN2TRpIywZXS5mMkuqsGTcN2bEM7e0h/eW0U09RZ8wgSPs+87K10cLE7KyRcnWNiyU7f4607TdInXWGhvCdmjWWezu1tZ6PeOD5eOWDT6x5mFi9Kk4+8QTJHj7Yeo681HXYaseNGIloyI7b4IKebkM3XCBGwDa8gEe99yEn5ZJk8vQ58o+Rr8i2H/5YyL5z90/Sf9Srcln7u2TIq+MdfxHxC4uafb0ufSTn80VR6/bY6YhWjHU63yM33v2gvDVlmlZHsLyFy6THkGelaps75NnxkwKzbfe44sWtq2K4ddUlVaXxlTXVkTM8P3iesIIIb3Bu4f/2kZdek8wXs2KGLzS+oqbUvLCyOvJOKkbB8Yx4CwpUAAMn5ZIrd8FSWfn1RuvvS9d+Ja3vHyjDXn/XqsXrQqvFnkOfCwX63KOep+0/7pK7nxxptWJEb1w3ENb3PzNa2vQdJF9t+Vad9S/8Hxw+7H5jRbnTSklzw80dk/JmyeoNm9WROUwC4g1ZV7NrrpRScY64EyGR64Ijcdqm7EbgAhhBMGTc265/eSm26aGR5rQFS6yAm7t8pTprBqMmhOSSNV+pM2KF5e2PPCVZH+WoM/HB5X86D3jS9xt2UILAG4+J6pXP/b3kgYm8v9Sra7ScDZ9iZi750tVABbeZs2zlnz4JOcHjanS5t6WHcENjTNjpsmu8iRrtRuJpAGNmGDUrU/iFG/jy6+ycliRZH+dI236DtT56OsHtR7032VpOhecK5Q2EZiIFoYvegYOHjHe2FSlSJBS86iCk/Bll5Po6tdSRntzQmyhq3qZwG9xWFx4XHp9fIHxR69VdR1xQIibXdHkawE3rXi6DetxmFfBNsX1f8uzY9R+jkoMTlCE+nbdIXpgw2XrOkgH3iwth+rUs9U0ofE0b7KDscHrJPyYyi4YCuXm9OnKGQS0Zk8VudtSt27zVuq0OPB48Ljw+P7GXryGIdUfDqQxem6f/a7t/2WPNvPe/s4M6Y4aTcv6HIO817AV5IfQ8JZNfu4jhTQF1ddNadaWzzzxqtc/F51WUG666XB3Fhv/7/IVLjRr74PHOWPSF9hswHg8el19hUg7L15zWCXsRvDbP37aOLVZU7rmlpXRr1VydMfP8hGyZtfRLdUR+lMgRdTToIjZ1zkJ15B9rN30jE6fNVEf6Kp1zlrV6IhwCuUW9q9SRnvxQmG7ZtkMdxYbyg0ndH4/HdFmoFzASjjQa9ip4bb743IAnsE/HNq72zGOiIHNUFjunJRlaLI7sd49MG/20tSa27603u6rfF4TyU/sbG8nYAfdL/pgR1n1jXbObNazzvlwlP+3Zq468h9UauN4h6tQm8LH+6ksvVkd/1rB2DetToy7828vWxV7rajMpP2BpHJbIBQXKEuF1YbsdpZc8DeBN322XfQd+W6t40bnl5cn/6+bql5qXM0oeBC9aK6LFYq+/tbQW2ncIBeZTfbrLyomvysDundVPmkO7xukI3ccfki4tm0qDWjWs+x7dv48seedlo6ABjILjnThMlA3fbpNuj46QsZOnqDP66lSvKlVCI+BIsNQLS75M/HPWPK25EtPyw411r7Bq1eSeryrn2DM/5J4unJTziUF3dZb3hg2wWitiKVRB+OSCHVedWzRRZ/Th086zff8e9b7xRjzivh5ydY1q6kxsqLNu+s6bAMY2bAwAcIFNrHHGxhWTdbThYq2pxZIvk0+LGKBgsBOLSfkBAybsEIz03JE+XwUwnsybm9SXf3S+RZ0xg0k5vOj9OhseJF1bNpO+oefBaXsznBJ6s2zdqJ460te1VTPrl9gJQrhVI7NR8Ndbv1N/SxxsWy7dqLUUqdU46tdxdW6UM5q0k5t6Z1q7/NzWvPGxPtYI13RJGspzn82PvawMKyZ0yw9NrqwllaOM0kmfrwIYihUtKl1bN5O/NqirzpgZ8NJr7JyWAEWL/nkdqpPzK5xtbRzQhfXf11wWe2SLN+TaVc9XR3r27g9u0x588rv7lpYxl5q5WZI2Z9kKx4sbYKXErCXLtd448Dhvql9XShQ/Vp0ht3wXwIBG1kPv6epqUg41QF7OKLUwCj6tpH6jmoJrXJ2UDf2sSSvH7T/sCmwXsV6h8G2uWd81XZKWu3CpLF0bfTIOK1XmrVitjpzdGPp3/dD3IR34MoCBk3LBgZFQiWP1R0NlQm+wuIZaMmAkF8QS1K3Nm1hd5PAJUAfq7x2bNdaeL8HIFiPcaGuC0Tdiwcq16sjZLTc09EXfh3Tg2wAGTMr179JRHZnBpNy47KncpOFDJxxXQjtoCgOE7/B7e2i18AyHUSi6kOnKW7Qs4pZok/JD0Jae+Z2vAxg1QCxLQh9gN5568z2rc1qR0P24WVlBlEx4TWIX6KgHexmHL5guScPFPsObI9mMyg9cepZQvg5gwEetAd1vdTUph3d0XM4ILy63zbSJkuHyiy+QSU8Pkkd73iEnn+B+cGC6JG3a/MVH9QnWLT9w6Vni+T6AId5JuXuHvyRzvnDXVpEoka69rLq1tnrG2Gesj/NFisQXZqZL0rBtf8PWberIrPzApWeJF4gABrz7Du7prnMaFuiv+nqTOiJKrQsqnCMPd+0oX74/TqaPeUbaNa4fc321LixJa9O4Xsw11TasDgofjHz/426Z/UXsZZtcepYcgQlgwMctt53TiJINQYvt1bffdIOMuK+n1Tdja857suqDLKvUUK1SxbhHvJHg38XoVFfewqW/98zAlS9mLF5u/d2JXy45lG4CFcCYOUfnNLeTckRuoO65Mz9bjizJdfxak/2a5Lz4pGQN6if3dmxj9c3AFZGTEbrhMCrF6FT30+Hc0Ah4/TffWtunc+bqdZDzyyWH0k2gAhjimZQjSlcmS9LQQRC7Rb/d8YN8vjz26gfMvfjpkkPpJHABDJiUG9zjdu26F1G6M12S9sW69TJjyRfWpqVY/HbJoXQSyAAG9B7I7NqJ63uJFJQ8dLvHYTXE8xMmq6Po/HrJoXQR2P9Vu3MaJ+WIfmPSPQ7LM9E/ORa/X3Io6AL9tsZJOaI/YFCCCcNEluaCcsmhoAr85wq8OB4KjYIb1r5UnUk+7Kozab+Ia3LZV/4gSiZslDBZkuaEfR+SLy0KO2eVOV0e6d7ZVec0N44vUdyo9rxi/UZrwbsu7M3fbvDzRDbTJWlO2Pch+dKmsh7P5YxMlTz5JGt9py7MNL8/bUbMzmxoo5i3cJl06D9Eqz5HFIlpl7RI2PchNdImgFM5KYcG5DWq6DcJh6FZ78gbn3wmBw/9qs782ZbtO+SBkWOldd+BDF+KC5akoVdwPNj3ITXSJoABk3LdWze39tonE8L+iuoXqiM9aHbS7bER0qDbfTL4lTetizfi64lQMDfp2U8qNu8gw996X6spClEsqN2ihusGPkWy70NqpFUAA979B/W4zVXnNBPVKp3r6gWOcsTgMW9aF2/EV+aLWVbZgSiRULtFDdcN9n1InbQLYED9yu3ljHThBd6uSQN1ROQv8SxJQ/mCfR9SIy0DGJI9KYcX+E316mhfRJEo1dwsSePSs9RK2wBGQLZpdK10b9VcnUm8cqdlSN/OtyRlpF0mo2RKVnRQ+nKzJI1Lz1IrbQMY8ALse9vNSe2cloyRNi7SOPvVkdZHSKJ41Kl+kTUQ0cGlZ6mX1gEM8VzOSAderH+7vqGM7t9HMuKsmyHEn773Lnk5s49UKX9W6KPgxeo7RO78vHefbN1x9JWQI+HSs9RL+wAGvLMP693NunJAMqDhdvsbGspno5+SFtfWUWfNtGp4jUwfM0Lu69j298vVoA2gm0kUIlv+omWSu2CpOooOb/5cepZ6hSKAoV7NS+Rfo56Q+zq1TUoQYyRc88Iqkj1isMzOGimdWzSJWZYIv1bYxKcGWrcP//hX9bwK8sIDvawLORKZ2v3zL5KdN1sdOePSM28c8z/sf6WkwCVfcNWBzdu/V2d+c2yxYnJ++bOtpj7JvlwNFV7Z+XOkbb9B6sjZ2AH3S5eWTdURpQoDmCgNYfTbY8hzMjF3pjoTHeZH3hmaKeeeVU6doVQpNCUIosJk0ep1kjNvkTpyxksOeYcBTJRm9u4/IO/mTNfqK8JLDnmL/+tEaWb+ijUyKV9v8o2XHPIWA5gojew/eFA+yJ2p3VWPlxzyFgOYKI0sWrVOPp75uTpyxr4P3mMAE6UJNPvHut9tP+xSZ5yx74P3GMBEaWL5V19rLTsD9n3wBwYwURrA6HfiZzO1R7/s++APDGCiNLBu8zcyde4CdeSMfR/8gwFMFHCHjxyRSbmzZM3GLeqMs9taXC91a3DyzQ8YwEQBtzYUvB/kzVJH0eHCAZldOlrXTLQ77pG32AuCiMgjHAETEXmEAUxE5BEGMBGRRxjAREQeYQATEXmEAUxE5BEGMBGRRxjAREQeYQATEXmEAUxE5AmR/wdBa7pyLjAnuAAAAABJRU5ErkJggg==\"/>\n",
    "\n",
    "`Numpy` คืออะไร?\n",
    "- ไลบรารี(หรือแพ็กเกจ)สำหรับการประมวลผลข้อมูลในรูปแบบของ **`array` หลายมิติ**ในภาษา Python\n",
    "- เป็นแพ็กเกจพื้นฐานที่ใช้ในการพัฒนาไลบรารีอื่น ๆ สำหรับการประมวลผลด้าน**วิทยาการข้อมูล (Data science)**\n",
    "- นิยมใช้ประมวลผลข้อมูล **Matrix** และการคำนวณอื่น ๆ **ด้านคณิตศาสตร์**\n",
    "- Data type พื้นฐานของ `NumPy` เรียกว่า **`NumPy array`** ใช้ในการจัดเก็บข้อมูลสำหรับการประมวลผลต่าง ๆ ด้วย `NumPy`\n",
    "\n",
    "\n",
    "\n",
    "## จุดเด่นของ NumPy\n",
    "\n",
    "- **Speed**: มีการทำงานที่รวดเร็วมากกว่าการประมวลผลข้อมูลที่จัดเก็บด้วย List ของ Python อย่างมาก\n",
    "- **Fewer loops**: ลดการใช้งานคำสั่งเกี่ยวกับ Loop ของ Python\n",
    "- **Clearer code**: โค้ดที่ใช้งานจะมีความสอดคล้องกับการคำนวณทางคณิตศาสตร์มากกว่าการใช้ Python โค้ดโดยทั่วไป\n",
    "- **Better quality**: โค้ดของ NumPy เกิดจากการมีส่วนร่วมของผู้เชี่ยวชาญมากมาย\n",
    "\n",
    "\n",
    "ก่อนใช้งาน `NumPy` ต้องเริ่มด้วยการ import โมดูลนี้ก่อนโดยใช้คำสั่ง `import` ดังนี้"
   ]
  },
  {
   "cell_type": "code",
   "execution_count": null,
   "id": "7be1919f",
   "metadata": {},
   "outputs": [],
   "source": [
    "import numpy as np"
   ]
  },
  {
   "cell_type": "markdown",
   "id": "4da2ae95",
   "metadata": {},
   "source": [
    "เราสามารถตรวจสอบ `version` ของ `NumPy` ที่ติดตั้งในระบบของเราโดยใช้คำสั่งต่อไปนี้"
   ]
  },
  {
   "cell_type": "code",
   "execution_count": null,
   "id": "ece8fbd0",
   "metadata": {
    "tags": [
     "hide-output"
    ]
   },
   "outputs": [],
   "source": [
    "print(np.__version__)"
   ]
  },
  {
   "cell_type": "markdown",
   "id": "b6cbf9fc",
   "metadata": {},
   "source": [
    "---\n",
    "## ประสิทธิภาพของ NumPy\n",
    "\n",
    "การเปรียบเทียบประสิทธิภาพในการนำค่าเลข `1` บวกเข้าไปยังแต่ละ item ของข้อมูลในลิสต์ `[0,1,2,3,...,9999]`โดยใช้ **List comprehension** และ **NumPy**\n",
    "\n",
    "**คำนวณหาเวลาเฉลี่ยต่อรอบการทำงาน** (โดยจะทำการรัน 5 ครั้ง แต่ละครั้งจะรันคำสั่ง 1000 รอบ)"
   ]
  },
  {
   "cell_type": "code",
   "execution_count": null,
   "id": "98dfcc66",
   "metadata": {
    "tags": [
     "hide-output"
    ]
   },
   "outputs": [],
   "source": [
    "# ใช้ List comprehension\n",
    "%timeit -r5 -n1000 [i+1 for i in range(10_000)]"
   ]
  },
  {
   "cell_type": "code",
   "execution_count": null,
   "id": "cbed218a",
   "metadata": {
    "tags": [
     "hide-output"
    ]
   },
   "outputs": [],
   "source": [
    "# Numpy's np.arrange\n",
    "%timeit -r5 -n1000 np.arange(10_000)+1"
   ]
  },
  {
   "cell_type": "markdown",
   "id": "44edb56e",
   "metadata": {},
   "source": [
    "```{warning}\n",
    "ในการพัฒนาโปรแกรมโดยใช้ไลบรารี(หรือแพ็จเกจ)ต่าง ๆ เช่น `Matplotlib`,`NumPy` อาจพบปัญหาว่า **โค้ดที่พัฒนาขึ้นด้วยแพ็กเกจ version เก่า อาจเกิดข้อผิดพลาดหากถูกนำไปรันในระบบที่ใช้งานแพ็กเกจ version ที่ใหม่กว่า** เพราะบางฟังก์ชันที่เคยใช้งานอาจถูกตัดออกไปในแพ็กเกจ version ใหม่\n",
    "```\n",
    "\n",
    "\n",
    "\n",
    "\n",
    "## การสร้าง NumPy array\n",
    "\n",
    "เราสามารถใช้ฟังก์ชัน `.array()` ในการ**สร้าง NumPy array จากข้อมูล List** ที่เราส่งให้กับฟังก์ชัน โดย List ที่ส่งให้ฟังก์ชันอาจมีจำนวน **`dimension` มากกว่า 1 มิติก็ได้**\n",
    "\n",
    "```python\n",
    "np_array_variable = np.array(...)\n",
    "```\n",
    "\n",
    "\n",
    "\n",
    "**ตัวอย่าง**\n",
    "\n",
    "- `x1` จะเป็น array แบบ **1 มิติ**\n",
    "- `x2` จะเป็น array แบบ **2 มิติ**"
   ]
  },
  {
   "cell_type": "code",
   "execution_count": null,
   "id": "e04feaad",
   "metadata": {
    "tags": [
     "hide-output"
    ]
   },
   "outputs": [],
   "source": [
    "x1 = np.array([1,2,3,4,5,6])                      # 1D array\n",
    "x2 = np.array([[1,2,3],[11,22,33],[10,20,30]])    # 2D array, dimension: 3x3"
   ]
  },
  {
   "cell_type": "markdown",
   "id": "ecade062",
   "metadata": {},
   "source": [
    "เมื่อพิมพ์ตัวแปร array ด้วยคำสั่ง `print()` จะมีการจัดรูปแบบการแสดงผลที่ปราศจากเครื่องหมาย `comma \",\"` และถ้าเป็นข้อมูลหลายมิติ ก็จะมีขึ้นบรรทัดใหม่สำหรับข้อมูลแต่ละ row จึงทำให้เข้าใจข้อมูลได้ง่าย่กว่า (เมื่อเทียบกับ Python List)"
   ]
  },
  {
   "cell_type": "code",
   "execution_count": null,
   "id": "9f64d093",
   "metadata": {
    "tags": [
     "hide-output"
    ]
   },
   "outputs": [],
   "source": [
    "print('---Print numpy arrays:---')\n",
    "print(f\"x1 1D-array: \\n{x1}\")\n",
    "print(f\"x2 2D-array: \\n{x2}\")\n",
    "\n",
    "print('\\n------Print 2D list------')\n",
    "y =[[1,2,3],[11,22,33],[10,20,30]]\n",
    "print(f\"y 2D-List: \\n{y}\")"
   ]
  },
  {
   "cell_type": "markdown",
   "id": "5dd16903",
   "metadata": {},
   "source": [
    "### การตรวจสอบขนาด และชนิดของข้อมูลที่จัดเก็บ\n",
    "\n",
    "หากต้องการทราบขนาดในแต่ละมิติของข้อมูล NumPy array สามารถเช็คค่าคุณสมบัติ (property) `.shape` ได้ โดยผลลัพธ์จะแสดงขนาดในแต่ละมิติในรูปแบบของ `Tuple`\n",
    "\n",
    "\n",
    "\n",
    "\n",
    "**ตัวอย่าง**"
   ]
  },
  {
   "cell_type": "code",
   "execution_count": null,
   "id": "be03213b",
   "metadata": {
    "tags": [
     "hide-output"
    ]
   },
   "outputs": [],
   "source": [
    "# NumPy \".shape\" property\n",
    "print(f\"x1.shape: {x1.shape}\")   # 1D array\n",
    "print(f\"x2.shape: {x2.shape}\")   # 2D array"
   ]
  },
  {
   "cell_type": "code",
   "execution_count": null,
   "id": "c3a214a5",
   "metadata": {
    "tags": [
     "hide-output"
    ]
   },
   "outputs": [],
   "source": [
    "# Python List\n",
    "# print(y.shape)  >> error\n",
    "rows = len(y)     # ขนาดในมิติแรก (นอกสุด)\n",
    "cols = len(y[0])  # ขนาดในมิติที่ 2\n",
    "print(rows,cols)"
   ]
  },
  {
   "cell_type": "markdown",
   "id": "d71aecaa",
   "metadata": {},
   "source": [
    "```{warning}\n",
    "\n",
    " **ความแตกต่างของ `function` กับ `property`** \n",
    " \n",
    " จากที่ได้เคยเรียนรู้กันมาแล้วว่า ใน **Data type ที่มีความซับซ้อน** เช่น **NumPy array**, **String**, **List**, **Tuple**, ... (และอีกมากมาย) นอกจากจะสามารถใช้จัดเก็บข้อมูลได้แล้ว ตัวแปรของ Data type เหล่านี้จะมีความสามารถติดตัวมาด้วยในรูปแบบของ **`function`** ต่าง ๆ เช่น\n",
    "\n",
    "- `.upper()` ของ String : ใช้แปลงตัวอักษรให้เป็นตัวใหญ่ (capital letter)\n",
    "- `.append()` ของ List : ใช้เพิ่ม item ใหม่ต่อท้ายลิสต์\n",
    "- `.array()` ของ NumPy array : ใช้สร้าง NumPy array จากข้อมูลที่ส่งให้\n",
    "\n",
    "ซึ่งในการเรียกใช้งานฟังก์ชันจะ**ต้องเติม `วงเล็บ '()'` ท้ายชื่อฟังก์ชัน** เพื่อให้เราสามารถส่งข้อมูลต่าง ๆ ให้ฟังก์ชันได้\n",
    "\n",
    "แต่ **`property`** คือคุณสมบัติของ Data type บางประเภท ที่**บ่งบอกสถานะปัจจุบันของข้อมูลที่ถูกจัดเก็บ** เช่น\n",
    "\n",
    "- `.shape` ของ NumPy array : บอกขนาดของข้อมูลในแต่ละมิติ\n",
    "- `.dtype` ของ NumPy array : บอกชนิดของข้อมูลที่ถูกจัดเก็บ\n",
    "\n",
    "ซึ่งในการใช้งาน **ไม่ต้องมีวงเล็บ () ต่อท้ายชื่อของ property**\n",
    "\n",
    "```\n",
    "\n",
    "**ตัวอย่าง**\n",
    "\n",
    "สังเกตุความแตกต่างระหว่าง **1D array ที่มี 5 item** กับ **2D array ที่มีขนาด 1x5 item**"
   ]
  },
  {
   "cell_type": "code",
   "execution_count": null,
   "id": "c1232098",
   "metadata": {
    "tags": [
     "hide-output"
    ]
   },
   "outputs": [],
   "source": [
    "a1 = np.array([4,2,1,3,2])    # 1D array\n",
    "a2 = np.array([[4,2,1,3,2]])  # 2D array\n",
    "print('x1.shape =', a1.shape)\n",
    "print('x2.shape =', a2.shape)"
   ]
  },
  {
   "cell_type": "markdown",
   "id": "249a4f10",
   "metadata": {},
   "source": [
    "## Data type ของข้อมูลที่เก็บใน `Numpy array`\n",
    "\n",
    "\n",
    "ข้อมูลทุก item ที่จัดเก็บใน `Numpy Array` เดียวกัน **ต้องมีชนิดข้อมูล (data type) แบบเดียวกัน** ซึ่งนี่คือจุดที่ต่างจาก `Python List`\n",
    "\n",
    "ในกรณีที่พยายามสร้าง array จากข้อมูลต่างชนิดกัน **NumPy จะพยายามแปลงข้อมูลทุกตัวให้เป็นชนิดเดียวกันโดยอัตโนมัติ**\n",
    "\n",
    "\n",
    "**ตัวอย่าง**"
   ]
  },
  {
   "cell_type": "code",
   "execution_count": null,
   "id": "f1b4e960",
   "metadata": {
    "tags": [
     "hide-output"
    ]
   },
   "outputs": [],
   "source": [
    "a = np.array([1,2])             # int\n",
    "b = np.array([1,2.0])           # float\n",
    "c = np.array(['apple',20])      # string\n",
    "\n",
    "print(f\"{a} data type: {a.dtype}\")\n",
    "print(f\"{b} data type: {b.dtype}\")\n",
    "print(f\"{c} data type: {c.dtype}\")"
   ]
  },
  {
   "cell_type": "markdown",
   "id": "d9c56ba2",
   "metadata": {},
   "source": [
    "## การสร้าง `Numpy array` ด้วย `np.zeros()` และ `np.ones()`\n",
    "\n",
    "เราสามารถสร้าง Array ที่มีสมาชิกทุกตัวเป็น `0` หรือ `1` ได้ด้วยฟังก์ชัน `.zeros()` และ `.ones()` ตามลำดับ\n",
    "\n",
    "ข้อมูลที่ต้องป้อนให้กับฟังก์ชันคือ `shape` ของ Array ที่ต้องการ โดยต้องกำหนดค่าในรูปแบบของ `Tuple` เช่น\n",
    "\n",
    "- `(15,)`: 1D-array ที่มีสมาชิกทั้งหมด 15 item\n",
    "- `(2,4)`: 2D-array ขนาด 2 แถว x 4 คอลัมน์\n",
    "- `(3,3,3)`: 3D-array ขนาด 3x3x3\n",
    "\n",
    "**ตัวอย่าง**"
   ]
  },
  {
   "cell_type": "code",
   "execution_count": null,
   "id": "b19d33b8",
   "metadata": {
    "tags": [
     "hide-output"
    ]
   },
   "outputs": [],
   "source": [
    "a = np.zeros((10,))\n",
    "b = np.ones((5,2))\n",
    "c = np.zeros((2,5))\n",
    "d = np.ones((2,3,4))\n",
    "print(a)\n",
    "print(b)\n",
    "print(c)\n",
    "print(d)"
   ]
  },
  {
   "cell_type": "markdown",
   "id": "41dba4e7",
   "metadata": {},
   "source": [
    "## การสร้าง Identity array\n",
    "\n",
    "ในการคำนวณทางคณิตศาสตร์ด้านเมตริกซ์ (Matrix) มักจะมีการใช้งาน identity matrix ซึ่งเราสามารถสร้าง **identity matrix** ได้โดยใช้ฟังก์ชัน `.identity()` โดยส่งค่า `int` ที่ระบุขนาดของเมตริกซ์นี้\n",
    "\n",
    "**ตัวอย่าง**"
   ]
  },
  {
   "cell_type": "code",
   "execution_count": null,
   "id": "234bf737",
   "metadata": {
    "tags": [
     "hide-output"
    ]
   },
   "outputs": [],
   "source": [
    "A = np.identity(5)\n",
    "print(A)"
   ]
  },
  {
   "cell_type": "markdown",
   "id": "5522ad19",
   "metadata": {},
   "source": [
    "## การสร้างรายการข้อมูลตัวเลขทศนิยมด้วย `np.arange()`\n",
    "\n",
    "ฟังก์ชัน `range()` สามารถสร้างได้เฉพาะรายการข้อมูลเลข**จำนวนเต็ม (int)**"
   ]
  },
  {
   "cell_type": "code",
   "execution_count": null,
   "id": "15edee3d",
   "metadata": {
    "tags": [
     "raises-exception",
     "hide-output"
    ]
   },
   "outputs": [],
   "source": [
    "# พยายามใช้ range() สร้าง List ของข้อมูลแบบ float - error\n",
    "x = range(1,11,0.5)\n",
    "print(list(x))"
   ]
  },
  {
   "cell_type": "markdown",
   "id": "5b60e4f6",
   "metadata": {},
   "source": [
    "ถ้าต้องการสร้าง**รายการข้อมูลเลขทศนิยม (float)** สามารถใช้ฟังก์ชัน `.arange()` ของ NumPy ได้ โดยผลลัพธ์ที่ได้จะอยู่ในรูปของ `Numpy array` นั่นเอง\n",
    "\n",
    "ข้อมูลที่ต้องส่งให้ฟังก์ชันได้แก่ `(start,stop,step)` เช่นกัน เพียงทั้ง 3 ค่า สามารถกำหนดให้เป็นค่า `float` ได้"
   ]
  },
  {
   "cell_type": "code",
   "execution_count": null,
   "id": "f62f6fa4",
   "metadata": {
    "tags": [
     "hide-output"
    ]
   },
   "outputs": [],
   "source": [
    "# NumPy's arange()\n",
    "x = np.arange(1,11,0.5)\n",
    "\n",
    "print(x); print()\n",
    "\n",
    "print(x**2+2*x+1); print()\n",
    "\n",
    "print(type(x))"
   ]
  },
  {
   "cell_type": "markdown",
   "id": "8e83c9b1",
   "metadata": {},
   "source": [
    "## การประมวลผลทางคณิตศาสตร์กับ Numpy array\n",
    "\n",
    "\n",
    "\n",
    "\n",
    "\n",
    "### การคำนวนระหว่างข้อมูลแบบ `number` กับ `NumPy array`\n",
    "\n",
    "ข้อดีประการหนึ่งของการใช้ `NumPy` คือ ความสามารถในการคำนวณทางคณิตสามารถกับ array\n",
    "\n",
    "โดยเมื่อนำ **array ของตัวเลข** ไปทำการคำนวณกับ**ข้อมูลตัวเลข (int, float) เดี่ยว ๆ**ได้ โดยใช้ operator ทางคณิตศาสตร์ เช่น"
   ]
  },
  {
   "cell_type": "code",
   "execution_count": null,
   "id": "1a983774",
   "metadata": {
    "tags": [
     "hide-output"
    ]
   },
   "outputs": [],
   "source": [
    "x = np.arange(1,10,0.5)\n",
    "y = x*10        # y = 10x\n",
    "z = 3*x**2      # z = 3x^2\n",
    "\n",
    "print(x)\n",
    "print(y)\n",
    "print(z)"
   ]
  },
  {
   "cell_type": "markdown",
   "id": "a5a553ad",
   "metadata": {},
   "source": [
    "ผลลัพธ์ที่ได้ คือ array ที่เก็บผลของ**การกระจายการคำนวณเข้าไปยังสมาชิกแต่ละ item ใน array นั่นเอง**\n",
    "- `y` จะเก็บผลลัพธ์ของการนำสมาชิกแต่ละตัวของ `x` ไปคูณด้วยเลข `10`\n",
    "- `z` จะเก็บผลลัพธ์ของการนำสมาชิกแต่ละตัวของ `x` ไปยกกำลัง `2` แล้วเอาไปคูณด้วย `3`\n",
    "\n",
    "\n",
    "\n",
    "\n",
    "### การคำนวนระหว่างข้อมูลแบบ `Numpy array` กับ `NumPy array` ที่มีขนาดเท่ากัน\n",
    "\n",
    "ในกรณีที่เราใช้ operator ทางคณิตศาสตร์กับ array ของข้อมูลซึ่ง**มี `shape` เหมือนกัน** ผลลัพธ์ที่ได้คือ**การนำ item ในตำแหน่งเดียวกันของ array แต่ละตัวมาคำนวณด้วย operator** นั้น ๆ"
   ]
  },
  {
   "cell_type": "code",
   "execution_count": null,
   "id": "037d8325",
   "metadata": {
    "tags": [
     "hide-output"
    ]
   },
   "outputs": [],
   "source": [
    "# 1D array\n",
    "x1 = np.array([1,2,3,4])\n",
    "x2 = np.array([5,4,3,2])\n",
    "\n",
    "print(x1 + x2)\n",
    "print(x1 - x2)\n",
    "print(x1 * x2)\n",
    "print(x1 / x2)\n",
    "print(x1 // x2)\n",
    "print(x1 % x2)\n",
    "print(x1 ** x2)"
   ]
  },
  {
   "cell_type": "code",
   "execution_count": null,
   "id": "1b88d77d",
   "metadata": {
    "tags": [
     "hide-output"
    ]
   },
   "outputs": [],
   "source": [
    "# 2D array\n",
    "x1 = np.array([[1,2,3],[4,1,0]])\n",
    "x2 = np.array([[5,4,3],[2,2,1]])\n",
    "\n",
    "print(x1 + x2); print()\n",
    "print(x1 - x2); print()\n",
    "print(x1 * x2); print()\n",
    "print(x1 / x2); print()\n",
    "print(x1 // x2); print()\n",
    "print(x1 % x2); print()\n",
    "print(x1 ** x2)"
   ]
  },
  {
   "cell_type": "markdown",
   "id": "cf42c8b2",
   "metadata": {},
   "source": [
    "```{warning}\n",
    "**Warning - `item-wise` multiplication**: การนำ array สองตัวมาคูณกัน หรือการนำ array ไปคูณกับตัวเลข(เดี่ยว)ด้วย `*` operator ในตัวอย่างด้านบน ผลลัพธ์ที่ได้คือ array ของผล**การคูณ**ของ item ในตำแหน่งเดียวกัน (item-wise)  **ไม่ได้เป็นการคูณของเมตริกซ์ (matrix multiplication) ตามหลักทางคณิตศาสตร์**\n",
    "```\n",
    " \n",
    "\n",
    "\n",
    "## การคำนวนระหว่างข้อมูลแบบ `Numpy array` กับ `NumPy array` ที่มีขนาดไม่เท่ากัน\n",
    "\n",
    "**Broadcasting**\n",
    "\n",
    "การที่ NumPy จะสามารถกระจายการคำนวณเข้าไปใน array ได้หรือไม่ ขึ้นอยู่กับว่า `shape` ของ array สอดคล้องกับกฎเกณฑ์ของการ broadcasting หรือไม่\n",
    "\n",
    "\n",
    "<img width=\"550\" src=\"data:image/png;base64,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\"/>\n",
    "\n",
    "\n",
    "<img width=\"550\" src=\"data:image/png;base64,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\"/>\n",
    "\n",
    "\n",
    "<img width=\"550\" src=\"data:image/png;base64,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\"/>\n",
    "\n",
    "\n",
    "<img width=\"550\" src=\"data:image/png;base64,iVBORw0KGgoAAAANSUhEUgAAAkoAAAEOCAYAAAB2Ajh+AAAAAXNSR0IArs4c6QAAAARnQU1BAACxjwv8YQUAAAAJcEhZcwAADsMAAA7DAcdvqGQAAFDVSURBVHhe7Z0LlBRFuueDPbs6ewTFvT4AAQEZQRgVRFFo5XUdaByvNkeerfJwlKvMyPAQmrkqiANXG6Sby87ADDqKIm9ccMaRblRsQEAvIjLaiE4rSCsPmdnh4ZwVd8+prX9UfNVR2ZlVlVVZXdXd/985QWREZkZGZhUd//q+LyOahMIoQgghhBBSi/9ickIIIYQQ4oBCiRBCCCHEAwolQgghhBAPKJQIIYQQQjygUCKEEEII8YBCiRBCCCHEAwolQgghhBAPEs6jdPL//D81eWOV2vb5KfXF374ztYQQQkju0uGffqD6XHGBKi3oqJr/9/9qagnxT1yhBJF0zbz3VfXJs6aGEEIIqT+0aX6u+vP06ymWSMrEFUrjVh1Qy/7zuLq02Tnqpbs7q4GdLjR7CCGEkNxl84G/q9ErD6jjZ75XY3teql4Y1dnsIcQfcWOU4G4DLxVSJBFCCKk/DOx8of6BD2QsIyQV4goliUnCF44QQgipT8gPfMbXknTgW2+EEEKIT5o0YWqIyQ0KJUIIISQFEOHL1HCSFxRKJCmOHftWDRjwotq16ytTQ0juId/T5577wNSQTPDI5kfUzc/fbEp1yyufvKKazPb46U9IBqBQIkkxePAK9fbbh1Rl5TemJkJ5+eeqSZPZMckJBi57/6xZFWZP3ZJMX5MhV+4H17X7gX6lgt0GEp5TNkjmudr7kZx9PXjwpNq795h64IE/Zu0+kqVtaVstOOobC99dqBbsWqAWDV5kauqWu666S+W1ydPPj5C6ICeE0urVq8N/9JqoCRMmmBqSS0yeXK4+/PCYWrBgoLr//utMbQa4OfwLFU7iV14xFT6R8yV9kCWrQtvwH3C7Hying9zXI1kaVO17kTRypNnpE+dnFDC9erVWr79+t2re/AfhLq7XFqZUgBgQiwm2OShH+ODoB2py+WRVOqhUXdcy9m8BnhcsPXZKBWc7uKaTd+57R+cj16f4PSTEB1kXShBI27ZtU1dccYWpIbnE/v0n1MKF76r+/dupKVN6mdraYH8oNEsnL8rK7tH7Z8/uZ2oMCxdGBs2bbjIVKYCBu3XrGmfziBFK9ehhdkYYNOiKaB/R33TxvJ/Dh2s7viEQUgHPZscOU4gF15X7CQJpC8+pFqWlsfcU/nHjG3zG9meEZLFly5hw1Sz9XL2QPs6c2dfU1AZi6fHH+6iTJ79Tv/zlW6bWH1+d/kq1Pj/cV7Pd9gIKJTBvxzxtzZl00yRTUwPES2hWKJpSsfpA+OC5Sxsjuo5QPZbG/j8WSvNL1ZrKNa5CipAgyapQys/PV9u3b1eLFy82NSTXmD9/p86LilIc6BMBq09JSWTQ7OUtxBKCgdsevKdPj+QQGtlm+HCzkQKTJys1dapSbdqYinoKhCzEayoCKwUg6mFV2rjxQMpWJRFKJAIECYTJ5F7h72QSDO0y1Gwlz+qhq3USpudF/h/DqucELrg257dRKz9aaWoIyQwZE0oQQbAWvfNOxEQKnC62srKy8A/t9AZgZ5yGnfzEKEhfkUuaN2+e2Rvpe8eOHaP3IOmLL74wRySPPBtJ9jOSPgBcT47BdQU8PyRnf53Y5yNJX5GjbN8fkHr7WhUVh/SA42plCILrrotYYBoyCxaERw3/g4YWF3l5Sj3zjKmox6xZo9SwYaZQNxQUdNZWpX37jpuaxGBAhrsHMThIsr2jeofedhuwvZCgYzuhzontanJzJcEqY7dhW1BwvCTZ72bFcbqz3PqRiG1fbtM5BEoylOwqUcO7pvEjIQnQ/trKtaZESGbImFCCCHrooYfULbfcossYhEeNGqVWrVqVsxYk9BUWLqzqgn4WFRXFCKHPP/9c3wP2IxUXF/t2GULgPPbYYzFtyDOygWCZM2dOtC+4rs2SJUv0edLOoEGDYmK8IMY2b94c3Y/PYuDAgXpfhw4d9HWXLl2qy8Iz4QEZ7Yy04k8OHTqpundvYUr1iJXmV+ak2i6COsGOU4IlxW8/EKcFcbEoOwGztYBlS+7H748biTmrrq5pAynVOKckycuLWOF27gxfN0ngUhK3EeJwZHtqr6l6283l5AbEzNC1Q9X64eujbiQkp8iACLup9U16H46FxcYWMRA4G0dujJ4PV1TB6gKzNwLOgXtQjoGbEOcJsi37cV/om1+xhGvgWcTDFmToxzMD0xP5Yi3yeu6w+lWfTv7zJSQVMup6gyDCwItBG4M0Bmt7EA4CO07DmfxaQSBIxMLVs2dPnR85ckTnAkSHMNRYCWyLUCLwTGwrWu/evXVuCzKAvsizkr44r2P3ZcCAAVoYCRCqEERCnz59tNAT0HeU7TYhvsaOHWtK9Ri422DFQVxNtrDjlL76yn9At7jcYHHLNnIfkhAzlYoleP36mjb27IkIwQwGqLdpc4HZ8s/hU4dVmwsiQgvbqbrh1lWuM1vuQICJmBARVX2qZuBH3I8dNA1R5RQGEC8S3Azg8oIFDECwYdt+Qw2iA+fsqt5lapIDQikRdpwSnhkEU6rAegchCWFX3xg+fLTq0uUGzzR37nxzJKkPZDxGCQN2eXm53mYsUo37UZKbNQmIOAIQPBBFtsCCALWZPn26qqqqMiWl3Wr2dZwWKbQJ4brSWF7QL1jHghaydQ5EEkRGKlacTAGrEKwpyb7NJ+IhV11uEKAQS37fKrStYxCA+IzefddUBE91tf/1vcQiAjECq4ts400vP4M+xA3EAqw9OA/Jza2WCEwfIOcjoR9+OHjyoM4REG23A/GUjPCx8SsWJdbIj7tSwDm4V1jQkrXi5RJr176kpk37hbr77uFq//7dMQn1pH6RcaGEOBkMyMhhWQqaoGKUUkGsTa1atdK5MG7cq/r6znlgYL0R96O4xODqCxqIHrgNxY2IhGs6KSws1FYkWLOWLVumXX1OEJ+E+ZNyAUx2eeGFxap799+5B+hCiIhIsuKs/PLccx/ozw+fYybxvA7Eg9NNhTKsZNj2GaAe+P3AQgYc1i753uN6Mdxl3E0HI4N2DHgLLkNUVp7Qee/eyQfCwyKyZ/wevY3c3obw8YtYV0Q0+RFLYlGx3XfJWFcggBDkbCP9t5MdNJ0MEEpiqcokcAmKSErUR7d7rW+Ulb0ZtTRNnDhN1yGXusrKT3QdsC1VqEeSspxr47RsuVmy/LbZGMmoUJKYGViSxLLkDCCuz8BNBcuO7eICy5Z9qPMnn9yqcyetrcEhk64uW8A5LUoAFir0H25RWKPcrEkIiAVr11bqPJuUlVXp4FzM6bRy5Uem1gCRBFdoAG9WSdv4HAOZibygIBKULYLB4HkduEPD4jYm4a03uOKw7dNSFuj94DlDsKEvDuR7P23aGzqPAZ+L7QpFOxkO8MYbb6m8iCBWGFiF7O10SRTf40X75u3NVvh3QAKLElxtEFcSRC1vhk3cNFGX06HP5X10nqyFCNY5XNtpEcL5sGrZcVQCRBIsecmIJIBA7kwHjAcBxEe/frfp7XHj7lGPPlojQPLzb42xNEGgXHrpJbpu3bqX1OzZT+l6AEsV6i+55GL1u989H/7vM1qXkQBEl4B2Bg8eGN2PdPz4N7XEj582GysZE0qwIMFaYcfNwKoBS4dYlmz3EOJlcLyUkyXIGKVkkP4hQWBAADoZO7abzp1zvUCYSIC7tOFmxUkXCB4IILjS5DpuFiWAwHI8+/Hjx5uaWKZNi8RQPfVU8nFYvpHAZ3kzDDnKDuE2YkRXPfCBU6fO6jwKLEkAgy/OtZNPHnzwerOl1OnTjuskAu4o5/UxPYBLHFta1/FBoPeDzwaxRi5uwUmTIvNgQczWQsSrsx2HeAyKkpJd+kWEiRNvNDXJgxghsVLY234QMWAnWGT8WHEklsh2m7lZlOSNPCQci2PsIOrDkw/rOCs5RpLfYG6IRQiY9fvDn5sLzvZxv7i2ExFc6Lf9Bh+YXBb5f2y7LCU5Qf/hFi28utDU5B4rVqzVggXiIxnefLNCiyMRUl27XqWFjBciZsCiRfO16AIQQyUlT2lRZoNjQDzx49VmoyYUBzWpQicSCoWFRvinfNzHVS9J5r4mTSoLH/NEaObMt01NDWVlVXpf//7LTE1tsA/H4Nh0KShYrdt69tk9piY1pE9eNG/+tN5fWfmNqakhyPuJdx0/oI14n0G866AeKV127qzW7bRrt9DUpIZ8p9y+bwL24Ri3zwD9wP0iHT16xtQ2TEasGxHK+32eKWWePUf2hNQTKlS6q9TUpAb6jHbQXqq0KWkTmlo+1ZS8ydQ4lmg4eP755aE5c+aZUig0bNi9ZssdHP/ww4+YUnz69h0c+vjj/aZUG+z3wtkvIVGbjQGvzzTjMUo5z4cf4iewKYRZtsy1fM4554R/MU/y3K/bAZ9+GtmWMsD2hg2mEObYsdpxJlkonz17Vrvk9Jtvzv0VNfFVRUV5qlu3FtqV+JzHYqOIY0J8CpIX+fkv6/1ua3glA2LO4HZDX1JZSgXnSx/jxV3hHmEVgYWkS5eLTW1t0r2fZK/jhR2fF49kryNtpRLbh5gxcc8WF6f2C1TWesNz9UL66OXWhmuxsPAVfb9YyqRFi6ZmDwkCWJVgsYIL0GkNShZYgmBNgnUqVZemxHrZlrNcx7YMiRuO1A8olNq1U2rIkIjYgVjYGv4D7FIecN11quBQeHD12K8efhgjsVKffRZxAyGJYMI2YrO6dFHq++/hC1Hqyy+V6t490ofZ4YGuDsunpkxRC8N9OnThheHbOKny3nyz9vGW0MNgs2nT3XrZj65dLzG1dQsG0QcffE2NHn2t7kumwCD8m9/sVs8++y+qtDT2zcIgaUjXgbBq2XKBdnVh+ZHhw7uaPXVP+/bNdVqzZqheyoQED1yCmNYglbgnxCUhBgnn+w0mFyC04Jpzc+uRCNdc09XTvbZ37z7Vo4f5W0+Sw1iWXGk0rre9e0Ohbt3gY0q9fPXVoVDbtqFQv36h0N//HknYtsvXXx8KnXdeKDRjRs157dqFQrNm5WaZEELqObnierNxc40F6XoDV111fa1j4l2Drjfvz7QJ/jGaqRZNJkfM26FS7wUoGwywFsG6JKRSbt48si05rE7ALmMiwmuuiZRBENfNZJkQQuoxmRrH8E6C1+iJV+4//rjmtX4neMOsouJ1vY3AawRxu4E34SQgG2/OeQWF2+3ZIJDc5kc/ig0OT6XNhozXZ0qhRAghpMGSDaFE6idenyljlAghhBBCPKBQIkmBt5oQUB3IBIyEuIC38/Adc511neQUWFrFbcLIugDB3G7zKhGSKSiUSFIMHrxCv1JfWfmNqYlgv3IvyYm89i0p1dfpcwX7XpBSeZ3efrUfCc+oPmPfC5LzmSTzPdmxo1p/x/B6f2OgbWlbLTjqG7K0ir3Qbl2C2cYxESeeHyF1QdaFEpY5kdmjkfysxE/qhsmTy/X8RQsWDExp/qKkwaK/cBInu3isEzlfkt9FW91m1c6FRYLlvvyutI/pK5z3g5Tq87XbQJ8C5oUX7tSz2kMsZVtMQwyIxQTbHJQjYO4kzKGEuZTc5kCyZ9JO5Zk5FwFGcptBHGvygVQWGibEL1kVSljCBAuyIp4cqbi4WC/vgTqSG+zffyI83r6r51CaMqWXqa0N9ofM0jFeYI4d7MeyMzHIgH5TZAmMlICgwRp6iMRDwtpiPXqYnUmCRV7lfKQ9eyJLojgEitync4maVEAbaGvLljGmxgGeDVbqTwf7npD8LhsCYYXPB2u1SRuOHzSJngmWE5Jj8F3x4qmn/lm1a9dcTyiJ7162wGKrslo+ttteQKEE5u2Yp605biv6QxhBQMmiu8Cvew4TSNoL92K+Jcy75Da5ZWl+qZ5PKdWJLwlJlqwKpenTp8eslYYyWI81oEhOMH/+Tp0XFQVvQdDAilNSEhl8e3kLsYRgLTF7MVzzXdJCI1UgnLCYbTbBZKVYgBaL4mYL9AEiyedivKmAyU0ffrin3l6zJrsLMYtQIhEgSCBMJvcKfx9cwASQtoCa0muK63pufoi3jpss+Lvyo5WmhpDMkDGhhIVvna601eGBDHVwtwWFM9bDTn5iR6Sv4gJEgsVLQN+x0K/cg6RUrF/ybCTZz0j6AHA9OQbXFfD8kJz9dWKfjyR9RY6yfX9A6u1rVVQcSmkF9qSBGMHcUrkILCmw5hRmadFNWMkg1FwWoK0z8Ayqq+tEJAn5+R11vn37lzqvS2QxW8TgIMm2LDyL/ckiQcd2cnMjweoi+91cSbDU2G3YwgPHS5L9bi4v+xpIbv1IxLYvt+kcAqWuEAuW11Inw7sOV2sr15oSIZkhY0IJliJZKR9gEMa6YljFfvHixbrOiQzQQ2UV+ToGfd2+fbuCGxD9LCoqihFCWGUf92C7CrFCvx8gcLBiv9Pd6ASCZc6cOdG+4Lo2S5Ys0edJO4MGDYoRoBBjmzdvju7HZzFw4EC9r0OHDvq6S5cu1WXhmfCAjHZGWnE5WJaie/cWplSPWGl+Zfod4O04JXwPYUmBmKtrIFDg9lsUQMCs3A+SXwvbrl0Raxbcj+m04wOsRwf3W7z1+DIFLCJw+WBwFjcStuECwraby8kNiBm4jNYPXx91IyE5RQZE2E2tb9L7cCwsNraIgcDZOHJj9Hysj1awusDsjYBz4B6UY+AmtF1esi37cV/om1+xhGvgWSTL+v3r44ocL+w4JdybxCO5Aatf9emwkCckg2TU9QZBhIEXgzYGaQzW9iBsA+sIxAAGcAzkyYJ4F4l9cCa/VhAIkptNkGrPnhHz/5EjR3QuQHQIIuhsi1Ai8EzkGqB37946twUZQF/kWUlfnNex+zJgwAAtjAQIVfs59unTRws9AX1H2W4T4mvs2LGmVI/BIL5gQUTk+MUZpwS3k8d3NqOIyy0dkQaRaN8Lngfa9StyYFECznZSDQpPAqzXlk0Onzqs2lwQcXdiO1U33LrKdWbLHQgwWdhVRFT1qZqBHyLBFhoQVU5hADFii4mhXYZqCxiAYMO2/YYaxB7O2VUdFsE+gFBKFli4nNdNFjtOCaIuVQtYXWD/dmCq/8mLjMcoYcAux2KxYbwsSRisYR2BqJI4pYaK03XnZk0CIo4ABA9EkS2w8Kxs8NyqqqpMKRIob1/HaZFCmxCuK43lBf2CdcxLyNYbIAIwiCOYOwh3EUQBLDt1iQSPB+1yw/OAK89vDCAsSnZf0A7qYG3KEAcPmuV/6hhxUUGMwOoi23jTC9vJAnGDgR4WEZyH5OZWS4TzLTD0ww8HTx7UeY+lPWLagYjxI3xAsmIR94n79nozzg8i6hIJzmwgvxuYGlZyI+NCqWPHjnpARg7LkhNYUkQk2YHdyRJUjFIqiLWpVatWOhfGjXtVX9/5irNYzWAtEpcYXH1BA9EDt6G4EZFwTSeFhYXaioTPYNmyZdrV5wTxSdlwgbiByS4vvLBYde/+O/dJCWHhEJFkxVnZ4Dycj3YyOXlmwr7G4913I1acsMCNJpRhJcO2ZRHyfR3Eg+HtQIu4zwQB9mJRcuJoJyjQH7h8470dlylgmdkzfo/eRm5vQ/j4RSwjIpr8iCWZr8h230F8JAICCEHONtJ/O/ldvR9CSSxVXkDYiUhK1k2ZDm73SkjQZFQoScwMLEliWbIDiDFAw4qRqkjKNnBToe9OV+GyZR/qHK84u9HaGmAy6eqyBZzTogRgoUL/4RaFNcrNmlRQ0Fnna9dm9w0kUFZWpU6e/E7P6bRy5Uem1gCRBFdoHJEE9u07rs9HO/PmJXjtHvFK4gLzSdy+JgLuUPy0sRMsOOgHti1Lma/r4POF6HFYbeM+E0wlIDFKArbRThAWOxdee+0znd9++5U6r2vECgNriL2dLn7ie2zaN29vtsJfxwQWJbjaIK4Q5AzkzbCJmybqcjr0ubyPzr0C2iGScO1EIkkC5u04Ki/QJsTZ9Dx3TwMCueVeCckUGRNKsCDBWmHHzcCqAUuHWJZESEFA2W4iJGfMjhdBxiglg91HCAw3gYdJ84BzThkIEwlwlzbcrDjpAsEDAQQRKtdxsygBBJYjVmn8+PGmJpZp0yIxVE89lXwclm/ato1YSiSIHznKDuE2YkRXbeECp06d1XkUCBoANxnOtZMFvhPdukWC00+d+k7nUWCpsc/DPExwU6XgAovb1wCJex1nAPbOnRGh5Yh7ivtMAKxQYs1CwjbayQCwJs2du13fU2Hh1aa2bkGMkFgp7G0/iBiwEywyfqw44nay3WZuFiUICdmPY3GMxD0BvLaPOCs5RpLfuB+IRQSTI0jbiQg0IG5KSU5BJIIL/bbf4APi+pQEIQTrl5tQRf/hFo03hQAhgRCKg5pUoRMJhcJCAyODKTUckrmvSZPKwsc8EZo5821TU0NZWZXe17//MlNTG+zDMTg2XQoKVuu2nn12j6nxz4IFO3UbY8duNDWpgecR777i9VXOdXumfqlPzwTI98ENXD+o59IYGLFuRCjv93mmlHn2HNkTUk+oUOmuUlOTGugz2kF7qdKmpE1oavlUU/KG4xhJl4zHKOU8H36o1EkrcHTZMtfyOeecoybB1eCxX1WYeKRPP420KWWA8vLlphDm2LGI9cImC+WzZ89ql5x+88253+p/UVGetjjAlYiFS91AHJPEhnmRn/+y3p/q8hSIOYOLCH1JdSkVzPYM1w4sFmIt84vcp5drFSTbV7SBtlJd662+PBP0U47xinnDUjlwW8PdW2v2dpITwLIDixWsRk5rULLAEgRrEqxTqbo0JdbLtpwRkikolNq1U2rIkIjYgVjYGv5D71IecN11quBQ+A+8x3712GNKrVun1GefRdxAs8OCAWIDIgllvPHXqZNS33+v1IMPKvXll0p17x7pA46tw/KpKVPUwnCfDl14Yfg2Tqq8N9+sfTz6bcBsyZs23a2Da7t2vcTU1i0QEg8++JoaPfpa3ZdUgEDLy3teXX55c7Vjx316vp5MEERfk6E+PZNk6Nr1Yi2Sliz5iakhuQhcgpjWIJW4J7jW8DYhzvcbTC5AaCFgHC5FQuoEY1lypdGYLPfuDYW6dYOPKb1y69ahUL9+odDf/x6px7Zdvv76UOi880KhGTMiZZzXrl0oNGtWbpYJIaSeQ9cbSZcm+Mdoplo0mRwxo4dK01/8M+eBtQjWJSHVMixNza3J8pzlP/9ZqWuuMYUwQV1XCLpMCCH1mEY1jpGMQKFECCGkwcJxjKQLY5QIIYQQQjygUCKEEEII8YBCyQVMeoc3ijK5xEV9QJ6D15QAhBBCSEOHQsmFwYNX6LleKiu/MTWNEyxMunfvMfXAA3/U8+AQQgghjY16I5TW5q9VxU2K1b7n9pkaf3y6/lPdBlI8MOkdJvBbsGBgyhP4ycr99rp2uYj0UxIW07Xp1au1ev31u/VEhCNHrtcWJkIIIaQx0WgsSl/v+lodLD+ovj/zvampDWYoXrjwXT2x4pQpvUxt8mB9OgiO+gBE0dKlSzGPlk5YCy46S7cFxNLjj/dRWDD1l798y9QSQgghjYN6I5SGlw1XRaEide3915qa4Jk/f6fOi4oSr2rtBhbJxQKz0x2rs+ciWDi3qqrKlCJlLKK7cuVKU1MDRCOsShs3HqBViRBCSKMiY0Jpy9Qt2lX26ohX1ct5L+vthRcs1PUC3GGoR93ukt16P8pl48vMESp6riT7fCDXwTninkM70obsR/vg651fR9tC2zYVFYe0IMBq6k46duyorUWwGglOFxuER4cOHfR2NsnPz9f9sq1DsCChbsKECabGH1haAlalffuOmxpCCCGk4ZNxi9KBtQe0OAFnT5/VgkVEi3Dk3SNa0GA/2PfsPt+xSDgHrjWAdlA+9MYhXU6WQ4dOqu7dW5hSLBBBgwYN0lYjABFSVFSktm/fnnMWpLKyMvXQQw+pW265RZch7uBWg3ttMdaccwH3A2tYYWGhqYklL6+NznfurNY5IYQQ0hjIuFA69/xzVcG6gojb7IGI2+zg5oigESCkOg/vrI9BDv72yd90fs+Oe3T9DVNu0GUvcJ0BCwboYy/qcpGuO/HRiWidnH9Z78t0GQlt+wECBMAqAxFSXFysbr45NTddPPBKvqy0LsnvW2cQRBB2sC5B3EE4wb3mBoQU7gfHeN1PmzYXmC1CCCGk8ZBxoXTRjy5SnYZ20tvtB7bXuTOgGiKn/zP99fada+7UIgYCxw+4joihc5ufq/MzX5/ReZBs3rxZLVmyRIuQXI9FgrArLy/X216WJIgkxCYheR0DqqtPmS1CCCGk8ZBxoSScrj4ddac1a91M5wJEzvltzjelzHL2ZMS95wbikzB/UjwgKGBJgisu1XifRGzZMkaFQrNiklvcVCIQVwUrEXJYltwQkWQHdrtRWXlC5717R1xwhBBCSGMg40JJgqeXtF2iY4hgPUr2zTUJ9raDsZG7BWIn4rJel+n8r/v/Gm3T2QYClsHatZU6dwKxIZYksSw55x7KFUTEwUokliXnvE4I7k5GJAG88eYV6E4IIYQ0VOrMogTaD2qvCtYXqHY/bmdq6g64/xAjBaHmxbRpvXX+1FOxcwkBiAqIDYlTwtttsCwhSFpECXIchwQQ7I1tWHTqElwPIg5iTkAgN/ojliXpMwK4pc+SnHMplZTs0oHuEyfeaGoIIYSQxkGTEGYb9KDJ5K06D5X21bkf5JV/BE/7DZrOJpiZG5NOzpzZV82e3c/UNl6w3t1tt63Q25988jPVokVTvU0IIfWBdMYxQkCdWpTqA0VFeapbtxbqySe3NvrFYCGSCgtf0fMnYSkTiiRCCCGNDQolBxADmzbdrZcx6dr1ElPbOGnfvrlOa9YM1UuZEEIIIY2NjLneCCGEkGzDcYykCy1KhBBCCCEexBVKHf7pBzrf/OnfdU4IIYTUFzYfiIxdMpYRkgpxhVKfKyLLVoxecSD6hSOEEEJyHfzAH73ygN6WsYyQVIgbo3Ty//w/dc2891V1nNmsCSGEkFylTfNz1Z+nX6+a//f/amoI8UdcoQQgliZvrFLbPj+lvvjbd6aWEEIIyV3gboMlqbSgI0USSYuEQokQQgghpLHCt94IIYQQQjygUCKEEEII8YBCiRBCCCHEAwolQgghhBAPGMxNNGfOnFGnT58xJaXOP7+ZatasmSllj1ztFyGEkMYBhRLR/PrXS9Xixc+qIUNu1+WWLVuqn/98vN4GJ078VT3xxL+rwYMHqttvzze1wVBRsV2tW7dBvf32dl2+4Ybr1MSJD6oePbqrAwc+U8uXr9L1b765NSyUmqo33viDLhNCCCGZhq43EsOECQ+ouXNnxYik114rC4ujYVrING16nqkNBoikoqKZatiwIWr//t1hUbRUi6NFi36r93fufKXuD9JVV12p6wghhJC6gkKJxGXNmldUVdUX6r333jY1wdKv3y26beQAVqQ77rhN7d79gS4TQggh2YRCicRlxIi71KRJE0ypbjhz5lvVqdMPTYkQQgjJHhRKJKfYs2ev+sMfXlePPTbN1BBCCCHZg0KJ5AwIGJ8wYYqaNWuGdsERQggh2YZCieQEEEmPPPKoKi5+Urv7CCGEkFyAQolkHYik8eMnqnHj7okGdf/sZ1N0TgghhGQTCiWSFBAz4Pjxb3QeJJifaeTIu6IiCdd6//29epsQQgjJJhRKJC4Irh4z5l/1PEpg9uyndRnTBgQB5mjC/Exot0uXG3Tq23ewfvONEEIIyTacmZtoZGbuN954VV12WStTm1uMHfug+vrrIxmbmfull1ZFl0vBUimjR4/S2wBWrmzMTB4E6PuKFWu1KD1y5Khq1qypnqvq0UcjbxZu2PDH8HM9qreBPdkoIYQ0dmhRIsSApVK+/fZbdeut/VTPnj1MbXZnJg8CBMkfO3ZcrVr1vL7GqFHDtHASqyDuFfd89OjR8PVX6zpCCCERKJQIcYBlU5BAQ5iZ/MUXf6eefnq2uvjii3S5W7erdd6xYwedw4KI+8X6foQQQmKhUCIkDg1pZnK44GAdg5uPc1URQkhyUCgRkkNkamZyuPgQJD99+uPq22//oS699BKzhxBCSDwolAjJEWDxydTM5HDtIT5p48ZVqmXLFvo6EE+EEELiQ6FESA4AkVQXM5NfeWVHNXXqw3r7ww8/0jkhhBBvKJQIyTIQSXU5M7kEdRNCCEkMhRIhSQAxA+rjzOSYxHPhwsWmpKLbt902UOd1yYwZs6ITizqT3UdCCMkVKJRIXDBoYwC79dY79GB244391dy5883e4MFAipm/c4WGMDP5vHm/Un/5S1W0/a1b31GLF5doN1xdg2kKwPjx43TMlCRMiUAIIbkIhRKJS6LJCoMEbeKNr1wCQdWYhwhzHcmgjnJQcUSY5VvadaagwDV+85uSaLsbNqyMWq9yBQioup6GgRBCkoFCicQl0WSFQQHLzerVr6i77x5uakguAmuaWKa8kh+LICyWsFbaiPUSb+XBeiltQkjLNr4v9nEgnuUz0bmEEOIFhRJJCgxomZqsEG3PmTNfzx103nnBLhFCggXC2bZ6uSUck4ilS1/QQgVuRqw/ZyNzSL3wwsvq2muvjrrlYMXDOnhYl66s7E1tgcK6dQBCaNWqdfpc9AFvD8I6KXFP8c4lhJB4UCiRhGR6skIMmj/5yaC0xVfQ1g6SOSRGaevWTapVK/elU7D+HdyGsGja4gsCBwv6Yp8s/wJrJASVuBSRowxxb+N2LiGExINCiSQEgwkGtUxMVoiBDBaF++8fY2oiwMrk9xX5oKwdxJugxShcum+++QdTisVrAeLzz29mtmr49NO/1LJGouy0VrmdSwgh8aBQIkmTickKf/WrYv3WlwyysC5hQVhYsGC9IrlFpsQoXGfpTA8Aq9Q//hH7fUE5E2vmEUIaFxRKxBdBT1Zov02GBJcMYklSHXBJ/QPWQ7jO0gGuNMQkiaUTOcpw6RJCSDpQKJG4wMpj/9KX7UxNVggrAAJuGzuYT6ohIvclwdxIsB7CdSYgsB8UFc3Ub6gJsDrB2ojkfD4IzkZMEs5Bm2gDU1mISzfeuYQQEo8moTBmmzRifv3rpWrx4mfVG2+8qi67rJWpjcQQbdq0WbvHAFwZv/jFQxkJgsVghokXAQY9mZxQGDv2wbCIOhLuo3tMS7r8+Md3qH/+537hgdQ9NgqDNuKz8EZVkPePmB4M4DawqmXCovbccy+qP/2pXMfuwJpng+/A8uWrw/VbTA0hhBBalEhc6nKyQrzCLddxiqRsI1MYBDljto1zpuqgRRL6P2RIodq7d58Wuk6RRAghxB0KJUKSYMGC/1lv410gkrDoLqyBEL18JZ4QQpKHQomQBMAleObMmVpTGNQXXn31T9rVJm8sEkIISR4KJULi8NlnVfqNrCee+DdTEzyYmwqxYFh2A4HIiFmyg5jTBTFJnTtfqa1i9jVwb4QQQuJDoURIHPAWFZbFcE6LgLf/gpp0E/FYmHQRcUOY1PP06TPh6wb3ZhbeKEObw4YVxFzjP/4j9XmLCCGksUChRIgHeEMMIuPee8dHX2UHePMNr7dnAkzq+dOfjtausiCtSn373hxdIgbXQFneZCSEEOINhRIhHiAmyX4TDQksXhx5CzBTQdHOGabTBbNWHzt23JRq4KKwhBCSGAol4hsENwfldsolevbsoQ4c+Ew9/PA09eijtacnwNtj4Pjxb3QeBHiOt956R9R6JDFRmEcp3UWCBUzx8Pbb26KfGa6BmChZlR/3inuG9QzPgBBCSA2ccJJovCacxOAKV5MTWFWCtqhALKxbt1EP6g88MLbWW2aZnnAyERA0cInBEoP7D0LIQLTMnTtfCzTM0YS2+/fvo99QC3K5GMRUrVq1Tl8DFiaIJ8xmTQghJD4USkSTSCiJ2ylTwEpVUvJrNWXKz1X37tfqOBon2RZKhBBCGh90vZGsIyIJVhrMzu0mkgghhJBsQKFEsg5EEhYwDSomhxBCCAkKCiUSF8TMIGGdMLwejwkLEe8SFAgqlvXT7Gvg1XxCCCEk21AokbjAyoNJCrEYLuKUEGSNOYTgLguCqqovdN606XnhdhdFrwErU5DzCBFCCCGpQKFEfIE30bC46rZtO0xNMKBdectL3nbbvn2XzgkhhJBsQaFEfCOusiBo2fJSnbutOwYrEyGEEJJNKJRIXLB4KmKSZLJFxA5hLqFhw4bocroMGNBXx0A9//zy6DVwPdT16ZOny4QQQki2oFAiMSxfvlq99NIq9dZbFbqMOY22bn1H9e07WAdaYyX6efN+Fdhkk3C3YVqAo0ePRa/xl79U6TpME4CJGNEfJCzkSgghhNQlnHCSaCBIMJmj0KxZs5xYzgJ9Qt+EXOkXIYSQxgGFEiGEEEKIB3S9EUIIIYR4QKFECCGEEOIBhRIhhBBCiAcUSoQQQgghHlAoEUIIIYR4QKFECCGEEOIBhRIhhBBCiAcUSoQQQgghHlAoEUIIIYR4QKFECCGEEOIBhRIhhBBCiAcJ13o78e3/VVNe/Vy988Updeh/f2dqCSGEkNyl3f/4gbq5wwWq5M4r1MVN/5upJcQ/cYUSRNLV895Xx898b2oIIYSQ+sOlzc5RH02/nmKJpExcoXTvigPq5fePq1YXnKtW3ttZ9b2iudlDCCGE5C5bPz+lCpd/oo6cOqvuuf5StfzuzmYPIf6IG6MEdxtYee9VFEmEEELqDX2vuED/wAcylhGSCnGFksQk4QtHCCGE1CfkB34Q8bVNmjA1xJQMfOuNEEIISQIEqjA1nJQsFEqEEEIIIR5QKJGkOHbsWzVgwItq166vTA0huYd8T5977gNTQzLBI5sfUTc/f7Mp1S2vfPKKajI7SZ8JIQFAoUSSYvDgFerttw+pyspvTE2E8vLPVZMms2OSEwxc9v5ZsyrMnrolmb4mQ67cD65r9wP9SgW7DSQ8p2yQzHO19yM5+3rw4Em1d+8x9cADf8zafSRL29K2WnDUNxa+u1At2LVALRq8yNTULXdddZfKa5Onnx8hdUFOCKXVq1eH/+g1URMmTDA1JJeYPLlcffjhMbVgwUB1//3XmdoMcHP4Fyqi6155xVT4RM6X9EGWrAptw3/A7X6gnA5yX49kaVC170XSyJFmp0+cn1HA9OrVWr3++t2qefMfhLu4XluYUgFiQCwm2OagHOGDox+oyeWTVemgUnVdy9i/BXhesPTYKRWc7eCaTt657x2dj1yf4veQEB9kXShBIG3btk1dccUVpobkEvv3n1ALF76r+vdvp6ZM6WVqa4P9odAsnbwoK7tH7589u5+pMSxcGBk0b7rJVKQABu7WrWui9EaMUKpHD7MzwqBBV0T7iP6mi+f9HD5cO2IQAiEV8Gx27DCFWHBduZ8gkLbwnGpRWhp7T+EfN77BZ2x/RkgWW7aMCVfN0s/VC+njzJl9TU1tIJYef7yPOnnyO/XLX75lav3x1emvVOvzw301220voFAC83bM09acSTdNMjU1QLyEZoWiKRWrD4QPnru0MaLrCNVjaez/Y6E0v1StqVzjKqQICZKsCqX8/Hy1fft2tXjxYlNDco3583fqvKgoxYE+EbD6lJREBs1e3kIsIRi47cF7+vRIDqGRbYYPNxspMHmyUlOnKtWmjamop0DIQrymIrBSAKIeVqWNGw+kbFUSoUQiQJBAmEzuFf5OJsHQLkPNVvKsHrpaJ2F6XuT/Max6TuCCa3N+G7Xyo5WmhpDMkDGhBBEEa9E770RMpMDpYisrKwv/0E5vAHbGadjJT4yC9BW5pHnz5pm9kb537Ngxeg+SvvjiC3NE8sizkWQ/I+kDwPXkGFxXwPNDcvbXiX0+kvQVOcr2/QGpt69VUXFIDziuVoYguO66iAWmIbNgQXjU8D9oaHGRl6fUM8+YinrMmjVKDRtmCnVDQUFnbVXat++4qUkMBmS4exCDgyTbO6p36G23AdsLCTq2E+qc2K4mN1cSrDJ2G7YFBcdLkv1uVhynO8utH4nY9uU2nUOgJEPJrhI1vGsaPxKSAO2vrVxrStlj7tz5qkuXGzzT8OGjzZGkPpIxoQQR9NBDD6lbbrlFlzEIjxo1Sq1atSpnLUjoKyxcWNUF/SwqKooRQp9//rm+B+xHKi4u9u0yhMB57LHHYtqQZ2QDwTJnzpxoX3BdmyVLlujzpJ1BgwbFxHhBjG3evDm6H5/FwIED9b4OHTro6y5dulSXhWfCAzLaGWnFnxw6dFJ1797ClOoRK82vzEm1XQR1gh2nBEuK334gTgviYlF2AmZrAcuW3I/fHzcSc1ZdXdMGUqpxTkmSlxexwu3cGb5uksClJG4jxOHI9tReU/W2m8vJDYiZoWuHqvXD10fdSEhOkQERdlPrm/Q+HAuLjS1iIHA2jtwYPR+uqILVBWZvBJwD96AcAzchzhNkW/bjvtA3v2IJ18CziIctyNCPZwamJ/LFWuT13GH1qz6d/OebKR59dJpat+4l9aMfXaX2798dk1BP6jcZdb1BEGHgxaCNQRqDtT0IB4Edp+FMfq0gECRi4erZs6fOjxw5onMBokMYaqwEtkUoEXgmthWtd+/eOrcFGUBf5FlJX5zXsfsyYMAALYwECFUIIqFPnz5a6AnoO8p2mxBfY8eONaV6DNxtsOIgriZb2HFKX33lP6BbXG6wuGUbuQ9JiJlKxRK8fn1NG3v2RIRgBgPU27RJfUWBw6cOqzYXRIQWtlN1w62rXGe23IEAEzEhIqr6VM3Aj7gfO2gaosopDCBeJLgZwOUFCxiAYMO2/YYaRAfO2VW9y9QkB4RSIuw4JTwzCKZUgfUOQhLCrqEhlqZ+/W7T5RdeeDlah23BtlRJPc6xz7VxWrbcLFl+2yR1EKOEAbu8vFxvMxapxv0oyc2aBEQcAQgeiCJbYEGA2kyfPl1VVVWZktJuNfs6TosU2oRwXWksL+gXrGNBC9k6ByIJIiMVK06mgFUI1pRk3+YT8ZCrLjcIUIglv28V2tYxCEB8Ru++ayqCp7ra//peYhGBGIHVRbbxppefQR/iBmIB1h6ch+TmVksEpg+Q85HQDz8cPHlQ5wiIttuBeEpG+Nj4FYsSa+THXSngHNwrLGjJWvFyDYiOyspPVNeuV6m1a2OtSralCWJm06bNUQvUiy/WxFzBUoW6W2/tp/bu3afFzIwZU3TdmDGFWvQIaOf48W+i7SANHjywlvjx0yaJkHGhhDgZDMjIYVkKmqBilFJBrE2tWrXSuTBu3Kv6+s55YGC9EfejuMTg6gsaiB64DcWNiIRrOiksLNRWJFizli1bpl19ThCfhPmTcgFMdnnhhcWqe/ffuQfoQoiISLLirPzy3HMf6M8Pn2Mm8bwOxIPTTYUyrGTY9hmgHvj9wEIGHNYu+d7jejHcZdxNByODdgx4Cy5DVFae0Hnv3skHwsMismf8Hr2N3N6G8PGLWFdENPkRS2JRsd13yVhXIIAQ5Gwj/beTHTSdDBBKYqnKJHAJikhK1Ee3e80mH3/8SdRa8803ke9fPHAMxIwtpCoqXjdbsfz5z5VazOTn36rL48bdo0UPgGXo2muvDv8WiRU5OCae+InXJqkho0JJYmZgSRLLkjOAuD4DNxUsO7aLCyxb9qHOn3xyq86dtLYGh0y6umwB57QoAVio0H+4RWGNcrMmISAWrF1bqfNsUlZWpYNzMafTypUfmVoDRBJcoQG8WSVt43MMZCbygoJIULYIBoPndeAODYvbmIS33uCKw7ZPS1mg94PnDMGGvjiQ7/20aW/oPAZ8LrYrFO1kOMAbb7yl8iKCWGFgFbK30yVRfI8X7Zu3N1vh3wEJLEpwtUFcSRC1vBk2cdNEXU6HPpf30XmyFiJY53Btp0UI58OqZcdRCRBJsOQlI5IAArkzHTDuBztGCduwJsXjkksu1uIkGSB4vIBlqEeP7qYUS8+ePdS+fY6/l4Z4bZIaMiaUYEGCtcKOm4FVA5YOsSzZ7iHEy+B4KSdLkDFKySD9Q4LAgAB0MnZsN50753qBMJEAd2nDzYqTLhA8EEBwpcl13CxKAIHlePbjx483NbFMmxaJoXrqqeTjsHwjgc/yZhhylB3CbcSIrnrgA6dOndV5FFiSAAZfnGsnnzz44PVmS6nTpx3XSQTcUc7rY3oAlzi2tK7jg0DvB58NYo1c3IKTJkXmwYKYrYWIV2c7DvEYFCUlu/SLCBMn3mhqkgcxQmKlsLf9IGLATrDI+LHiSCyR7TZzsyjJG3lIOBbH2EHUhycf1nFWcowkv8HcEIsQMOv3hz83F5zt435xbSciuNBv+w0+MLks8v/YdllKcoL+wy1aeHVuDva2lQhuMbjhSD0lFAc1qUInEgqFhUaoefPmptRwSOa+Jk0qCyn1RGjmzLdNTQ1lZVV6X//+y0xNbbAPx+DYdCkoWK3bevbZPaYmNaRPXjRv/rTeX1n5jampIcj7iXcdP6CNeJ9BvOugHilddu6s1u20a7fQ1KSGfKfcvm8C9uEYt88A/cD9Ih09esbUNkxGrBsRyvt9nillnj1H9oTUEypUuqvU1KQG+ox20F6qtClpE5paPtWUvAlqHIs/WoZCH3+8PzRs2L2mFAvqsd8G5b59B5tSfB5++JHQ888vN6XaYN+cOfNMKRavfYnabAwk+kyFjMco5TwVFfAZRLZPnlRqyBDXcqdOndRv5s713K8tGmfDv9b374ejt8bCAVC+447ItcDu3Up1715TRjtZKJ8tL1dr1qxRHyFOyrl/ds06aEVFeapbtxbalficx2KjiGNCfAqSF/n5L+v9bmt4JQNizuB2Q19SWUoF50sf48Vd4R5hFYGFpEuXi01tbdK9n2Sv44UdnxePZK8jbaUS24eYMXHPFhdH4h38Imu94bl6IX30cmvDtVhY+Iq+Xyxl0qJFU7OHBAGsSrBYwQXotAYlCyxBsCbBOpWqS1NivWzLWWMG7ju41+w35gCsWAgOZ9xRelAo9eun1NbwH115W2rMGNfyZevWqRbFxZ771aHwwItYlBkzlOrbV6nLL4/sh0hCecAApe69NxKncd99iL6LiJGNGyNiqw7L3/74x6r7hx+qXfn5avHAgar1ww/XPv7OO80DUnqw2bTpbr3sR9eul5jaugWD6IMPvqZGj75W9yVTYBD+zW92q2ef/ZfwRxX7ZmGQNKTrQFi1bLlAu7qw/Mjw4V3NnrqnffvmOq1ZM1QvZUKCBy5BTGuQStwT4pIQg4Tz/QaTCxBacM25ufWyBYKlhw0bHRPMbSfUCxAzqMPxCOa2j5s4MVbQyGv7b75ZoebP/4+YY52uPLj68PacfQyu4QwO99MmMRjLkiuNyvU2aVIotGGDKYRJpXzffaHQCy+YijClpbXL110XCu3dayrCFBTkdpkQQuoxdeV6I/WPZD/TJvjHaKZaNJkcMW+HSr0XoCSEEEJylaDGMbyD4D1akvpIsp8pXW+EEEIIIR5QKBFCCCGEeEChRJICbzUhoDqQCRjrOZiBevLkyLI8hDRGsLSK24SRQdC2tG3Sk1oSUhdQKJGkGDx4hX6lvrLyG1MTwX7lXlJ9Rl5Rl+R89R+CEVMULFz4bsrTAhACIAggOOobsrSKvdBukEzpNUVPP+B3QkxCMkXWhRKWOZHZo5H8rMRP6gZYTyAOFiwYmNL8RRpMp4DIuVQX3ZXzJaWy6rzMAC7J74r+YWSqBJlXKpU5h0juAzEgFhNsQ9SQyBIpEDGYS8k5BxKeV6LZtJNBph/ANAKE5AJZFUpYwgQLsuLFO6Ti4mK9vAfqSG6wf/8JbT3BHEpTpvQytbXBflk6phYQJVjoFeuVpYIsdovXE5Cw9AXWG4N48sPhwzVtIIGbY90HW7aMCe+apecD8gJiafHin+htzO1EGh5YbFVWy8d22wsolMC8HfP0sipuK/pjQWF70V0cl6rAxESSWDqmPlrcSMMjq0Jp+vTpMWuloQzWYyAkOcH8+Tt1XlSUYjwChAg+z3QWqsV6YCJsAMpYZDbd7wnWYEsRTGaIBYMxySKtSg0TEUokAqxJmOhxcq/wj5YkGNolPYsQFrvForeEZJuMCSUsfOt0pa0OD5aog7stKOxlHJzJzwAmfRUXIBIsXgL6joV+5R4kpWL9kmcjyX5G0geA68kxuK6A54fk7K8T+3wk6StylO37A1JvX6ui4lBKK7BHwb1laOHTtIFVShbiTYGf/OSHOt+5s1rnpP4ji9kiBgdJtmXhWT9BxoixEReUJLe4G9tlJUtz2MAqY7dhLx2C4yXJfjcrjtMtlkr8z7Yvt+n8rquS+/9csqskrZX9sdgtFr3NpVil8J9HpgaUkiVjQgmWIlkpH2AQHjVqlF7FfvHixbrOiQzQQ9MYvNIBfd2+fbuCGxD9LCoqihFCWGUf92C7CrFCvx8gcLBiv9Pd6ASCZc6cOdG+4Lo2S5Ys0edJO4MGDYoRoBBjmzdvju7HZzFw4EC9r0OHDvq6S5cu1WXhmWee0e2MtOKIYDHp3r2FKeUIWNF+x47URI4dpzRiBJa8Nzv807t3xJW4ffuXOif1H7iUxG2EOBzZRswMtt1cTm5AzCDGZv3w9VFXFJJTZECE3dT6Jr0Px8JiYwsDCJyNIzdGz8f6aAWrC8zeCDgH7kE5Bm5Cia8Csi37cV/om18BgmvgWcTDFmToRzprsUkMVPWp3PghEv4zytQAUzJk1PUGQYSBF4M2BmkM1vYgbAPrCMQABnAM5Mkye3a/8M1GYmOcya8VBILkZhOz0rNnT50fOXJE5wJEhyCCzrYIJQLPRK4BevfurXNbkAH0RZ6V9MV5HbsvAwYM0MJIgFC1n2OfPn200BPQd5TtNiG+xo4da0o5TI8eEddbKiLHjlP66quUArqFVBayJfWDw6cOqzYXRIQwtlN1w62rXGe23IEAEzEhIsoWBoj7sYOmIapgZbGBeMFxAlxesIABCDZs22+oQezhnF3Vu0xNckAoJcKOU8Izg2AipL6T8RglDNjl5ZE5Z7wsSRisYR2BqJI4pYaK03XnZk0CIo4ABA9EkS2w8Kxs8NyqqqpMKRIob1/HaZFCmxCuK1eu1GX0C9YxLyGbM4TvReNDnHqyKDx4VIcHHQSLpwAC3UnDQiwiECOwusg23vTyM+hD3EAswNqD85Dc3GqJQDCznI+Efvjh4MmDOu+xtEdMOxBPyQgfG79iURa99eOuJCQXybhQQpwMBmTksCw5gSVFRJId2J0sQcUopYJYm1q1aqVzARMS4vrOeXbEagZrkbjE4OoLGogeuA3FjYiEazopLCzUViR8BsuWLdOuPieIT8L8SZkG8xN17/47deGFxd6TWor1J3w/Xsizf+65mjiOTPHxx5E5pW655XKdk/oPLCJ7xu/R28jtbQgfv4h1RUSTH7EEgQHXnO2+g9ssERBAeGPMRvpvJ7+r90MoiaWqLpBYLLHsEZItMiqUJGYGliSxLNkBxBigYcVIVSRlG7ip0Henq3DZsg91jnl23GjduuaXWSZdXbaAc1qUACxU6D/corBGuVmT8GYXWLu2UueZYt++43quppMnvwt/R1z+GEMkwfoTRyQBefbTpr2h87gUFERceCkGm2/aFLHg5ed31DlpGIgVBlYheztdEsX3eNG+eXuzpRJalCAuIK4kiBruPIimiZsm6nI69Lm8j86TtRDBOodrO+O6JGDejqNyY+VHK/X5yQaPE5IpMiaUYEGCtcKOm4FVA5YOsSyJkIKAst1ESM6YHS+CjFFKBruPEBhuAm/s2G46nzkzdrVqCBMJcJc23Kw46QLBAwEEESrXcbMoAQSWI1Zp/PjxpiaWadMiMVRPPZWiqwsTQ4avrxOEzpo1NWULfFaYxBGcOvWdzqOgDZwL5FxJjrmUJk26SecQXDEgANx5LqYHSNGFB6sXRBnmj8JUAaThgBghscjY234QMWAnWGT8WHEklsh2m7lZlOSNPCQci2PsIOrDkw/rOCs5RpLfYG6IRQSTr9+/3tTE4mwf94trOxHBhX7bb/A5wdQA6bw1R0hghOKgJlXoREKhsNAINW/e3JQaDrivdu3amZI7kyaVhZR6IjRz5tumpoaysiq9r3//ZaYmdRYs2KnbGjt2o6nxz86d1bqNdu0WmprUkPtyu+ejR8+EunX7rd6P4wjJFiPWjQjl/T7PlDLPniN7QuoJFSrdVWpqUgN9Rjtoz42p5VNDbUramFJ6cBwj6ZLxGKWcp6IC/prI9smTSg0Z4lru1KmT+s3cuZ779czRZ88iwheBMpGygPIdd0SuBd56S6n27WvKhw5lpXy2vFxb83asWFF7v9X/oqK86JIdXrE/iGOS2LBUQGD0a699pmOixIrlF8Q5iYuwuPhWnftF1nrLz3/Z1MSCaxQWvhJd0iUTVktCchVYlWCxggswnjUoHrBkwZoE65SbSxP74T4szU8cj0VIXUCh1K+fUlu3Rlw4EAdjxriWL1u3TrUoLvbcr8UFYl5mzFCqb1+lLr88sh8iCeUBA5S6916lHn1UqV/8AsoCfsOIyMIxdVg+M3Soah/u7678fPWrK65QrdAn5/Hoo0HWN4ObqWvXS0xtcCDoPS/v+fAja6527LgvpdfuEbjfsuWC8MdwUmH5keHDu5o9wYJngX7CrRpvSRdCGipwCWJag1TinhCXhLcJcb6XG3JyWWQtOcYmkZzBWJZcaVQmy0mTQqENG0whTCrl++4LhV54wVSEKS2tXb755lDo4EFTEWbs2NwuE0JIPYauN5IuTfCP0Uy1aDI58tZWqDQ2KJkQQgipD3AcI+lC1xshhBBCiAcUSoQQQgghHlAoEUIIIYR4QKHkAl4Bx2vinktpNBLkOdTFciCEEEJILkKh5MLgwSsU5gWqrIys5dVYOXjwpNq795h64IE/ZnzdPEIIISQXqTdCaW3+WlXcpFjte26fqfHHp+s/1W0gxWPy5PLoZIL335/a+k6ycr+9rl0uIv2UhMV0bbA0x+uv360ngRw5cr22MBFCCCGNiUZjUfp619fqYPlB9f2Z701NbTA79MKF7+qJFVOZTBDr00Fw1AcgipYuXYp5tHTCWnBYOPcdx9pnEEuPP95Hr532y1++ZWoJIYSQxkG9EUrDy4arolCRuvb+a01N8Myfv1PnRUXxV7X2AovkYoHZ6dOnm5rcBQvnVlVFVr8HKGMR3ZUrV5qaGiAaYVXauPEArUqEEEIaFRkTSlumbtGusldHvKpezntZby+8YKGuF+AOQz3qdpfs1vtRLhtfsyK/nCvJPh/IdXCOuOfQjrQh+9E++Hrn19G20LZNRcUhLQjc1u/q2LGjthbBaiQ4XWwQHh06dNDb2SQ/P1/3y7YOwYKEugkTJpgafxQUdNZWpX37jpsaQgghpOGTcYvSgbUHtDgBZ0+f1YJFRItw5N0jWtBgP9j37D7fsUg4B641gHZQPvTGIV1OFqwT1r17C1OKBSJo0KBB2moEIEKKiorU9u3bc86CVFZWph566CF1yy236DLEHdxqcK8tXrxY1znB/cAaVlhYaGpiyctro/OdO6t1TgghhDQGMi6Uzj3/XFWwriDiNnsg4jY7uDkiaAQIqc7DO+tjkIO/ffI3nd+z4x5df8OUG3TZC1xnwIIB+tiLulyk6058dCJaJ+df1vsyXUZC236AAAGwykCEFBcXq5tvTs1NFw9Zwd5Oft86gyCCsIN1CeIOwgnuNTcgpHA/OMbrftq0ucBsEUIIIY2HjAuli350keo0tJPebj+wvc6dAdUQOf2f6a+371xzpxYxEDh+wHVEDJ3b/Fydn/n6jM6DZPPmzWrJkiVahOR6LBKEXXl5ud72siRBJCE2CcnrGFBdfcpsEUIIIY2HjAsl4XT16ag7rVnrZjoXIHLOb3O+KWWWsycj7j03EJ+E+ZPiAUEBSxJccanG+yRiy5YxKhSaFZPc4qYSgbgqWImQw7LkhogkO7DbjcrKEzrv3TvigiOEEEIaAxkXShI8vaTtEh1DBOtRsm+uSbC3HYyN3C0QOxGX9bpM53/d/9dom842ELAM1q6t1LkTiA2xJIllyTn3UK4gIg5WIrEsOed1QnB3MiIJ4I03r0B3QgghpKFSZxYl0H5Qe1WwvkC1+3E7U1N3wP2HGCkINS+mTeut86eeip1LCEBUQGxInBLeboNlCUHSIkqQ4zgkgGBvbMOiU5fgehBxEHMCArnRH7EsSZ8RwC19luScS6mkZJcOdJ848UZTQwghhDQOmoQw26AHTSZv1XmotK/O/SCv/CN42m/QdDbBzNyYdHLmzL5q9ux+prbxgvXubrtthd7+5JOfqRYtmuptQgipD6QzjhEC6tSiVB8oKspT3bq1UE8+ubXRLwYLkVRY+IqePwlLmVAkEUIIaWxQKDmAGNi06W69jEnXrpeY2sZJ+/bNdVqzZqheyoQQQghpbGTM9UYIIYRkG45jJF3iWpTa/Y8f6Hzr5yd1TgghhNQXtn4emf9NxjJCUiGuULq5Q2Q25sLlB6JfOEIIISTXwQ/8wuWf6G0ZywhJhbiutxPf/l919bz31XHHTNqEEEJIfeDSZueoj6Zfry5u+t9MDSH+iCuUAMTSlFc/V+98cUod+t/fmVpCCCEkd4G7DZakkjuvoEgiaZFQKBFCCCGENFY4PQAhhBBCiAcUSoQQQgghHlAoEUIIIYR4QKFECCGEEOIBhRIhhBBCiAcUSoQQQgghHlAoEUIIIYR4QKFECCGEEOIBhRIhhBBCiAecmZtE2bDhj+rpp0vVZZe11OXzz2+mli37rd7OJgcOfKb+7d9m6+2vvz6q8/fe26JzQgghJJPQokRiOHPmjJoxY4r6X/9rRS2RdOLEX9XPfjZFvfZamakJjoqK7brtLl1u0GnMmH9Ve/bs1fs6d75S9wfp1lv76j4SQgghdQGFEkkKiKPbbx+m3n57u2ra9DxTGwwQSUVFM9WwYUPU/v271fLlS7UVadGi7FuzCCGENG4olEhC1qx5RVVVfaHee+9tUxMs/frdottGDnr06K7uuOM2tXv3B7pMCCGEZAsKJZKQESPuUpMmTTCluuHMmW9Vp04/NCVCCCEkO1AokZwDsUl/+MPr6rHHppkaQgghJDtQKJGcAgHjEyZMUbNmzdAuOEIIISSbUCiRnAEi6ZFHHlXFxU9qdx8hhBCSbSiUSE4AkTR+/EQ1btw90aBuTBdACCGEZBMKJZI0EDPg+PFvdB4kTzzx72rkyLuiIgnXev/9yDxKhBBCSLagUCIJQXA1JoDEPEpg9uyndRnTBgQB5mjC/ExoVyac7Nt3sH7zjRBCCMkmXMKERMESJo8++qSekbtnzx6mNrd49NHZ4X6+piemJIQQQjINLUqEEEIIIR5QKBFCCCGEeEChRAghhBDiAYUSIYQQQogHFEqEWLz00iodMI6E7cbC00+XRO/7rbcqTC0hhBAKJUIstmzZqpo1a6bmzp2lRo8eZWobPjNmTNH3/PXXR9Xu3R+YWkIIIRRKhJA6A3Ny3Xhj/+h8Wc5ECCG5BoUSSQhmyV64cLG69dY79GCGgW7u3Plmb/DMmDFLT2iZa+A5YFkVTJAZNBUV23XbIhhw/xAVQVHXn6EXWOh41KjIxKWYC0vS8uVLVbNmTXU9IYTkEhRKJCFYqPbYseNq1arn9aCGgW7FirWBzcxtgzb/8IfXTSl3gDjCzOSYQbxp0/NMbTBAJBUVzVTDhg2JioYDBz5Tixb91hyRPnX5GaYCBNR7771tSoQQkjtQKJGEvPji79TTT89WF198kS5363a1zjt27KDzoIAFZfXqV9Tddw83NbkBxERV1RcZG8ixvh3alnXuIBruuOO2QGOFgvoMIerE6hUv4bhkee65F7W1S7Ddc7CEwbqGbRwDa6Ns43OR4wCOxX6pg/XMFoJiTUPfYE3Ddi5aLgkhuQWFEkkaDESwrKxbt0HNmjVDD+hBgbbnzJmvHntsmjrvvGAtNukyYsRdatKkCaZUN2Cdu06dfmhKwZHuZwgxJ+6yeElEXzwgVJBKSn5taiLY7rkFC/6nGjfunuizgNgDW7e+o5/RAw+M1WWAYz/99C9q+fJndR+wyDLWDxTRhu8WeOGFl9W1116txSghhCSCQokkBQYbLFQ7ffrj6ttv/6EuvfQSsycYli59Qf3kJ4PSFl+wNMgAHC/lMrCowP0oA3tQZPoz9IuIqilTfm5qajN16sNadG3YsDJGrF5/fXd1//1jdEIbEIB4Zj/96Wh15ZUd9THYB4FVVvamLgtwcd5+e74WXbC0EUJIPCiUSFKIJWHjxlWqZcsWasKEKb7cK/GAhePIkaN6YLPB4IcAZz9gMJUBOF7KVXDPeLZBW+xAEJ8hjncTns7kp1187l4WO3EVOnFaHSsrP9G5M37s/PObqaNHj5lShKBjzAghDRsKJeIL/FrHr3zw4Ycf6TxdfvWrYh0kLYMsrEuIz4H1A5aPxgJEEoKui4uf1O6+TJHOZxik680JYohSpVWrljp3fl9Onz4TtTARQkgqUCgR33j9yk8VBDLbg+z48ePUDTdcp7cbi2sEImn8+Ik6HkdEhl9rmh+C/gzTBUHXsCqmCsQQvjO///1L6rPPqnQdgsQRs5Sff6suE0JIKlAokYTAymO/lSTbt902UOdB849//EPPEJ1rQMyA48e/0XmQPPHEv+vgYxFJuNb77wc3j1Jdf4ZeIP5q1ap1elssiEgIuhbsY5xWJrzVBmB1dE5t8Mwzc1WrVi1UQcEo3eaf/lSu5s37VdSFiZcFAKZiwDUIISQZmoTCmG3SyNmw4Y/q0UefVMuW/Vb17NnD1EZiiDZt2qzdYwABsr/4xUMpuVcSgcFPBk28lSRvOQlYi2zDhte0tSkTjB37oOrc+Uq9pIeAQRVzGmFuI7xpBWC9gMgIwkWG54sAazeCus9kP0O3+yeEkMYMhRKJ4iWUcolsCKXGBIUSIYTEQtcbIQ5gOcIK+sgbC7hfJAQ/E0IIqYFCiRALWFImTHhANWvWrFGJBtwvEu6/oOB2U0sIIYRCiRALuJ3gdpTUWLDvGc+AEEJIBAolQgghhBAPKJQIIYQQQjygUCKEEEII8YBCiRBCCCHEAwolkhKYGDKoRXEJIYSQXIVCiSTEbcV4e8mJIMEs2Fim4sYb++u1ugghhJBsQqFEkgazYdsp6CVMYKWaMGGK6t79GrV8+bPq/vvHmD2EEEJIdqBQIjkBRFJJya/V4sUlev00rAZPCCGEZBsKJZITQCSNGjUsutI7IYQQkgtQKJGENGvWVKchQwp1fBLihxYuXGz2pg9WtpdV+e1rMEaJEEJItqFQIgmBlee9995WGzas1LFJDzwwVi1d+oJ2lwVBVdUXOm/a9Lxwu4ui14CVCcHdhBBCSLagUCK+QZB1p04/VNu27TA1wYB2L774oug22L59l84JIYSQbEChRFJCXGVB0LLlpTr/7LMqndvAykQIIYRkCwolUosDBz5T//mfe3QOxoz5Vx2TdOLEX3UZsUNHjhxVw4YN0eV0GTCgr46Bev755dFr4Hqo69MnLyzKzuj+IJ0+HZxAI4QQQhLRJBTGbJNGDoTRxo2vmRKsOU3Vz38+XouWrVvfUZ9++hddD7fbT386Wt1+e74uBwFikRYt+q3avfsDXe7f/xZ133336vior78+opYvX63rhRkzppgtQgghJHNQKBFCCCGEeEDXGyGEEEKIBxRKhBBCCCEeUCgRQgghhHhAoUQIIYQQ4opS/x9IvivTsL+4fQAAAABJRU5ErkJggg==\"/>"
   ]
  },
  {
   "cell_type": "code",
   "execution_count": null,
   "id": "98899223",
   "metadata": {
    "tags": [
     "raises-exception",
     "hide-output"
    ]
   },
   "outputs": [],
   "source": [
    "# broadcasting error\n",
    "x1 = np.array([[1,2],[3,4],[5,6]]) # shape (3,2)\n",
    "x2 = np.array([[1,2,3],[4,5,6]])   # shape (2,3)\n",
    "print(x1 - x2)"
   ]
  },
  {
   "cell_type": "markdown",
   "id": "75722764",
   "metadata": {
    "id": "gTwomjHd-t5c"
   },
   "source": [
    "## ฟังก์ชันทางคณิตศาสตร์ของ NumPy\n",
    "\n",
    "เนื่องจากฟังก์ชันทางคณิตศาสตร์ใน **`math` โมดูลไม่รองรับการทำงานร่วมกับ List** ทำให้ต้องใช้ Loop หรือ List comprehension ในการช่วยประมวลผลข้อมูลแต่ละ item แทน ซึ่งไม่ค่อยมีประสิทธิภาพ\n",
    "\n",
    "**ดัวอย่าง**"
   ]
  },
  {
   "cell_type": "code",
   "execution_count": null,
   "id": "23ec79f7",
   "metadata": {
    "tags": [
     "raises-exception",
     "hide-output"
    ]
   },
   "outputs": [],
   "source": [
    "import math\n",
    "\n",
    "# พยายามใช้ math.log() กับข้อมูลที่เป็น List\n",
    "# ทำให้เกิด error\n",
    "x = [1, np.e, np.e**2]\n",
    "print( math.log(x) )"
   ]
  },
  {
   "cell_type": "code",
   "execution_count": null,
   "id": "52987fd7",
   "metadata": {
    "tags": [
     "hide-output"
    ]
   },
   "outputs": [],
   "source": [
    "y = []\n",
    "for item in x:\n",
    "  y.append( math.log(item) )\n",
    "\n",
    "print(y)"
   ]
  },
  {
   "cell_type": "code",
   "execution_count": null,
   "id": "ef33a0f4",
   "metadata": {
    "tags": [
     "hide-output"
    ]
   },
   "outputs": [],
   "source": [
    "y = [math.log(item) for item in x]\n",
    "print(y)"
   ]
  },
  {
   "cell_type": "markdown",
   "id": "edd27710",
   "metadata": {},
   "source": [
    "**NumPy** มาพร้อมกับฟังก์ชันมากมายสำหรับการคำนวณทางคณิตศาสตร์ (คล้ายกับ math แพ็กเกจ) โดยใช้ประมวลผล NumPy array จะเป็นการ**กระจายการคำนวณเข้าไปยังสมาชิกแต่ละ item ภายใน array** เช่นเดียวกับ math operator\n",
    "\n",
    "ตัวอย่างฟังก์ชันทางคณิตศาสตร์ของ NumPy เช่น `np.cos()` `np.arccos()` `np.log()` `np.sqrt()` หรือค่าคงที่ เช่น `np.pi` `np.e` เป็นต้น\n",
    "\n",
    "**ตัวอย่าง**"
   ]
  },
  {
   "cell_type": "code",
   "execution_count": null,
   "id": "067a6666",
   "metadata": {
    "tags": [
     "hide-output"
    ]
   },
   "outputs": [],
   "source": [
    "a = np.array([1, np.e, np.e**2])\n",
    "print( np.log(a) )\n",
    "\n",
    "b = np.array([0, np.pi/2, np.pi*3/4])\n",
    "print( np.sin(b) )"
   ]
  },
  {
   "cell_type": "code",
   "execution_count": null,
   "id": "2a347a9f",
   "metadata": {
    "tags": [
     "hide-output"
    ]
   },
   "outputs": [],
   "source": [
    "x = np.arange(0,10,0.25)\n",
    "y = np.sin(x)\n",
    "\n",
    "print(x)\n",
    "print(y)"
   ]
  },
  {
   "cell_type": "code",
   "execution_count": null,
   "id": "04292ff2",
   "metadata": {
    "tags": [
     "hide-output"
    ]
   },
   "outputs": [],
   "source": [
    "x = np.arange(1,10,0.5)\n",
    "y = np.log(np.e*x)    # y = ln(e*x)\n",
    "\n",
    "print(x)\n",
    "print(y)"
   ]
  },
  {
   "cell_type": "markdown",
   "id": "4ff1e2fe",
   "metadata": {},
   "source": [
    "## ฟังก์ชันทางสถิติของ NumPy\n",
    "\n",
    "NumPy มีฟังก์ชันพื้นฐานทางสถิติหลายฟังก์ชัน ได้แก่ `np.sum()` `np.mean()` `np.max()` `np.min()` `np.var()` `np.std()`\n",
    "\n",
    "ในกรณีที่เป็น array แบบ 2 มิติ (ตาราง หรือเมตริกซ์) การคำนวณทางสถิติยังสามารถแยกประมวลผลเฉพาะสำหรับแต่ละ row หรือแต่ละ column ก็ได้ ขึ้นอยู่กับการกำหนดค่า `axis` option\n",
    "\n",
    "- `axis=0` : ประมวลผลในแนว column (แนวตั้ง)\n",
    "- `axis=1` : ประมวลผลในแนว row (แนวนอน)\n",
    "\n",
    "\n",
    "\n",
    "![image.png](data:image/png;base64,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)\n",
    "\n",
    "\n",
    "**ตัวอย่าง**"
   ]
  },
  {
   "cell_type": "code",
   "execution_count": null,
   "id": "2103748c",
   "metadata": {
    "tags": [
     "hide-output"
    ]
   },
   "outputs": [],
   "source": [
    "x = np.array([[1,5,3,1],\n",
    "              [0,1,2,9]])\n",
    "\n",
    "print(x); print()\n",
    "print(f\"np.sum(x): {np.sum(x)}\")                    # sum of all axes\n",
    "\n",
    "print(f\"np.sum(x, axis=0): {np.sum(x, axis=0)}\")    # column sum\n",
    "print(f\"np.sum(x, axis=1): {np.sum(x, axis=1)}\")    # row sum"
   ]
  },
  {
   "cell_type": "code",
   "execution_count": null,
   "id": "aad8b9b2",
   "metadata": {
    "tags": [
     "hide-output"
    ]
   },
   "outputs": [],
   "source": [
    "print(f\"np.max(x): {np.max(x)}\")\n",
    "\n",
    "print(f\"np.max(x, axis=0): {np.max(x, axis=0)}\")\n",
    "print(f\"np.max(x, axis=1): {np.max(x, axis=1)}\")"
   ]
  },
  {
   "cell_type": "markdown",
   "id": "3751438e",
   "metadata": {},
   "source": [
    "## การเข้าถึงข้อมูลใน `Numpy array`\n",
    "\n",
    "\n",
    "\n",
    "### การเข้าถึงข้อมูลใน array ด้วย index และการ slice\n",
    "\n",
    "เช่นเดียวกับ Python List เราสามารถเข้าถึงข้อมูลภายใน array  โดยการอ้างอิงตำแหน่งด้วยค่า `index` ของ item ที่ต้องการ ในรูปแบบ **`array[index]`**\n",
    "\n",
    "หากต้องการเข้าถึงช่วงของข้อมูลภายใน array ก็สามารถใช้ **slicing** โดยการกำหนดค่า `index` ในรูปแบบของ **`array[start:stop:step]`**\n",
    "\n",
    "**ตัวอย่าง**"
   ]
  },
  {
   "cell_type": "code",
   "execution_count": null,
   "id": "9446a584",
   "metadata": {
    "tags": [
     "hide-output"
    ]
   },
   "outputs": [],
   "source": [
    "x = np.array([5,6,7,8,9,10])\n",
    "\n",
    "print(x[0])\n",
    "print(x[1:3])\n",
    "print(x[2:])\n",
    "print(x[1:5:2])\n",
    "print(x[::2])\n",
    "print(x[::-1])  # reverse"
   ]
  },
  {
   "cell_type": "code",
   "execution_count": null,
   "id": "abca2650",
   "metadata": {
    "tags": [
     "hide-output"
    ]
   },
   "outputs": [],
   "source": [
    "x = np.array([5,6,7,8,9,10])\n",
    "\n",
    "x[1] = 1\n",
    "print(x)\n",
    "\n",
    "x[2:] = 0\n",
    "print(x)"
   ]
  },
  {
   "cell_type": "markdown",
   "id": "81729508",
   "metadata": {},
   "source": [
    "ในกรณีที่เป็น **array แบบหลายมิติ** เราสามารถระบุค่า `index` ในมิติอื่น ๆ เพิ่มเติมได้"
   ]
  },
  {
   "cell_type": "code",
   "execution_count": null,
   "id": "3c29ff9a",
   "metadata": {
    "tags": [
     "hide-output"
    ]
   },
   "outputs": [],
   "source": [
    "x = np.array([[5,6,7],[8,9,10]])\n",
    "print(x[1,2])\n",
    "print(x[1][2])"
   ]
  },
  {
   "cell_type": "markdown",
   "id": "244b567b",
   "metadata": {},
   "source": [
    "**ตัวอย่าง**\n",
    "\n",
    "<img width=\"250\" src=\"data:image/png;base64,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\"/>"
   ]
  },
  {
   "cell_type": "code",
   "execution_count": null,
   "id": "db4d8179",
   "metadata": {
    "tags": [
     "hide-output"
    ]
   },
   "outputs": [],
   "source": [
    "x = np.array([\n",
    "    [ 5, 6, 7, 8],\n",
    "\t  [ 9,10,11,12],\n",
    "\t  [13,14,15,16]])\n",
    "\n",
    "print(x); print()\n",
    "print(x[::2,2:])"
   ]
  },
  {
   "cell_type": "markdown",
   "id": "d9620b12",
   "metadata": {},
   "source": [
    "**ตัวอย่าง**\n",
    "\n",
    "<img width=\"250\" src=\"data:image/png;base64,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\"/>"
   ]
  },
  {
   "cell_type": "code",
   "execution_count": null,
   "id": "75004b14",
   "metadata": {
    "tags": [
     "hide-output"
    ]
   },
   "outputs": [],
   "source": [
    "x = np.array([\n",
    "    [ 5, 6, 7, 8],\n",
    "\t  [ 9,10,11,12],\n",
    "\t  [13,14,15,16]])\n",
    "\n",
    "print(x[:,2:]); print()\n",
    "print(x[2:,:])"
   ]
  },
  {
   "cell_type": "markdown",
   "id": "8f22cb27",
   "metadata": {},
   "source": [
    "**ตัวอย่าง**\n",
    "\n",
    "<img width=\"250\" src=\"data:image/png;base64,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\"/>"
   ]
  },
  {
   "cell_type": "code",
   "execution_count": null,
   "id": "1e253bdb",
   "metadata": {
    "tags": [
     "hide-output"
    ]
   },
   "outputs": [],
   "source": [
    "# assign values\n",
    "x = np.array([\n",
    "    [ 5, 6, 7, 8],\n",
    "\t  [ 9,10,11,12],\n",
    "\t  [13,14,15,16]])\n",
    "\n",
    "print(x); print()\n",
    "x[:,2:] = 0\n",
    "print(x)"
   ]
  },
  {
   "cell_type": "markdown",
   "id": "65a5b48e",
   "metadata": {},
   "source": [
    "## การเลือกข้อมูลใน array ด้วยเงื่อนไข\n",
    "\n",
    "การเลือกข้อมูลใน `Numpy array` ด้วยเงื่อนไข (condition) ประกอบด้วย 2 ขั้นตอน คือ\n",
    "\n",
    "1.   การสร้าง `selector array`\n",
    "2.   การนำ `selector array` ไปใช้เป็น `index`ในการเลือกข้อมูล\n",
    "\n",
    "\n",
    "\n",
    "### 1. การสร้าง `selector array`\n",
    "\n",
    "`selector array` คือ `array` ที่บ่งบอกตำแหน่งของ**ข้อมูลเป็นไปตามเงื่อนไขที่กำหนด**\n",
    "\n",
    "โดยสร้างได้จากการใช้ **`comparison operator` ได้แก่ `>,>=,<,<=,==,!=`** ร่วมกับ `Numpy array` ที่เก็บข้อมูลซึ่งเราสนใจ\n",
    "\n",
    "\n",
    "ผลลัพธ์ที่ได้ คือ array ของค่า `boolean` ที่มีขนาดเท่ากับขนาดของข้อมูลตั้งต้น:\n",
    "- **`True`** : เมื่อค่า item ในตำแหน่งนั้น**เป็นไปตามเงื่อนไข**\n",
    "- **`False`** : เมื่อค่า item ในตำแหน่งนั้น**ไม่เป็นไปตามเงื่อนไข**\n",
    "\n",
    "**ตัวอย่าง**"
   ]
  },
  {
   "cell_type": "code",
   "execution_count": null,
   "id": "6c7f615e",
   "metadata": {
    "tags": [
     "hide-output"
    ]
   },
   "outputs": [],
   "source": [
    "x = np.array([\n",
    "    [ 5, 6, 7, 8],\n",
    "    [ 9,10,11,12],\n",
    "    [13,14,15,16]])\n",
    "print(x)\n",
    "\n",
    "y = (x > 10)  # สร้าง selector array ของข้อมูล item ที่มีค่ามากกว่า 10\n",
    "\n",
    "print(\"\\nSelector array y: (x>10)\")\n",
    "print(y)"
   ]
  },
  {
   "cell_type": "markdown",
   "id": "69aad0ad",
   "metadata": {},
   "source": [
    "### 2. การนำ `selector array` ไปใช้เป็น `index` ในการเลือกข้อมูล\n",
    "\n",
    "เราสามารถใช้ `selector array` แทนค่า `index` เพื่อเลือกเฉพาะ item ที่เป็นไปตามเงื่อนไข ในรูปแบบ `array[selector-array]`\n",
    "\n",
    "**ตัวอย่าง**"
   ]
  },
  {
   "cell_type": "code",
   "execution_count": null,
   "id": "1fcf3a70",
   "metadata": {
    "tags": [
     "hide-output"
    ]
   },
   "outputs": [],
   "source": [
    "# เลือกเฉพาะข้อมูลในตำแหน่งที่เป็นไปตามเงื่อนไข item>10\n",
    "print( x[y] )\n",
    "print( type(x[y]) )"
   ]
  },
  {
   "cell_type": "code",
   "execution_count": null,
   "id": "13ba2f28",
   "metadata": {
    "tags": [
     "hide-output"
    ]
   },
   "outputs": [],
   "source": [
    "# การกำหนดค่าใหม่ ให้กับข้อมูลในตำแหน่งที่เป็นไปตามเงื่อนไข item>10\n",
    "x[y] = 100\n",
    "print( x )"
   ]
  },
  {
   "cell_type": "markdown",
   "id": "04aff342",
   "metadata": {},
   "source": [
    "**ตัวอย่าง**"
   ]
  },
  {
   "cell_type": "code",
   "execution_count": null,
   "id": "c2585f57",
   "metadata": {
    "tags": [
     "hide-output"
    ]
   },
   "outputs": [],
   "source": [
    "x2 = np.array([[1,2,3],[11,22,33],[10,20,30],[100,200,300]])\n",
    "print(x2)\n",
    "print(x2.shape)"
   ]
  },
  {
   "cell_type": "code",
   "execution_count": null,
   "id": "9e5f663e",
   "metadata": {
    "tags": [
     "hide-output"
    ]
   },
   "outputs": [],
   "source": [
    "y = (x2<=10)              # สร้าง selector array, ข้อมูลตำแหน่งใดบ้างที่ <=10\n",
    "print(y)"
   ]
  },
  {
   "cell_type": "code",
   "execution_count": null,
   "id": "52c6f9ff",
   "metadata": {
    "tags": [
     "hide-output"
    ]
   },
   "outputs": [],
   "source": [
    "print(x2[y])              # nd-array[ selector_array ]\n",
    "\n",
    "print(np.sum(x2[y]))      # หาผลรวม ของข้อมูลที่เป็นไปตามเงื่อนไข\n",
    "print(np.mean(x2[y]))     # หาค่าเฉลี่ย ของข้อมูลที่เป็นไปตามเงื่อนไข\n",
    "\n",
    "print(x2[y]*3)            # นำ 3 ไปคูณเฉพาะข้อมูลที่เป็นไปตามเงื่อนไข"
   ]
  },
  {
   "cell_type": "code",
   "execution_count": null,
   "id": "d14e7fa8",
   "metadata": {
    "tags": [
     "hide-output"
    ]
   },
   "outputs": [],
   "source": [
    "x2[y] *= 100              # กำหนดค่าใหม่ ให้กับข้อมูลในตำแหน่งที่เป็นไปตามเงื่อนไข\n",
    "print(x2[y])              # y ยังคงเก็บรายการ ตำแหน่ง ของข้อมูลจากเงื่อนไขเดิม\n",
    "print(x2)"
   ]
  },
  {
   "cell_type": "markdown",
   "id": "91494a65",
   "metadata": {},
   "source": [
    "**ตัวอย่าง**\n",
    "\n",
    "ในบรรทัด (row) ใดที่มีค่าในคอลัมน์ที่ 1 มีค่าเท่ากับ `1`, ให้หาผลรวมของข้อมูลในคอลัมน์ที่ 2 และ 4"
   ]
  },
  {
   "cell_type": "code",
   "execution_count": null,
   "id": "6d9a467e",
   "metadata": {
    "tags": [
     "hide-output"
    ]
   },
   "outputs": [],
   "source": [
    "x = np.array([[ 1, 10, 1, 3, 5],\n",
    "              [ 1, 15, 2, 3, 5],\n",
    "              [ 0, 20, 3, 3, 5],\n",
    "              [ 1, 25, 4, 3, 5]])\n",
    "\n",
    "# row ใดบ้างที่มีค่าในคอลัมน์แรกเท่ากับ 1\n",
    "# x[:,0] เลือกข้อมูลในทุก row ของคอลัมน์แรก\n",
    "row_selector = (x[:,0] == 1)\n",
    "print(row_selector)"
   ]
  },
  {
   "cell_type": "code",
   "execution_count": null,
   "id": "71d3f736",
   "metadata": {
    "tags": [
     "hide-output"
    ]
   },
   "outputs": [],
   "source": [
    "sub_x = x[:, [2,4]]           # เลือกข้อมูลทุก row ในคอลัมน์ที่ 2 และ 4 จาก array เริ่มต้น\n",
    "print(sub_x)"
   ]
  },
  {
   "cell_type": "code",
   "execution_count": null,
   "id": "a35896c8",
   "metadata": {
    "tags": [
     "hide-output"
    ]
   },
   "outputs": [],
   "source": [
    "# ใช้ row_selector เพื่อเลือกเฉพาะ row ที่ตรงกับเงื่อนไข\n",
    "# สำหรับแต่ละ row ที่เลือก หาผลรวม (sum) ในแนวคอลัมน์ (axis=0)\n",
    "total = np.sum(sub_x[row_selector, :], axis=0)\n",
    "print(total)"
   ]
  },
  {
   "cell_type": "markdown",
   "id": "abedbdeb",
   "metadata": {},
   "source": [
    "## View และ Copy\n",
    "\n",
    "**การสร้างตัวแปรใหม่ โดยเลือกข้อมูลจาก array ที่มีอยู่แล้ว** ด้วยการใช้ **index** และ **slice** คือการสร้าง **`View`** ของข้อมูล\n",
    "\n",
    "หากมี**การแก้ไขค่าตัวแปรใหม่(View)** จะทำให้ข้อมูลใน array ตนทางเปลี่ยนแปลงตามไปด้วย"
   ]
  },
  {
   "cell_type": "code",
   "execution_count": null,
   "id": "7a502574",
   "metadata": {
    "tags": [
     "hide-output"
    ]
   },
   "outputs": [],
   "source": [
    "x = np.ones((3,3))\n",
    "print(x)\n",
    "\n",
    "y = x[:2,:2] \t      # สร้าง view ด้วยการ slice\n",
    "print(y)\n",
    "\n",
    "x[0,0] = 0\n",
    "print(x)\n",
    "print(y)"
   ]
  },
  {
   "cell_type": "markdown",
   "id": "621df6ba",
   "metadata": {},
   "source": [
    "เพื่อให้ค่าในตัวแปรใหม่แยกออกจาก array ต้นทางอย่างเด็ดขาด เราสามารถใช้ฟังก์ชัน `.copy()` ในการสร้าง copy ใหม่ของข้อมูลได้\n",
    "\n",
    "**ตัวอย่าง**"
   ]
  },
  {
   "cell_type": "code",
   "execution_count": null,
   "id": "461e4f1d",
   "metadata": {
    "tags": [
     "hide-output"
    ]
   },
   "outputs": [],
   "source": [
    "x = np.ones((3,3))\n",
    "y = x[:2,:2].copy() \t      # สร้าง copy ใหม่จากข้อมูลที่ slice ออกมา\n",
    "print(y)\n",
    "\n",
    "x[0,0] = 0\n",
    "print(x)\n",
    "print(y)"
   ]
  },
  {
   "cell_type": "markdown",
   "id": "9bb473d0",
   "metadata": {},
   "source": [
    "## การคำนวณ Matrix\n",
    "\n",
    "\n",
    "### Matrix Multiplication\n",
    "\n",
    "ตามหลักคณิตศาสตร์ การคูณกันแบบเมตริกซ์จะได้ผลดังที่แสดงดังรูปต่อไปนี้\n",
    "\n",
    "\n",
    "<img width=\"300\" src=\"data:image/png;base64,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\"/>\n",
    "\n",
    "\n",
    "เราสามารถใช้ `@` operator หรือใช้ฟังก์ชัน `.dot()` สำหรับการคูณ array ในแบบเมตริกซ์ (สำหรับ Python เวอร์ชัน 3.5 ขึ้นไป) ทั้งนี้ array ที่นำมาคูณกันแบบเมตริกซ์ต้องมี `shape` ที่สอดคล้องกันด้วย"
   ]
  },
  {
   "cell_type": "code",
   "execution_count": null,
   "id": "000f1df3",
   "metadata": {
    "tags": [
     "hide-output"
    ]
   },
   "outputs": [],
   "source": [
    "x = np.array([[1,2],[3,4]])\n",
    "y = np.array([[1,1],[1,1]])\n",
    "print(x)\n",
    "print(y)"
   ]
  },
  {
   "cell_type": "code",
   "execution_count": null,
   "id": "7cf9feee",
   "metadata": {
    "tags": [
     "hide-output"
    ]
   },
   "outputs": [],
   "source": [
    "print(x*y)            # item-wise multiplication (คูณข้อมูลในตำแหน่งเดียวกัน)\n",
    "\n",
    "print(x@y)            # Matrix multiplication (คูณกันแบบ matrix)\n",
    "print(np.dot(x,y))"
   ]
  },
  {
   "cell_type": "markdown",
   "id": "09228872",
   "metadata": {},
   "source": [
    "### Matrix Transposition\n",
    "\n",
    "สำหรับการทำ Transpose สามารถทำได้โดยการเรียกใช้ **`.T`**"
   ]
  },
  {
   "cell_type": "code",
   "execution_count": null,
   "id": "47069114",
   "metadata": {
    "tags": [
     "hide-output"
    ]
   },
   "outputs": [],
   "source": [
    "x = np.array([[1, 2, 3],[4, 5, 6]])\n",
    "print( x, x.shape )\n",
    "\n",
    "y = x.T\n",
    "print( y, y.shape )"
   ]
  },
  {
   "cell_type": "markdown",
   "id": "b736b27b",
   "metadata": {},
   "source": [
    "```{warning}\n",
    "การทำ Transpose กับ 1D-array จะได้ผลลัพธ์เป็น 1D-array เหมือนเดิม\n",
    "```"
   ]
  },
  {
   "cell_type": "code",
   "execution_count": null,
   "id": "c66bc11b",
   "metadata": {
    "tags": [
     "hide-output"
    ]
   },
   "outputs": [],
   "source": [
    "x = np.array([1, 2, 3])\n",
    "print(x, x.shape)\n",
    "\n",
    "y = x.T\n",
    "print(y, y.shape)"
   ]
  },
  {
   "cell_type": "markdown",
   "id": "08fde6b7",
   "metadata": {},
   "source": [
    "```{warning}\n",
    "ผลลัพธ์จากการ Transpose ถือเป็น View เช่นกัน ถ้ามีการเปลี่ยนแปลงค่าจะส่งผลไปยัง array ตั้งต้นด้วย\n",
    "```"
   ]
  },
  {
   "cell_type": "code",
   "execution_count": null,
   "id": "335ff8cb",
   "metadata": {
    "tags": [
     "hide-output"
    ]
   },
   "outputs": [],
   "source": [
    "x = np.array([[1, 2, 3]])\n",
    "print( x )\n",
    "\n",
    "y = x.T         # สร้าง view จากการ Transpose\n",
    "y[0,0] = 100    # แก้ไข view\n",
    "print( x )      # array ต้นทางเปลี่ยนค่าตามไปด้วย"
   ]
  },
  {
   "cell_type": "markdown",
   "id": "4fef1181",
   "metadata": {},
   "source": [
    "### Linear Algebra Module\n",
    "\n",
    "NumPy มีโมดูลย่อย **`np.linalg`** สำหรับการคำนวณด้านพีชคณิตเชิงเส้น โดยมีฟังก์ชันให้ใช้งาน เช่น `np.linalg.det()` `np.linalg.inv()` `np.linalg.solve()`"
   ]
  },
  {
   "cell_type": "code",
   "execution_count": null,
   "id": "b42816d7",
   "metadata": {
    "tags": [
     "hide-output"
    ]
   },
   "outputs": [],
   "source": [
    "x = np.array([[1,2],[3,4]])\n",
    "print(x)\n",
    "\n",
    "print()\n",
    "print(np.linalg.det(x)) # determinant\n",
    "\n",
    "print()\n",
    "print(np.linalg.inv(x)) # inversion"
   ]
  },
  {
   "cell_type": "markdown",
   "id": "8cb39c6f",
   "metadata": {},
   "source": [
    "### การแก้สมการหลายตัวแปร\n",
    "\n",
    "ในกรณีที่ต้องการแก้สมการหลายตัวแปร เราสามารถประยุกต์ใช้ความรู้ด้านเมตริกซ์มาช่วยแก้ปัญหา โดยการแปลงรูปสมการให้อยู่ในรูปเมตริกซ์ในรูปแบบดังต่อไปนี้\n",
    "\n",
    "<img width=\"400\" src=\"data:image/png;base64,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\"/>\n",
    "\n",
    "\n",
    "เราสามารถเขียนโค้ดเพื่อแก้ปัญหาเพื่อหาค่า `x1` และ `x2` ได้ดังนี้"
   ]
  },
  {
   "cell_type": "code",
   "execution_count": null,
   "id": "818bcce2",
   "metadata": {
    "tags": [
     "hide-output"
    ]
   },
   "outputs": [],
   "source": [
    "A = np.array([[1,2],[3,4]])   # 2D array\n",
    "b = np.array([5,6])           # 1D array\n",
    "\n",
    "x = np.linalg.solve(A,b)      # ใช้ฟังก์ชัน linalg.solve() ในการหาคำตอบ\n",
    "print(x)\n",
    "\n",
    "x = np.linalg.inv(A) @ b      # หาคำตอบโดยคำนวณหาค่าของ A-inverse @ b\n",
    "print(x)"
   ]
  }
 ],
 "metadata": {
  "jupytext": {
   "formats": "notebook//ipynb,md//md",
   "main_language": "python"
  },
  "kernelspec": {
   "display_name": "Python 3",
   "name": "python3"
  }
 },
 "nbformat": 4,
 "nbformat_minor": 5
}
