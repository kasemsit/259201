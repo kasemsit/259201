{
 "cells": [
  {
   "cell_type": "markdown",
   "id": "c30350de",
   "metadata": {
    "id": "LVWjo8GPhlGg"
   },
   "source": [
    "# Iterations and Collections\n",
    "\n",
    "\n",
    "```{admonition} Topics\n",
    "- ทบทวนเรื่อง Collections\n",
    "- การใช้ While-loop กับ Collections\n",
    "- การใช้ For-loop กับ Collections\n",
    "```\n",
    "\n",
    "\n",
    "## Review of Python Collections\n",
    "\n",
    "\n",
    "\n",
    "\n",
    "## List\n",
    "\n",
    "การใช้ตัวแปรจำนวนมาก อาจไม่เหมาะกับการทำงานกับข้อมูลจำนวนมาก เช่น\n",
    "- ชื่อของนักศึกษาหลายคน อาจใช้ตัวแปร `name1, name2, name3, …`\n",
    "- คะแนนของนักศึกษาในห้อง อาจใช้ตัวแปร `score1, score2, score3, …`\n",
    "\n",
    "ลิสต์ (List) คือการเก็บชุดข้อมูลที่เกี่ยวข้องกันจำนวนหลาย ๆ ตัวให้อยู่ภายใต้ตัวแปรเดียวกัน\n",
    "\n",
    "<img src='https://drive.google.com/uc?id=1YnpVQlEPDf1Zh5L5xHw9uvBee8sL-BSu' width='550'>\n",
    "\n",
    "- พื้นที่เก็บข้อมูลแต่ละช่อง คือพื้นที่สำหรับจัดเก็บข้อมูลแต่ละตัว (Element)\n",
    "- พื้นที่เก็บข้อมูลแต่ละ item จะอ้างอิงด้วย ชื่อลิสต์และหมายเลขระบุตำแหน่ง (Index)\n",
    " - `data[index]`\n",
    " - `index` มีค่าเริ่มต้นเป็น `0` เสมอ : ระบุถึงพื้นที่ตำแหน่งแรก (หรือช่องแรก)\n",
    " - `index` มีค่ามากที่สุดคือ `n-1` : ใช้ระบุพื้นที่ตำแหน่งสุดท้าย เมื่อ `n` จำนวนพื้นที่ทั้งหมดของลิสต์\n",
    "\n",
    "ลิสต์ใน Python เทียบเคียงได้กับ **array** ในภาษาคอมพิวเตอร์อื่น ๆ\n",
    "\n",
    "\n",
    "\n",
    "### การเพิ่มข้อมูลลงในลิสต์\n",
    "\n",
    "ตัวแปร List มีความสามารถ/คำสั่งติดตัว ที่ช่วยในการเพิ่มข้อมูลใหม่ให้กับ List คือ\n",
    "- `.append()` เพิ่มข้อมูล**ต่อท้าย** List\n",
    "- `.insert()` **แทรกข้อมูล**ในตำแหน่ง `index` ที่ต้องการ\n",
    "\n",
    "นอกจากนี้ยังมี `operator` ที่ช่วยในการเพิ่มข้อมูลต่อท้าย List ได้แก่\n",
    "- `+` ใช้**เชื่อมต่อ** List เข้าด้วยกัน (concatenation)\n",
    "- `*` ใช้เพิ่มข้อมูลให้มีหลายชุดตาม**จำนวน**ที่ต้องการ"
   ]
  },
  {
   "cell_type": "code",
   "execution_count": null,
   "id": "f2d56bb3",
   "metadata": {
    "id": "pCBLqnerkvIC"
   },
   "outputs": [],
   "source": [
    "a = [16.5, 2.0, 77.5, 40.0, 0.5, 11.15, 0.0, 1.0, 1.0, 1.0, 112071.5]\n",
    "print( f'len(a): {len(a)}' )\n",
    "print( f'1st item: {a[4]}, last item = {a[len(a)-1]}')\n",
    "print( f'a[1]+a[2]+a[3]: {a[1]+a[2]+a[3]}')\n",
    "\n",
    "print()\n",
    "a.append(999)\n",
    "print(f'After append(999):\\n{a}')\n",
    "a.insert(0,888)\n",
    "print(f'After insert(0,888):\\n{a}')"
   ]
  },
  {
   "cell_type": "markdown",
   "id": "68625718",
   "metadata": {},
   "source": [
    "### การลบข้อมูลจากลิสต์\n",
    "\n",
    "ตัวแปร List มีคำสั่งติดตัวที่ใช้ในการลบข้อมูล คือ\n",
    "- `.remove()` ลบข้อมูลที่มีค่าตามที่ระบุจาก List\n",
    "- `.pop()` ลบข้อมูลในตำแหน่ง `index` ที่ระบุออกจาก List\n",
    "- `.clear()` ลบข้อมูลทั้งหมดจาก List"
   ]
  },
  {
   "cell_type": "code",
   "execution_count": null,
   "id": "da7c6736",
   "metadata": {
    "id": "LDeke4FT2TFq"
   },
   "outputs": [],
   "source": [
    "a = [16.5, 2.0, 77.5, 40.0, 0.5, 11.15, 0.0, 1.0, 1.0, 1.0, 112071.5]\n",
    "print(a)\n",
    "a.remove(1.0)\n",
    "print(f'After remove(1.0):\\n{a}')\n",
    "\n",
    "a.pop()\n",
    "print(f'After pop():\\n{a}')\n",
    "a.pop(0)\n",
    "print(f'After pop(0):\\n{a}')\n",
    "\n",
    "a.clear()\n",
    "print(f'After clear():\\n{a}')"
   ]
  },
  {
   "cell_type": "markdown",
   "id": "b997c5b9",
   "metadata": {},
   "source": [
    "## Tuple\n",
    "\n",
    "- มีการเก็บข้อมูลในลักษณะเดียวกันกับลิสต์ แต่**ไม่สามารถเปลี่ยนแปลงค่าในภายหลังได้** (immutable)\n",
    "- ใช้เครื่องหมายวงเล็บ `(...)` ในการสร้างลิสต์ โดยการระบุรายการชุดข้อมูลไว้ภายใน แล้วขั้นข้อมูลแต่ละตัวด้วย `,`\n",
    "- การอ้างอิงข้อมูลแต่ละ item จะใช้ค่า `index` ซึ่งเป็นค่า int เหมือนกันกับลิสต์"
   ]
  },
  {
   "cell_type": "code",
   "execution_count": null,
   "id": "be63cbc5",
   "metadata": {
    "id": "ZshPbnm33mjM"
   },
   "outputs": [],
   "source": [
    "b = (100,200,300,400,500,2.5,3.5,4.5,'hello')\n",
    "print( f'b[2]+b[3]+b[4] = {b[2]+b[3]+b[4]}')"
   ]
  },
  {
   "cell_type": "code",
   "execution_count": null,
   "id": "c45cbac0",
   "metadata": {
    "id": "PNqyvtsG5NPv"
   },
   "outputs": [],
   "source": [
    "print( b[len(b)-1] )\n",
    "# b[len(b)-1] = 5.5                  # assignment error"
   ]
  },
  {
   "cell_type": "markdown",
   "id": "f7b1da8a",
   "metadata": {},
   "source": [
    "### Slice operation\n",
    "\n",
    "การเข้าถึง**ช่วงของข้อมูล**ใน List และ Tuple ด้วยการ slice โดยการกำหนดค่า `index` ในรูปแบบ **`ตัวแปรลิสต์[start:stop:step]`**\n",
    "- `start` คือ ค่า index ที่เป็น**จุดเริ่มต้น**\n",
    "- `stop` คือ ค่า index ที่เป็น**จุดสิ้นสุด** (แต่ไม่รวม item นี้)\n",
    "- `step` คือ **การเพิ่มค่า** index ทีละ +step\n",
    "\n",
    "ผลลัพธ์จากการ slice คือ **ลิสต์ของข้อมูล**"
   ]
  },
  {
   "cell_type": "code",
   "execution_count": null,
   "id": "f766d307",
   "metadata": {
    "id": "3_KRlvo06TTR"
   },
   "outputs": [],
   "source": [
    "a = [100,200,300,400,500,2.5,3.5,4.5,5.5]\n",
    "b = (100,200,300,400,500,2.5,3.5,4.5,5.5)\n",
    "\n",
    "print( f'a[0:5] = {a[0:5]}')          # start=0, stop=5, step=1 >> [0,1,2,3,4]\n",
    "print( f'a[4:] = {a[4:]}')            # start=4, stop=last, step=1 >> [4,5,6,7,8]\n",
    "print( f'b[:6] = {b[:6]}')            # start=0, stop=6, step=1 >> [0,1,2,3,4,5]\n",
    "print( f'b[1:7:2] = {b[1:7:2]}')      # start=1, stop=7, step=2 >> [1,3,5]\n",
    "\n",
    "print( f'sum(a[4:]) = {sum( a[4:] )}')        # start=4, stop=last, step=1 >> [4,5,6,7,8]\n",
    "print( f'sum(b[1:7:2]) = {sum( b[1:7:2] )}')  # start=1, stop=7, step=2 >> [1,3,5]"
   ]
  },
  {
   "cell_type": "markdown",
   "id": "454d511b",
   "metadata": {},
   "source": [
    "### การแปลงค่าระหว่าง Tuple และ List\n",
    "\n",
    "หากต้องการแปลงค่าระหว่าง Tuple และ List สามารถทำได้ด้วยคำสั่ง\n",
    "- `list(ตัวแปร tuple)` ได้ผลลัพธ์เป็น List\n",
    "- `tuple(ตัวแปร list)` ได้ผลลัพธ์เป็น Tuple"
   ]
  },
  {
   "cell_type": "code",
   "execution_count": null,
   "id": "1cb474ed",
   "metadata": {
    "id": "tMVVYUlY5k5v"
   },
   "outputs": [],
   "source": [
    "b = (100,200,300,400,500,2.5,3.5,4.5,5.5)\n",
    "print(f'tuple b:\\n{b}')\n",
    "\n",
    "b = list(b)\n",
    "print(f'list b:\\n{b}')\n",
    "\n",
    "b = b+b[0:5]\n",
    "b = tuple(b)\n",
    "print(f'tuple b:\\n{b}')"
   ]
  },
  {
   "cell_type": "markdown",
   "id": "64d7318a",
   "metadata": {},
   "source": [
    "## Set\n",
    "\n",
    "- ใช้จัดเก็บชุดข้อมูลที่จะนำมาประมวลผลแบบเซ็ตในทางคณิตศาสตร์\n",
    "- ใช้เครื่องหมาย `{...}` ในการสร้างเซ็ต โดยการระบุรายการชุดข้อมูลไว้ภายใน แล้วขั้นข้อมูลแต่ละตัวด้วย `,`\n",
    "- **ไม่สามารถเก็บข้อมูลซ้ำกันได้** (unique)\n",
    "- ไม่รองรับการอ้างอิงข้อมูลด้วยค่า `index` เนื่องจากการเก็บข้อมูลไม่มีลำดับ (unordered)\n",
    "- รองรับตัวดำเนินการแบบ `Union`, `intersection`, `-`\n",
    "\n",
    "\n",
    "\n",
    "### การเพิ่มข้อมูลและลบข้อมูลใน Set\n",
    "\n",
    "ตัวแปร Set มีคำสั่งติดตัวที่ใช้ในการจัดการข้อมูล คือ\n",
    "- `.add()`\n",
    "- `.update()`\n",
    "- `.remove()`\n",
    "- `.discard()`\n",
    "- `.clear()`"
   ]
  },
  {
   "cell_type": "code",
   "execution_count": null,
   "id": "e0189f77",
   "metadata": {
    "id": "1XzitggR-vmA"
   },
   "outputs": [],
   "source": [
    "c = {1,2,2,3,3,5,8}\n",
    "print(c)\n",
    "\n",
    "# เพิ่มข้อมูลทีละตัว\n",
    "c.add(4)\n",
    "print(f'After .add(10):\\n{c}')\n",
    "\n",
    "# เพิ่มข้อมูลจาก set อื่น\n",
    "c.update({100,200,300})\n",
    "print(f'After .update(100,200,300):\\n{c}')\n",
    "\n",
    "# discard ค่าที่ไม่มีใน Set ไม่ทำให้เกิด error\n",
    "c.discard(1000)\n",
    "c.discard(100)\n",
    "print(f'After .discard(100):\\n{c}')\n",
    "\n",
    "c.clear()\n",
    "print(f'After .clear():\\n{c}')"
   ]
  },
  {
   "cell_type": "markdown",
   "id": "cdb3ad08",
   "metadata": {},
   "source": [
    "## Dictionary\n",
    "\n",
    "- เก็บข้อมูลเป็น item คล้ายกับลิสต์ แต่ใช้ค่า **key** ซึ่งไม่จำเป็นต้องมีค่าแบบ `int` ในการอ้างอิงข้อมูล\n",
    "- ค่า **key** สำหรับการอ้างอิง สามารถเป็นข้อมูลแบบ `int`, `float`, `string`, `tuple` ก็ได้\n",
    "- ค่า **key** เมื่อกำหนดไปแล้ว **จะไม่สามารถเปลี่ยนแปลงได้**"
   ]
  },
  {
   "cell_type": "code",
   "execution_count": null,
   "id": "31c20c6f",
   "metadata": {
    "id": "Cd4htT48hiqu"
   },
   "outputs": [],
   "source": [
    "p = {\"name\":\"Harry Potter\", \"isMale\": True, \"midterm\":25, \"final\":30}\n",
    "print( f'Name = {p[\"name\"]}' )\n",
    "print( f'Score = {p[\"midterm\"] + p[\"final\"]}')\n",
    "\n",
    "p['name'] = 'Rionel Messi'\n",
    "print(p)"
   ]
  },
  {
   "cell_type": "markdown",
   "id": "3dcdcefd",
   "metadata": {
    "id": "BrG5zUZPkPZD"
   },
   "source": [
    "### การเพิ่มข้อมูลให้กับ Dict\n",
    "เราสามารถเพิ่มข้อมูล item ใหม่ใน Dict ได้ด้วยการกำหนดค่าให้กับ `key` ที่ไม่เคยมีมาก่อนใน Dict"
   ]
  },
  {
   "cell_type": "code",
   "execution_count": null,
   "id": "e253292a",
   "metadata": {
    "id": "-U7CNX3O8vzS"
   },
   "outputs": [],
   "source": [
    "p[\"weight\"] = 65.25\n",
    "p[\"height\"] = 180.0\n",
    "print(p)"
   ]
  },
  {
   "cell_type": "markdown",
   "id": "075cebf5",
   "metadata": {},
   "source": [
    "### การลบข้อมูลจาก Dict\n",
    "\n",
    "ตัวแปร Dict มีคำสั่งติดตัวสำหรับการลบข้อมูล เช่น\n",
    "- `.pop()` ลบข้อมูลด้วยค่า `key` ที่ระบุ\n",
    "- `.popitem()` ลบข้อมูลรายการสุดท้ายใน Dict\n",
    "- `.clear()`ลบข้อมูลทั้งหมดใน Dict"
   ]
  },
  {
   "cell_type": "code",
   "execution_count": null,
   "id": "8e637ab8",
   "metadata": {
    "id": "M5jHA_e08o0F"
   },
   "outputs": [],
   "source": [
    "p = {'name': 'Rionel Messi', 'isMale': True, 'midterm': 25, 'final': 30, 'weight': 65.25, 'height': 180.0}\n",
    "print(p)\n",
    "\n",
    "weight = p.pop('weight')       # remove 'weight\" key-value pair\n",
    "print(p)\n",
    "\n",
    "height = p.popitem()\n",
    "print(p)\n",
    "\n",
    "p.clear()\n",
    "print(p)"
   ]
  },
  {
   "cell_type": "markdown",
   "id": "72dd8711",
   "metadata": {},
   "source": [
    "### การดูรายการ key ทั้งหมดใน Dict\n",
    "\n",
    "สามารถใช้คำสั่ง `.keys()` ในการแสดงรายการ `key` ทั้งหมดได้"
   ]
  },
  {
   "cell_type": "code",
   "execution_count": null,
   "id": "2a2d6b1b",
   "metadata": {
    "id": "hjp4wVYM9-QJ"
   },
   "outputs": [],
   "source": [
    "p = {'name': 'Rionel Messi', 'isMale': True, 'midterm': 25, 'final': 30, 'weight': 65.25, 'height': 180.0}\n",
    "print(p)\n",
    "\n",
    "keys = p.keys()\n",
    "print( list(keys) )"
   ]
  },
  {
   "cell_type": "markdown",
   "id": "4e9800c4",
   "metadata": {},
   "source": [
    "### การดูรายการข้อมูลทั้งหมดใน Dict\n",
    "\n",
    "สามารถใช้คำสั่ง `.items()` ในการแสดงรายการข้อมูลทั้งหมดใน Dict ได้\n",
    "\n",
    "สังเกตุได้ว่าผลลัพธ์ที่ได้จะอยู่ในรูปแบบ **`List ของ Tuple จำนวนมาก`**\n",
    "\n",
    "```\n",
    "[(key1, value1),(key2, value2),(key3, value3),...,(keyN,valueN)]\n",
    "```"
   ]
  },
  {
   "cell_type": "code",
   "execution_count": null,
   "id": "eb8bcd3b",
   "metadata": {
    "id": "FEFZ4hj6-BNW"
   },
   "outputs": [],
   "source": [
    "p = {'name': 'Rionel Messi', 'isMale': True, 'midterm': 25, 'final': 30, 'weight': 65.25, 'height': 180.0}\n",
    "print(p)\n",
    "\n",
    "items = p.items()\n",
    "print( list(items) )"
   ]
  },
  {
   "cell_type": "markdown",
   "id": "4ac2427a",
   "metadata": {},
   "source": [
    "## การใช้ Iteration กับ Collections\n",
    "\n",
    "ในกรณีที่มีข้อมูลจัดเก็บอยู่ใน collection เป็นจำนวนมาก การเข้าถึงข้อมูลแต่ละตัวด้วยการระบุ **index** ของแต่ละ **item** ภายใน collection เองถือเป็นเรื่องที่ไม่สะดวกนัก เช่น"
   ]
  },
  {
   "cell_type": "code",
   "execution_count": null,
   "id": "b89dd1d8",
   "metadata": {
    "id": "PZqBW6X1-T42"
   },
   "outputs": [],
   "source": [
    "d = [10,30,40,15,50,60,5,10,35,50]\n",
    "print(f'{d[0]} {d[1]} {d[2]} {d[3]} {d[4]} {d[5]} {d[6]} {d[7]} {d[8]} {d[9]}')"
   ]
  },
  {
   "cell_type": "markdown",
   "id": "9e044b8e",
   "metadata": {},
   "source": [
    "เราสามารถนำเอา iteration/loop มาใช้ในการประมวลผลเพื่อช่วยให้การเข้าถึงข้อมูลภายใน collection ทำได้สะดวกขึ้นได้\n",
    "\n",
    "\n",
    "## การใช้ loop เพื่อสร้างตัวเลข index เพื่อเข้าถึงข้อมูลใน collection\n",
    "\n",
    "เราสามารถใช้ **While-loop** เพื่อสร้างตัวเลขที่ใช้เป็น **index** สำหรับ collection แทนได้ เช่น"
   ]
  },
  {
   "cell_type": "code",
   "execution_count": null,
   "id": "42daa220",
   "metadata": {
    "id": "SumWJXp3HouK"
   },
   "outputs": [],
   "source": [
    "# from left-to-right\n",
    "d = [10,30,40,15,50,60,5,10,35,50]\n",
    "i = 0                     # index=0\n",
    "\n",
    "while i<len(d):           # index<10 : [0,1,2,3,4,5,6,7,8,9]\n",
    "  print(d[i],end=\" \")     # d[i] คือ ข้อมูลแต่ละตัวที่เก็บภายใน collection\n",
    "  i+=1"
   ]
  },
  {
   "cell_type": "code",
   "execution_count": null,
   "id": "3389e3b7",
   "metadata": {
    "id": "IqaJBWH4IQOT"
   },
   "outputs": [],
   "source": [
    "# from right-to-left\n",
    "d = [10,30,40,15,50,60,5,10,35,50]\n",
    "i = len(d)-1              # index=9\n",
    "\n",
    "while i>=0:               # index>=0 : [9,8,7,6,5,4,3,2,1,0]\n",
    "  print(d[i],end=\" \")\n",
    "  i-=1"
   ]
  },
  {
   "cell_type": "markdown",
   "id": "c74a3586",
   "metadata": {
    "id": "jrG6AB1ZI831"
   },
   "source": [
    "ในทำนองเดียวกัน เราสามารถใช้ **For-loop** และคำสั่ง **`range()`** เพื่อสร้างตัวเลขที่ใช้เป็น **index** ได้เช่นกัน"
   ]
  },
  {
   "cell_type": "code",
   "execution_count": null,
   "id": "7e6757db",
   "metadata": {
    "id": "8TnIMQ5GJO1_"
   },
   "outputs": [],
   "source": [
    "# from left-to-right\n",
    "d = [10,30,40,15,50,60,5,10,35,50]\n",
    "\n",
    "for i in range(len(d)):     # range(10) : [0,1,2,3,4,5,6,7,8,9]\n",
    "  print(d[i],end=\" \")       # d[i] คือ ข้อมูลแต่ละตัวที่เก็บภายใน collection"
   ]
  },
  {
   "cell_type": "code",
   "execution_count": null,
   "id": "5f7a4c44",
   "metadata": {
    "id": "uPjWGk4ZJi-h"
   },
   "outputs": [],
   "source": [
    "# from right-to-left\n",
    "d = [10,30,40,15,50,60,5,10,35,50]\n",
    "\n",
    "for i in range(len(d)-1,-1,-1): # range(9,-1,-1) : [9,8,7,6,5,4,3,2,1,0]\n",
    "  print(d[i],end=\" \")"
   ]
  },
  {
   "cell_type": "markdown",
   "id": "b49886df",
   "metadata": {},
   "source": [
    "เราสามารถประยุกต์ใช้ Condition ร่วมกับ loop ได้ เช่น"
   ]
  },
  {
   "cell_type": "code",
   "execution_count": null,
   "id": "dd8d0f67",
   "metadata": {
    "id": "jQsD-bteK000"
   },
   "outputs": [],
   "source": [
    "# หาผลรวมข้อมูลที่มากกว่า 25\n",
    "d = [10,30,40,15,50,60,5,10,35,50]\n",
    "i = 0                   # index=0\n",
    "sm = 0                  # sum=0\n",
    "\n",
    "while i<len(d):         # index<10 : [0,1,2,3,4,5,6,7,8,9]\n",
    "  if d[i] > 25:\n",
    "    sm+=d[i]            # ผลรวมสะสมของข้อมูลที่ > 25\n",
    "    print(d[i],end=\" \")\n",
    "  i+=1\n",
    "\n",
    "print(f'\\nsum(>25): {sm}')"
   ]
  },
  {
   "cell_type": "markdown",
   "id": "7e03c42f",
   "metadata": {
    "id": "xlF1d8PfL10J"
   },
   "source": [
    "หรือ หากใช้ For-loop กับ Condition ดังตัวอย่างต่อไปนี้"
   ]
  },
  {
   "cell_type": "code",
   "execution_count": null,
   "id": "0a2d4d7f",
   "metadata": {
    "id": "YUwEJpTgL-cO"
   },
   "outputs": [],
   "source": [
    "d = [10,30,40,15,50,60,5,10,35,50]\n",
    "sm = 0\n",
    "for i in range(len(d)): # range(10) : [0,1,2,3,4,5,6,7,8,9]\n",
    "  if d[i] > 25:\n",
    "    print(d[i],end=\" \")\n",
    "    sm += d[i]          # ผลรวมสะสมของข้อมูลที่ > 25\n",
    "\n",
    "print(f'\\nsum(>25): {sm}')"
   ]
  },
  {
   "cell_type": "markdown",
   "id": "03a6ed78",
   "metadata": {
    "id": "W7Cm4OaXKf0d"
   },
   "source": [
    "---\n",
    "\n",
    "## การใช้ For-loop เพื่อเข้าถึงข้อมูลใน collection โดยตรง\n",
    "\n",
    "นอกจากการใช้ loop สร้างค่า index สำหรับเข้าถึงข้อมูลใน collection คล้ายกับที่มีในภาษาคอมพิวเตอร์อื่น ๆ แล้ว ภาษา **Python** ยังมีรูปแบบการใช้งาน For-loop อีกรูปแบบหนึ่งที่**สามารถเข้าถึงข้อมูลโดยไม่จำเป็นต้องสร้างค่า index ก่อน** โดยมีรูปแบบการใช้งานดังตัวอย่างต่อไปนี้\n",
    "\n",
    "### For-loop และ List\n",
    "\n",
    "```python\n",
    "collection_variable = [1,2,3,4,5,...]\n",
    "\n",
    "for x in collection_variable:\n",
    "  print(x)\n",
    "\n",
    "```\n",
    "ตัวแปร **x** ในแต่ละรอบการทำงานคือ ***item*** หรือข้อมูลแต่ละรายการที่เก็บอยู่ใน collection (เรียงลำดับจากห้องที่มีค่า **index=0,1,2,...**)"
   ]
  },
  {
   "cell_type": "code",
   "execution_count": null,
   "id": "6b353b58",
   "metadata": {
    "id": "ZtMn7UdvJ80q"
   },
   "outputs": [],
   "source": [
    "d = [10,30,40,15,50,60,5,10,35,50]\n",
    "\n",
    "for x in d:\n",
    "  print(x, end=\" \")   # x คือ ข้อมูลแต่ละตัวที่เก็บภายใน collection"
   ]
  },
  {
   "cell_type": "markdown",
   "id": "c7793d97",
   "metadata": {
    "id": "UbunefYiPGMx"
   },
   "source": [
    "เมื่อเปรียบเทียบกับ For-loop แบบเดิมที่ใช้คำสั่ง **`range()`** สร้างค่า **index** ดังตัวอย่างก่อนหน้านี้\n",
    "\n",
    "```python\n",
    "d = [10,30,40,15,50,60,5,10,35,50]\n",
    "\n",
    "for i in range(len(d)): # range(10) : [0,1,2,3,4,5,6,7,8,9]\n",
    "  print(d[i],end=\" \")   # d[i] คือ ข้อมูลแต่ละตัวที่เก็บภายใน collection\n",
    "\n",
    "```\n",
    "\n",
    "ที่ตัวแปร **`i`** จะเก็บค่าตัวเลขที่ใช้เป็น index ดังนั้นถ้าต้องการ ตัว**ข้อมูล**จะต้องอ้างอิงด้วย **`d[i]`** อีกครั้ง"
   ]
  },
  {
   "cell_type": "markdown",
   "id": "c431d617",
   "metadata": {
    "id": "TyUMKxSvUZdC"
   },
   "source": [
    "---\n",
    "### **การใช้ Enumerate**\n",
    "\n",
    "ในบางกรณีที่ยังต้องการค่า **index** ของข้อมูลแต่ละตัว เพื่อประกอบการแสดงผล ก็ยังสามารถทำได้โดยใช้คำสั่ง **`enumerate()`** ดังตัวอย่างต่อไปนี้"
   ]
  },
  {
   "cell_type": "code",
   "execution_count": null,
   "id": "633fff73",
   "metadata": {
    "id": "W0iRiLIJPFhw"
   },
   "outputs": [],
   "source": [
    "d = [10,30,40,15,50,60,5,10,35,50]\n",
    "\n",
    "for i,x in enumerate(d):      # d=[10,30,40,15,50,60,5,10,35,50]\n",
    "  print(f'{i+1}.{x}')         # i คือ ค่า index ของข้อมูลแต่ละตัว = 0,1,2,...\n",
    "                              # x คือ ข้อมูลแต่ละตัวที่เก็บภายใน collection"
   ]
  },
  {
   "cell_type": "markdown",
   "id": "7ec39cbd",
   "metadata": {
    "id": "oYISIrz1VBBp"
   },
   "source": [
    "คำสั่ง **`enumerate()`** จะสร้างรายการ Tuple ของ `(index, value)` สำหรับข้อมูลแต่ละ item ภายใน collection ดังที่แสดงในโค้ดด้านล่าง"
   ]
  },
  {
   "cell_type": "code",
   "execution_count": null,
   "id": "10d24e9e",
   "metadata": {
    "id": "f3wsEVXoU3vH"
   },
   "outputs": [],
   "source": [
    "list(enumerate(d))"
   ]
  },
  {
   "cell_type": "markdown",
   "id": "996951cc",
   "metadata": {
    "id": "SUZ5Ly4kQpbP"
   },
   "source": [
    "---\n",
    "### **การใช้ For-loop กับ Tuple**"
   ]
  },
  {
   "cell_type": "code",
   "execution_count": null,
   "id": "5dc410d4",
   "metadata": {
    "id": "ZYdcTcu3QMZl"
   },
   "outputs": [],
   "source": [
    "names = ('Lisa','Jisoo','Rose','Jennie')\n",
    "for name in names:\n",
    "  print(name)"
   ]
  },
  {
   "cell_type": "code",
   "execution_count": null,
   "id": "b90716d8",
   "metadata": {
    "id": "N-_zwfzmVu5U"
   },
   "outputs": [],
   "source": [
    "names = ('Lisa','Jisoo','Rose','Jennie')\n",
    "for i,name in enumerate(names):\n",
    "  print(f'{i+1}.{name}')"
   ]
  },
  {
   "cell_type": "markdown",
   "id": "8f6caf74",
   "metadata": {
    "id": "MRzl7skGSoyE"
   },
   "source": [
    "---\n",
    "### **การใช้ For-loop กับ Set**"
   ]
  },
  {
   "cell_type": "code",
   "execution_count": null,
   "id": "2af98c14",
   "metadata": {
    "id": "4JdmKs-CRRBJ"
   },
   "outputs": [],
   "source": [
    "teams = {'Manchester United','Barcelona','Juventus','PSG','Barcelona','Liverpool'}\n",
    "for team in teams:\n",
    "  print(team)"
   ]
  },
  {
   "cell_type": "code",
   "execution_count": null,
   "id": "86420bdd",
   "metadata": {
    "id": "P77G-dpmWCGT"
   },
   "outputs": [],
   "source": [
    "teams = {'Manchester United','Barcelona','Juventus','PSG','Barcelona','Liverpool'}\n",
    "for i,team in enumerate(teams):\n",
    "  print(f'{i+1}.{team}')"
   ]
  },
  {
   "cell_type": "markdown",
   "id": "4dfbde79",
   "metadata": {
    "id": "m607013VSrJk"
   },
   "source": [
    "---\n",
    "### **การใช้ For-loop กับ Dictionary**"
   ]
  },
  {
   "cell_type": "code",
   "execution_count": null,
   "id": "25d0cbe5",
   "metadata": {
    "id": "3te9MGecSZWH"
   },
   "outputs": [],
   "source": [
    "person = {'name': 'Rionel Messi', 'isMale': True, 'midterm': 25, 'final': 30, 'weight': 65.25, 'height': 180.0}\n",
    "print(person)"
   ]
  },
  {
   "cell_type": "code",
   "execution_count": null,
   "id": "e8372ff1",
   "metadata": {
    "id": "kIPKB8sbRfpy"
   },
   "outputs": [],
   "source": [
    "for k in person:\n",
    "  print(k)          # k คือชื่อของ key"
   ]
  },
  {
   "cell_type": "code",
   "execution_count": null,
   "id": "eaa3eb6e",
   "metadata": {
    "id": "Y54eNhfNS_Uy"
   },
   "outputs": [],
   "source": [
    "for k in person:\n",
    "  print(person[k])  # p[k] คือค่า value ของ key แต่ละตัว"
   ]
  },
  {
   "cell_type": "code",
   "execution_count": null,
   "id": "c88d11ac",
   "metadata": {
    "id": "MTR--OScWsHe"
   },
   "outputs": [],
   "source": [
    "for k in person:\n",
    "  print(f'{k}: {person[k]}')"
   ]
  },
  {
   "cell_type": "code",
   "execution_count": null,
   "id": "89219e19",
   "metadata": {
    "id": "GRRy9YhdTTft"
   },
   "outputs": [],
   "source": [
    "for i,k in enumerate(person):\n",
    "  print(f'{i+1}.{k}: {person[k]}')"
   ]
  },
  {
   "cell_type": "markdown",
   "id": "6c34c86f",
   "metadata": {
    "id": "JSQAqAGDX6M2"
   },
   "source": [
    "---\n",
    "### **การใช้ For-loop กับ Collection หลายมิติ**\n",
    "\n",
    "**List of Dict**"
   ]
  },
  {
   "cell_type": "code",
   "execution_count": null,
   "id": "7f16cb43",
   "metadata": {
    "id": "jXimlqfYWhmh"
   },
   "outputs": [],
   "source": [
    "# List of Dict\n",
    "students = [\n",
    "    {\"name\":\"John\",\"gender\":\"male\",\"height\":180.5,\"weight\":80},\n",
    "    {\"name\":\"Jane\",\"gender\":\"female\",\"height\":176,\"weight\":60.5},\n",
    "    {\"name\":\"Steve\",\"gender\":\"male\",\"height\":177.5,\"weight\":82}\n",
    "]"
   ]
  },
  {
   "cell_type": "code",
   "execution_count": null,
   "id": "adfa8ad9",
   "metadata": {
    "id": "Q3SLAtWSdzQi"
   },
   "outputs": [],
   "source": [
    "max_height = 0                    # ตัวแปรเก็บความสูงที่มากที่สุด\n",
    "tallest_student = ''              # ตัวแปรเก็บชื่อคนที่สูงที่สุด\n",
    "\n",
    "for s in students:\n",
    "  print(f\"{s['name']} is {s['height']} cm tall.\")\n",
    "\n",
    "  if s['height'] > max_height:    # ถ้าความสูงของนร.คนนี้ สูงกว่า ค่าความสูงที่สุด\n",
    "    max_height = s['height']      # ค่าความสูงที่สุด คือ ความสูงของนร.คนนี้\n",
    "    tallest_student = s['name']   # เก็บชื่อของนร.คนนี้\n",
    "\n",
    "print(f'The tallest person in the group is \"{tallest_student}\".')"
   ]
  },
  {
   "cell_type": "markdown",
   "id": "5e4ec0b0",
   "metadata": {
    "id": "AOOifCDry1yI"
   },
   "source": [
    "คำนวณหาค่า **BMI** ของ นร. แต่ละคน\n",
    "https://www.khonkaenram.com/th/services/health-information/health-articles/med/program-bmi\n",
    "\n",
    "BMI = น้ำหนักตัว(kg.) / (ส่วนสูง(m.))^2"
   ]
  },
  {
   "cell_type": "code",
   "execution_count": null,
   "id": "cd2ee892",
   "metadata": {
    "id": "glxJw82eyfEd"
   },
   "outputs": [],
   "source": [
    "# Calculate BMI: Body Mass Index\n",
    "for s in students:\n",
    "  s['bmi'] = round( s['weight']/(s['height']/100)**2 ,2)\n",
    "\n",
    "for s in students:\n",
    "  print(s)"
   ]
  },
  {
   "cell_type": "markdown",
   "id": "ed57db63",
   "metadata": {
    "id": "Y9yvS7AabmHQ"
   },
   "source": [
    "**Dict of List**"
   ]
  },
  {
   "cell_type": "code",
   "execution_count": null,
   "id": "31eb24af",
   "metadata": {
    "id": "rwZ_Bz9YaL4d"
   },
   "outputs": [],
   "source": [
    "# Dict of List\n",
    "persons = {\n",
    "    \"John\":  [\"male\",180.5,80],\n",
    "    \"Jane\":  [\"female\",176,60.5],\n",
    "    \"Steve\": [\"male\",187.5,82]\n",
    "}"
   ]
  },
  {
   "cell_type": "code",
   "execution_count": null,
   "id": "1d73dc53",
   "metadata": {
    "id": "XNAc8GU_ctlE"
   },
   "outputs": [],
   "source": [
    "max_weight = 0                # ตัวแปรเก็บนน.มากที่สุด\n",
    "heaviest_student = ''         # ตัวแปรเก็บชื่อคนที่นน.มากที่สุด\n",
    "\n",
    "for name in persons:\n",
    "  weight = persons[name][2]   # ดึงค่านน.ของนร.คนนี้ มาเก็บในตัวแปร weight\n",
    "  print(f'{name} is {weight} kilogram.')\n",
    "\n",
    "  if weight > max_weight:     # ถ้านน.ของนร.คนนี้ สูงกว่า ค่าความสูงที่สุด\n",
    "    max_weight = weight       # ค่านน.มากที่สุด คือ นน.ของนร.คนนี้\n",
    "    heaviest_student = name   # เก็บชื่อของนร.คนนี้\n",
    "\n",
    "print(f'The heaviest person in the group is \"{heaviest_student}\".')"
   ]
  },
  {
   "cell_type": "code",
   "execution_count": null,
   "id": "174e1ff3",
   "metadata": {
    "id": "P0_o9ajYd9G9"
   },
   "outputs": [],
   "source": []
  }
 ],
 "metadata": {
  "jupytext": {
   "formats": "notebook//ipynb,md//md",
   "main_language": "python"
  },
  "kernelspec": {
   "display_name": "Python 3",
   "name": "python3"
  }
 },
 "nbformat": 4,
 "nbformat_minor": 5
}
